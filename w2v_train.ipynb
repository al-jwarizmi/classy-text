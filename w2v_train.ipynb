{
 "cells": [
  {
   "cell_type": "markdown",
   "metadata": {},
   "source": [
    "# embedding"
   ]
  },
  {
   "cell_type": "code",
   "execution_count": 7,
   "metadata": {},
   "outputs": [
    {
     "name": "stdout",
     "output_type": "stream",
     "text": [
      "Result embedding shape: (78381, 100)\n",
      "CPU times: user 13min 16s, sys: 2.33 s, total: 13min 18s\n",
      "Wall time: 4min 52s\n"
     ]
    }
   ],
   "source": [
    "%%time\n",
    "\n",
    "import string\n",
    "import gensim\n",
    "\n",
    "sentences = df.tokens\n",
    "\n",
    "# word_model = gensim.models.Word2Vec(sentences, size=100, min_count=1, window=5, iter=15, null_word=0, seed = 2019)\n",
    "# pretrained_weights = word_model.wv.vectors\n",
    "# vocab_size, embedding_size = pretrained_weights.shape\n",
    "# print('Result embedding shape:', pretrained_weights.shape)\n"
   ]
  },
  {
   "cell_type": "code",
   "execution_count": 8,
   "metadata": {},
   "outputs": [],
   "source": [
    "from gensim.test.utils import get_tmpfile\n",
    "from gensim.models import KeyedVectors\n",
    "\n",
    "fname = \"w2v_dish_2M.kv\"\n",
    "# word_model.save(fname)\n"
   ]
  },
  {
   "cell_type": "code",
   "execution_count": 24,
   "metadata": {},
   "outputs": [],
   "source": [
    "word_model = gensim.models.Word2Vec.load(fname, mmap='r')\n",
    "pretrained_weights = word_model.wv.vectors\n",
    "\n",
    "\n",
    "def word2idx(word):\n",
    "    try:    \n",
    "        return word_model.wv.vocab[word].index\n",
    "    except:\n",
    "        return 0\n",
    "    \n",
    "def idx2word(idx):\n",
    "    return word_model.wv.index2word[idx]\n"
   ]
  },
  {
   "cell_type": "code",
   "execution_count": 25,
   "metadata": {},
   "outputs": [],
   "source": [
    "import pickle\n",
    "# Save\n",
    "word_model.save(\"w2v_dish_1M.pkl\")  # Stores *.pkl file\n",
    "# Load\n",
    "# mymodel = pickle.load(\"mymodel.pkl\")"
   ]
  },
  {
   "cell_type": "code",
   "execution_count": 12,
   "metadata": {},
   "outputs": [
    {
     "data": {
      "text/plain": [
       "(64935, 100)"
      ]
     },
     "execution_count": 12,
     "metadata": {},
     "output_type": "execute_result"
    }
   ],
   "source": [
    "pretrained_weights.shape"
   ]
  },
  {
   "cell_type": "code",
   "execution_count": 30,
   "metadata": {},
   "outputs": [],
   "source": [
    "# save for tensorboard embedding projector viz\n",
    "# word_model.wv.save_word2vec_format('dish_w2v')\n",
    "# shell run: python -m gensim.scripts.word2vec2tensor --input dish_w2v --output dish_w2v"
   ]
  }
 ],
 "metadata": {
  "kernelspec": {
   "display_name": "Python 3",
   "language": "python",
   "name": "python3"
  },
  "language_info": {
   "codemirror_mode": {
    "name": "ipython",
    "version": 3
   },
   "file_extension": ".py",
   "mimetype": "text/x-python",
   "name": "python",
   "nbconvert_exporter": "python",
   "pygments_lexer": "ipython3",
   "version": "3.6.8"
  }
 },
 "nbformat": 4,
 "nbformat_minor": 4
}
