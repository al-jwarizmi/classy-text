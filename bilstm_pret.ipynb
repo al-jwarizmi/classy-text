{
 "cells": [
  {
   "cell_type": "code",
   "execution_count": 1,
   "metadata": {},
   "outputs": [],
   "source": [
    "import pandas as pd\n",
    "import numpy as np"
   ]
  },
  {
   "cell_type": "code",
   "execution_count": 2,
   "metadata": {},
   "outputs": [],
   "source": [
    "df = pd.read_pickle('taxonomy_working.pkl')"
   ]
  },
  {
   "cell_type": "code",
   "execution_count": 3,
   "metadata": {},
   "outputs": [
    {
     "data": {
      "text/html": [
       "<div>\n",
       "<style scoped>\n",
       "    .dataframe tbody tr th:only-of-type {\n",
       "        vertical-align: middle;\n",
       "    }\n",
       "\n",
       "    .dataframe tbody tr th {\n",
       "        vertical-align: top;\n",
       "    }\n",
       "\n",
       "    .dataframe thead th {\n",
       "        text-align: right;\n",
       "    }\n",
       "</style>\n",
       "<table border=\"1\" class=\"dataframe\">\n",
       "  <thead>\n",
       "    <tr style=\"text-align: right;\">\n",
       "      <th></th>\n",
       "      <th>Responsable</th>\n",
       "      <th>T1</th>\n",
       "      <th>T2</th>\n",
       "      <th>item_name</th>\n",
       "      <th>item_description</th>\n",
       "      <th>item_code</th>\n",
       "      <th>frn_id</th>\n",
       "      <th>category</th>\n",
       "      <th>_merge</th>\n",
       "      <th>item_text</th>\n",
       "      <th>tokens</th>\n",
       "      <th>n_tokens</th>\n",
       "      <th>prep_text</th>\n",
       "    </tr>\n",
       "  </thead>\n",
       "  <tbody>\n",
       "    <tr>\n",
       "      <th>0</th>\n",
       "      <td>Ana</td>\n",
       "      <td>Pollo</td>\n",
       "      <td>Alitas</td>\n",
       "      <td>Alitas 10 piezas</td>\n",
       "      <td>Salsa a elegir.</td>\n",
       "      <td>72365267</td>\n",
       "      <td>266868</td>\n",
       "      <td>Snacks</td>\n",
       "      <td>both</td>\n",
       "      <td>Snacks Alitas 10 piezas Salsa a elegir</td>\n",
       "      <td>[snacks, alitas, piezas, salsa, elegir]</td>\n",
       "      <td>5</td>\n",
       "      <td>snacks alitas piezas salsa elegir</td>\n",
       "    </tr>\n",
       "    <tr>\n",
       "      <th>1</th>\n",
       "      <td>Rodo</td>\n",
       "      <td>Saludable</td>\n",
       "      <td>Ensalada</td>\n",
       "      <td>Ensalada Philadelphia</td>\n",
       "      <td>A elegir 1 Cama de lechugas Frescas, Más 3 Sem...</td>\n",
       "      <td>69394214</td>\n",
       "      <td>252803</td>\n",
       "      <td>Ensaladas</td>\n",
       "      <td>both</td>\n",
       "      <td>Ensaladas Ensalada Philadelphia A elegir 1 Cam...</td>\n",
       "      <td>[ensaladas, ensalada, philadelphia, elegir, ca...</td>\n",
       "      <td>23</td>\n",
       "      <td>ensaladas ensalada philadelphia elegir cama le...</td>\n",
       "    </tr>\n",
       "    <tr>\n",
       "      <th>2</th>\n",
       "      <td>Jose</td>\n",
       "      <td>Tacos</td>\n",
       "      <td>Tacos Otros</td>\n",
       "      <td>Hamburguesa Valdéz</td>\n",
       "      <td>200 grs. De molida de sirloin, pan artesanal, ...</td>\n",
       "      <td>65</td>\n",
       "      <td>207665</td>\n",
       "      <td>Hamburguesas al Carbón</td>\n",
       "      <td>both</td>\n",
       "      <td>Hamburguesas al Carbón Hamburguesa Valdéz 200 ...</td>\n",
       "      <td>[hamburguesas, carbón, hamburguesa, valdéz, gr...</td>\n",
       "      <td>22</td>\n",
       "      <td>hamburguesas carbón hamburguesa valdéz grs mol...</td>\n",
       "    </tr>\n",
       "    <tr>\n",
       "      <th>3</th>\n",
       "      <td>Alfredo</td>\n",
       "      <td>Hamburguesas</td>\n",
       "      <td>Hamburguesa</td>\n",
       "      <td>LA BBQ DE LUXE!</td>\n",
       "      <td>pan artesanal,jitomate, cebolla lechuga, pepin...</td>\n",
       "      <td>33141492</td>\n",
       "      <td>48028</td>\n",
       "      <td>HAMBURGUESAS AL CARBON</td>\n",
       "      <td>both</td>\n",
       "      <td>HAMBURGUESAS AL CARBON LA BBQ DE LUXE  pan art...</td>\n",
       "      <td>[hamburguesas, carbon, bbq, luxe, pan, artesan...</td>\n",
       "      <td>16</td>\n",
       "      <td>hamburguesas carbon bbq luxe pan artesanal jit...</td>\n",
       "    </tr>\n",
       "    <tr>\n",
       "      <th>4</th>\n",
       "      <td>Ana</td>\n",
       "      <td>Pizza</td>\n",
       "      <td>Pizza gourmet</td>\n",
       "      <td>2 Pizza Grande 4 Ingredientes.</td>\n",
       "      <td>Base de salsa pomodora, queso mozzarella y que...</td>\n",
       "      <td>539849</td>\n",
       "      <td>539157</td>\n",
       "      <td>Pizzas</td>\n",
       "      <td>both</td>\n",
       "      <td>Pizzas 2 Pizza Grande 4 Ingredientes  Base de ...</td>\n",
       "      <td>[pizzas, pizza, grande, ingredientes, base, sa...</td>\n",
       "      <td>11</td>\n",
       "      <td>pizzas pizza grande ingredientes base salsa po...</td>\n",
       "    </tr>\n",
       "  </tbody>\n",
       "</table>\n",
       "</div>"
      ],
      "text/plain": [
       "  Responsable            T1             T2                       item_name  \\\n",
       "0         Ana         Pollo         Alitas                Alitas 10 piezas   \n",
       "1        Rodo     Saludable       Ensalada           Ensalada Philadelphia   \n",
       "2        Jose         Tacos    Tacos Otros              Hamburguesa Valdéz   \n",
       "3     Alfredo  Hamburguesas    Hamburguesa                 LA BBQ DE LUXE!   \n",
       "4         Ana         Pizza  Pizza gourmet  2 Pizza Grande 4 Ingredientes.   \n",
       "\n",
       "                                    item_description  item_code  frn_id  \\\n",
       "0                                    Salsa a elegir.   72365267  266868   \n",
       "1  A elegir 1 Cama de lechugas Frescas, Más 3 Sem...   69394214  252803   \n",
       "2  200 grs. De molida de sirloin, pan artesanal, ...         65  207665   \n",
       "3  pan artesanal,jitomate, cebolla lechuga, pepin...   33141492   48028   \n",
       "4  Base de salsa pomodora, queso mozzarella y que...     539849  539157   \n",
       "\n",
       "                 category _merge  \\\n",
       "0                  Snacks   both   \n",
       "1               Ensaladas   both   \n",
       "2  Hamburguesas al Carbón   both   \n",
       "3  HAMBURGUESAS AL CARBON   both   \n",
       "4                  Pizzas   both   \n",
       "\n",
       "                                           item_text  \\\n",
       "0            Snacks Alitas 10 piezas Salsa a elegir    \n",
       "1  Ensaladas Ensalada Philadelphia A elegir 1 Cam...   \n",
       "2  Hamburguesas al Carbón Hamburguesa Valdéz 200 ...   \n",
       "3  HAMBURGUESAS AL CARBON LA BBQ DE LUXE  pan art...   \n",
       "4  Pizzas 2 Pizza Grande 4 Ingredientes  Base de ...   \n",
       "\n",
       "                                              tokens  n_tokens  \\\n",
       "0            [snacks, alitas, piezas, salsa, elegir]         5   \n",
       "1  [ensaladas, ensalada, philadelphia, elegir, ca...        23   \n",
       "2  [hamburguesas, carbón, hamburguesa, valdéz, gr...        22   \n",
       "3  [hamburguesas, carbon, bbq, luxe, pan, artesan...        16   \n",
       "4  [pizzas, pizza, grande, ingredientes, base, sa...        11   \n",
       "\n",
       "                                           prep_text  \n",
       "0                  snacks alitas piezas salsa elegir  \n",
       "1  ensaladas ensalada philadelphia elegir cama le...  \n",
       "2  hamburguesas carbón hamburguesa valdéz grs mol...  \n",
       "3  hamburguesas carbon bbq luxe pan artesanal jit...  \n",
       "4  pizzas pizza grande ingredientes base salsa po...  "
      ]
     },
     "execution_count": 3,
     "metadata": {},
     "output_type": "execute_result"
    }
   ],
   "source": [
    "df.head()"
   ]
  },
  {
   "cell_type": "markdown",
   "metadata": {},
   "source": [
    "# embedding"
   ]
  },
  {
   "cell_type": "code",
   "execution_count": 6,
   "metadata": {},
   "outputs": [
    {
     "name": "stderr",
     "output_type": "stream",
     "text": [
      "Using TensorFlow backend.\n"
     ]
    }
   ],
   "source": [
    "from keras.preprocessing.text import Tokenizer\n",
    "from keras.preprocessing.sequence import pad_sequences\n",
    "\n",
    "from tqdm import tqdm\n",
    "\n",
    "docs = df.prep_text\n",
    "\n",
    "# prepare tokenizer\n",
    "t = Tokenizer()\n",
    "t.fit_on_texts(docs)\n",
    "vocab_size = len(t.word_index) + 1"
   ]
  },
  {
   "cell_type": "code",
   "execution_count": 11,
   "metadata": {},
   "outputs": [
    {
     "name": "stdout",
     "output_type": "stream",
     "text": [
      "(6681, 40)\n"
     ]
    }
   ],
   "source": [
    "# integer encode the documents\n",
    "encoded_docs = t.texts_to_sequences(docs)\n",
    "# print(encoded_docs)\n",
    "\n",
    "# pad documents to a max length of 4 words\n",
    "max_length = 40\n",
    "padded_docs = pad_sequences(encoded_docs, maxlen=max_length, padding='post')\n",
    "print(padded_docs.shape)\n"
   ]
  },
  {
   "cell_type": "code",
   "execution_count": null,
   "metadata": {},
   "outputs": [],
   "source": []
  },
  {
   "cell_type": "code",
   "execution_count": 13,
   "metadata": {
    "scrolled": true
   },
   "outputs": [
    {
     "name": "stderr",
     "output_type": "stream",
     "text": [
      "1000654it [00:55, 18053.52it/s]"
     ]
    },
    {
     "name": "stdout",
     "output_type": "stream",
     "text": [
      "Found 1000654 word vectors.\n"
     ]
    },
    {
     "name": "stderr",
     "output_type": "stream",
     "text": [
      "\n"
     ]
    }
   ],
   "source": [
    "# del embeddings_index\n",
    "embeddings_index = {}\n",
    "f = open('embeddings/ES-SBW-vectors-300-min5.txt')\n",
    "for line in tqdm(f):\n",
    "    values = line.split(\" \")\n",
    "    word = values[0]\n",
    "    coefs = np.asarray(values[1:], dtype='float32')\n",
    "    embeddings_index[word] = coefs\n",
    "f.close()\n",
    "\n",
    "print('Found %s word vectors.' % len(embeddings_index))"
   ]
  },
  {
   "cell_type": "code",
   "execution_count": 14,
   "metadata": {},
   "outputs": [],
   "source": [
    "# create a weight matrix for words in training docs\n",
    "embedding_matrix = np.zeros((vocab_size, 300))\n",
    "for word, i in t.word_index.items():\n",
    "\tembedding_vector = embeddings_index.get(word)\n",
    "\tif embedding_vector is not None:\n",
    "\t\tembedding_matrix[i] = embedding_vector\n",
    "        \n",
    "del embeddings_index"
   ]
  },
  {
   "cell_type": "code",
   "execution_count": 15,
   "metadata": {},
   "outputs": [],
   "source": [
    "vocab_size = embedding_matrix.shape[0]\n",
    "embedding_size = embedding_matrix.shape[1]\n"
   ]
  },
  {
   "cell_type": "markdown",
   "metadata": {},
   "source": [
    "## BiLSTM"
   ]
  },
  {
   "cell_type": "code",
   "execution_count": 16,
   "metadata": {},
   "outputs": [],
   "source": [
    "# This code is inspirated by https://www.kaggle.com/qqgeogor/keras-lstm-attention-glove840b-lb-0-043\n",
    "\n",
    "from keras import backend as K\n",
    "from keras.engine.topology import Layer\n",
    "#from keras import initializations\n",
    "from keras import initializers, regularizers, constraints\n",
    "\n",
    "\n",
    "class Attention(Layer):\n",
    "    def __init__(self, step_dim,\n",
    "                 W_regularizer=None, b_regularizer=None,\n",
    "                 W_constraint=None, b_constraint=None,\n",
    "                 bias=True, **kwargs):\n",
    "        \"\"\"\n",
    "        Keras Layer that implements an Attention mechanism for temporal data.\n",
    "        Supports Masking.\n",
    "        Follows the work of Raffel et al. [https://arxiv.org/abs/1512.08756]\n",
    "        # Input shape\n",
    "            3D tensor with shape: `(samples, steps, features)`.\n",
    "        # Output shape\n",
    "            2D tensor with shape: `(samples, features)`.\n",
    "        :param kwargs:\n",
    "        Just put it on top of an RNN Layer (GRU/LSTM/SimpleRNN) with return_sequences=True.\n",
    "        The dimensions are inferred based on the output shape of the RNN.\n",
    "        Example:\n",
    "            model.add(LSTM(64, return_sequences=True))\n",
    "            model.add(Attention())\n",
    "        \"\"\"\n",
    "        self.supports_masking = True\n",
    "        #self.init = initializations.get('glorot_uniform')\n",
    "        self.init = initializers.get('glorot_uniform')\n",
    "\n",
    "        self.W_regularizer = regularizers.get(W_regularizer)\n",
    "        self.b_regularizer = regularizers.get(b_regularizer)\n",
    "\n",
    "        self.W_constraint = constraints.get(W_constraint)\n",
    "        self.b_constraint = constraints.get(b_constraint)\n",
    "\n",
    "        self.bias = bias\n",
    "        self.step_dim = step_dim\n",
    "        self.features_dim = 0\n",
    "        super(Attention, self).__init__(**kwargs)\n",
    "\n",
    "    def build(self, input_shape):\n",
    "        assert len(input_shape) == 3\n",
    "\n",
    "        self.W = self.add_weight(shape=(input_shape[-1],),\n",
    "                                 initializer=self.init,\n",
    "                                 name='{}_W'.format(self.name),\n",
    "                                 regularizer=self.W_regularizer,\n",
    "                                 constraint=self.W_constraint)\n",
    "        self.features_dim = input_shape[-1]\n",
    "\n",
    "        if self.bias:\n",
    "            self.b = self.add_weight(shape=(input_shape[1],),\n",
    "                                     initializer='zero',\n",
    "                                     name='{}_b'.format(self.name),\n",
    "                                     regularizer=self.b_regularizer,\n",
    "                                     constraint=self.b_constraint)\n",
    "        else:\n",
    "            self.b = None\n",
    "\n",
    "        self.built = True\n",
    "\n",
    "    def compute_mask(self, input, input_mask=None):\n",
    "        # do not pass the mask to the next layers\n",
    "        return None\n",
    "\n",
    "    def call(self, x, mask=None):\n",
    "        # eij = K.dot(x, self.W) TF backend doesn't support it\n",
    "\n",
    "        # features_dim = self.W.shape[0]\n",
    "        # step_dim = x._keras_shape[1]\n",
    "\n",
    "        features_dim = self.features_dim\n",
    "        step_dim = self.step_dim\n",
    "\n",
    "        eij = K.reshape(K.dot(K.reshape(x, (-1, features_dim)), K.reshape(self.W, (features_dim, 1))), (-1, step_dim))\n",
    "\n",
    "        if self.bias:\n",
    "            eij += self.b\n",
    "\n",
    "        eij = K.tanh(eij)\n",
    "\n",
    "        a = K.exp(eij)\n",
    "\n",
    "        # apply mask after the exp. will be re-normalized next\n",
    "        if mask is not None:\n",
    "            # Cast the mask to floatX to avoid float64 upcasting in theano\n",
    "            a *= K.cast(mask, K.floatx())\n",
    "\n",
    "        # in some cases especially in the early stages of training the sum may be almost zero\n",
    "        a /= K.cast(K.sum(a, axis=1, keepdims=True) + K.epsilon(), K.floatx())\n",
    "\n",
    "        a = K.expand_dims(a)\n",
    "        weighted_input = x * a\n",
    "    #print weigthted_input.shape\n",
    "        return K.sum(weighted_input, axis=1)\n",
    "\n",
    "    def compute_output_shape(self, input_shape):\n",
    "        return input_shape[0], input_shape[-1]\n",
    "#         return input_shape[0],  self.features_dim\n",
    " "
   ]
  },
  {
   "cell_type": "markdown",
   "metadata": {},
   "source": [
    "## train test split"
   ]
  },
  {
   "cell_type": "code",
   "execution_count": 17,
   "metadata": {},
   "outputs": [
    {
     "name": "stdout",
     "output_type": "stream",
     "text": [
      "[ 0 23 57 ... 42 43 28]\n"
     ]
    }
   ],
   "source": [
    "from numpy import array\n",
    "from numpy import argmax\n",
    "from sklearn.preprocessing import LabelEncoder\n",
    "from sklearn.preprocessing import OneHotEncoder\n",
    "\n",
    "# Naive class imbalance correction\n",
    "imbal = df.T2.value_counts().index[df.T2.value_counts() < 10]\n",
    "\n",
    "df['T2_isimbal'] = df.T2.map(lambda x: x in list(imbal))\n",
    "df['T2_corrected'] = df.T2\n",
    "\n",
    "df.loc[df.T2_isimbal,['T2_corrected']] = 'Otros otros' \n",
    "\n",
    "# integer encode\n",
    "label_encoder = LabelEncoder()\n",
    "integer_encoded = label_encoder.fit_transform(df.T2_corrected.map(str))\n",
    "print(integer_encoded)\n"
   ]
  },
  {
   "cell_type": "code",
   "execution_count": 18,
   "metadata": {},
   "outputs": [
    {
     "name": "stderr",
     "output_type": "stream",
     "text": [
      "/home/fred/Desktop/taxonomy/env/lib/python3.6/site-packages/sklearn/preprocessing/_encoders.py:415: FutureWarning: The handling of integer data will change in version 0.22. Currently, the categories are determined based on the range [0, max(values)], while in the future they will be determined based on the unique values.\n",
      "If you want the future behaviour and silence this warning, you can specify \"categories='auto'\".\n",
      "In case you used a LabelEncoder before this OneHotEncoder to convert the categories to integers, then you can now use the OneHotEncoder directly.\n",
      "  warnings.warn(msg, FutureWarning)\n"
     ]
    }
   ],
   "source": [
    "# binary encode\n",
    "onehot_encoder = OneHotEncoder(sparse=False)\n",
    "y = onehot_encoder.fit_transform(integer_encoded.reshape(-1, 1))"
   ]
  },
  {
   "cell_type": "code",
   "execution_count": 78,
   "metadata": {},
   "outputs": [
    {
     "name": "stdout",
     "output_type": "stream",
     "text": [
      "(6681, 40)\n"
     ]
    }
   ],
   "source": [
    "from keras.preprocessing.text import Tokenizer\n",
    "from keras.preprocessing.sequence import pad_sequences\n",
    "\n",
    "docs = df.prep_text\n",
    "\n",
    "# prepare tokenizer\n",
    "t = Tokenizer()\n",
    "t.fit_on_texts(df.prep_text)\n",
    "vocab_size = len(t.word_index) + 1\n",
    "\n",
    "# integer encode the documents\n",
    "encoded_docs = t.texts_to_sequences(docs)\n",
    "# print(encoded_docs)\n",
    "\n",
    "# pad documents to a max length of 4 words\n",
    "max_length = 40\n",
    "padded_docs = pad_sequences(encoded_docs, maxlen=max_length, padding='post')\n",
    "print(padded_docs.shape)\n"
   ]
  },
  {
   "cell_type": "code",
   "execution_count": 79,
   "metadata": {},
   "outputs": [],
   "source": [
    "n_classes = y.shape[1]"
   ]
  },
  {
   "cell_type": "code",
   "execution_count": 19,
   "metadata": {},
   "outputs": [
    {
     "name": "stdout",
     "output_type": "stream",
     "text": [
      "\n",
      "Preparing the data for LSTM...\n",
      "X shape: (6681, 40)\n"
     ]
    }
   ],
   "source": [
    "print('\\nPreparing the data for LSTM...')\n",
    "X = padded_docs\n",
    "print('X shape:', X.shape)\n"
   ]
  },
  {
   "cell_type": "code",
   "execution_count": 20,
   "metadata": {},
   "outputs": [],
   "source": [
    "from sklearn.model_selection import train_test_split\n",
    "\n",
    "# X = padded_docs\n",
    "# le.inverse_transform([0, 0, 1, 2])\n",
    "\n",
    "X_train, X_test, y_train, y_test = train_test_split(\n",
    "    X, y, test_size=0.20, random_state=42)"
   ]
  },
  {
   "cell_type": "code",
   "execution_count": 22,
   "metadata": {},
   "outputs": [],
   "source": [
    "n_classes = y.shape[1]"
   ]
  },
  {
   "cell_type": "code",
   "execution_count": 45,
   "metadata": {},
   "outputs": [],
   "source": [
    "from keras.models import Model\n",
    "from keras.layers import Dense, Embedding, Input, GlobalMaxPooling1D, Conv1D\n",
    "from keras.layers import LSTM, Bidirectional, Dropout, GRU\n",
    "\n",
    "\n",
    "def BidLstm(maxlen, max_features, embed_size, embedding_matrix, n_classes):\n",
    "    inp = Input(shape=(maxlen, ))\n",
    "    x = Embedding(max_features, embed_size, weights=[embedding_matrix],\n",
    "                  trainable=False)(inp)\n",
    "    x = Bidirectional(LSTM(300, return_sequences=True, dropout=0.2,\n",
    "                           recurrent_dropout=0.2))(x)    \n",
    "    x = Attention(n_classes)(x)\n",
    "    x = Dense(256, activation=\"relu\")(x)\n",
    "    x = Dropout(0.2)(x)\n",
    "    x = Dense(n_classes, activation=\"softmax\")(x)\n",
    "    model = Model(inputs=inp, outputs=x)\n",
    "\n",
    "    return model\n"
   ]
  },
  {
   "cell_type": "code",
   "execution_count": 46,
   "metadata": {},
   "outputs": [],
   "source": [
    "vocab_size, embedding_size = embedding_matrix.shape\n",
    "\n",
    "model = BidLstm(maxlen=max_length,\n",
    "                max_features= vocab_size,\n",
    "                embed_size= embedding_size,\n",
    "                embedding_matrix=embedding_matrix,\n",
    "                n_classes=n_classes)"
   ]
  },
  {
   "cell_type": "code",
   "execution_count": 47,
   "metadata": {},
   "outputs": [
    {
     "name": "stdout",
     "output_type": "stream",
     "text": [
      "The tensorboard extension is already loaded. To reload it, use:\n",
      "  %reload_ext tensorboard\n"
     ]
    },
    {
     "data": {
      "text/plain": [
       "Reusing TensorBoard on port 6006 (pid 7587), started 4:28:29 ago. (Use '!kill 7587' to kill it.)"
      ]
     },
     "metadata": {},
     "output_type": "display_data"
    },
    {
     "data": {
      "text/html": [
       "\n",
       "      <iframe id=\"tensorboard-frame-d438feaeba0e4909\" width=\"100%\" height=\"800\" frameborder=\"0\">\n",
       "      </iframe>\n",
       "      <script>\n",
       "        (function() {\n",
       "          const frame = document.getElementById(\"tensorboard-frame-d438feaeba0e4909\");\n",
       "          const url = new URL(\"/\", window.location);\n",
       "          url.port = 6006;\n",
       "          frame.src = url;\n",
       "        })();\n",
       "      </script>\n",
       "  "
      ],
      "text/plain": [
       "<IPython.core.display.HTML object>"
      ]
     },
     "metadata": {},
     "output_type": "display_data"
    }
   ],
   "source": [
    "# Load TENSORBOARD\n",
    "%load_ext tensorboard\n",
    "# Start TENSORBOARD\n",
    "%tensorboard --logdir ./logs"
   ]
  },
  {
   "cell_type": "code",
   "execution_count": 48,
   "metadata": {},
   "outputs": [
    {
     "name": "stdout",
     "output_type": "stream",
     "text": [
      "Model: \"model_4\"\n",
      "_________________________________________________________________\n",
      "Layer (type)                 Output Shape              Param #   \n",
      "=================================================================\n",
      "input_6 (InputLayer)         (None, 40)                0         \n",
      "_________________________________________________________________\n",
      "embedding_6 (Embedding)      (None, 40, 300)           1724100   \n",
      "_________________________________________________________________\n",
      "bidirectional_6 (Bidirection (None, 40, 600)           1442400   \n",
      "_________________________________________________________________\n",
      "attention_5 (Attention)      (None, 600)               640       \n",
      "_________________________________________________________________\n",
      "dense_7 (Dense)              (None, 256)               153856    \n",
      "_________________________________________________________________\n",
      "dropout_4 (Dropout)          (None, 256)               0         \n",
      "_________________________________________________________________\n",
      "dense_8 (Dense)              (None, 64)                16448     \n",
      "=================================================================\n",
      "Total params: 3,337,444\n",
      "Trainable params: 1,613,344\n",
      "Non-trainable params: 1,724,100\n",
      "_________________________________________________________________\n"
     ]
    }
   ],
   "source": [
    "model.summary()"
   ]
  },
  {
   "cell_type": "code",
   "execution_count": 49,
   "metadata": {},
   "outputs": [],
   "source": [
    "from keras.callbacks import EarlyStopping, ModelCheckpoint, TensorBoard\n",
    "np.random.seed(7)\n",
    "\n",
    "model.compile(loss='categorical_crossentropy', optimizer='adam',\n",
    "                  metrics=['accuracy'])\n",
    "file_path = \".model.hdf5\"\n",
    "ckpt = ModelCheckpoint(file_path, monitor='val_loss', verbose=1,\n",
    "                           save_best_only=True, mode='min')\n",
    "early = EarlyStopping(monitor=\"val_loss\", mode=\"min\", patience=15)\n",
    "tensorBoard = TensorBoard(log_dir = \"./logs\", histogram_freq = 1)\n"
   ]
  },
  {
   "cell_type": "code",
   "execution_count": 50,
   "metadata": {},
   "outputs": [
    {
     "name": "stdout",
     "output_type": "stream",
     "text": [
      "Train on 4809 samples, validate on 535 samples\n",
      "Epoch 1/100\n",
      "4809/4809 [==============================] - 14s 3ms/step - loss: 3.9692 - accuracy: 0.0867 - val_loss: 3.6965 - val_accuracy: 0.0748\n",
      "\n",
      "Epoch 00001: val_loss improved from inf to 3.69654, saving model to .model.hdf5\n",
      "Epoch 2/100\n",
      "4809/4809 [==============================] - 14s 3ms/step - loss: 3.6595 - accuracy: 0.1004 - val_loss: 3.6342 - val_accuracy: 0.0860\n",
      "\n",
      "Epoch 00002: val_loss improved from 3.69654 to 3.63418, saving model to .model.hdf5\n",
      "Epoch 3/100\n",
      "4809/4809 [==============================] - 14s 3ms/step - loss: 3.5777 - accuracy: 0.1370 - val_loss: 3.5736 - val_accuracy: 0.1308\n",
      "\n",
      "Epoch 00003: val_loss improved from 3.63418 to 3.57361, saving model to .model.hdf5\n",
      "Epoch 4/100\n",
      "4809/4809 [==============================] - 16s 3ms/step - loss: 3.4505 - accuracy: 0.1859 - val_loss: 3.4264 - val_accuracy: 0.1757\n",
      "\n",
      "Epoch 00004: val_loss improved from 3.57361 to 3.42636, saving model to .model.hdf5\n",
      "Epoch 5/100\n",
      "4809/4809 [==============================] - 17s 4ms/step - loss: 3.2683 - accuracy: 0.2235 - val_loss: 3.1847 - val_accuracy: 0.2224\n",
      "\n",
      "Epoch 00005: val_loss improved from 3.42636 to 3.18468, saving model to .model.hdf5\n",
      "Epoch 6/100\n",
      "4809/4809 [==============================] - 16s 3ms/step - loss: 3.0146 - accuracy: 0.2589 - val_loss: 2.9422 - val_accuracy: 0.2598\n",
      "\n",
      "Epoch 00006: val_loss improved from 3.18468 to 2.94217, saving model to .model.hdf5\n",
      "Epoch 7/100\n",
      "4809/4809 [==============================] - 14s 3ms/step - loss: 2.8453 - accuracy: 0.2907 - val_loss: 2.8237 - val_accuracy: 0.2692\n",
      "\n",
      "Epoch 00007: val_loss improved from 2.94217 to 2.82374, saving model to .model.hdf5\n",
      "Epoch 8/100\n",
      "4809/4809 [==============================] - 14s 3ms/step - loss: 2.6958 - accuracy: 0.3092 - val_loss: 2.6290 - val_accuracy: 0.3271\n",
      "\n",
      "Epoch 00008: val_loss improved from 2.82374 to 2.62905, saving model to .model.hdf5\n",
      "Epoch 9/100\n",
      "4809/4809 [==============================] - 14s 3ms/step - loss: 2.5392 - accuracy: 0.3508 - val_loss: 2.4697 - val_accuracy: 0.3439\n",
      "\n",
      "Epoch 00009: val_loss improved from 2.62905 to 2.46967, saving model to .model.hdf5\n",
      "Epoch 10/100\n",
      "4809/4809 [==============================] - 13s 3ms/step - loss: 2.3966 - accuracy: 0.3824 - val_loss: 2.3086 - val_accuracy: 0.3963\n",
      "\n",
      "Epoch 00010: val_loss improved from 2.46967 to 2.30858, saving model to .model.hdf5\n",
      "Epoch 11/100\n",
      "4809/4809 [==============================] - 14s 3ms/step - loss: 2.2641 - accuracy: 0.4128 - val_loss: 2.1650 - val_accuracy: 0.4262\n",
      "\n",
      "Epoch 00011: val_loss improved from 2.30858 to 2.16502, saving model to .model.hdf5\n",
      "Epoch 12/100\n",
      "4809/4809 [==============================] - 14s 3ms/step - loss: 2.1247 - accuracy: 0.4425 - val_loss: 2.0973 - val_accuracy: 0.4542\n",
      "\n",
      "Epoch 00012: val_loss improved from 2.16502 to 2.09732, saving model to .model.hdf5\n",
      "Epoch 13/100\n",
      "4809/4809 [==============================] - 14s 3ms/step - loss: 2.0778 - accuracy: 0.4566 - val_loss: 1.9926 - val_accuracy: 0.5009\n",
      "\n",
      "Epoch 00013: val_loss improved from 2.09732 to 1.99259, saving model to .model.hdf5\n",
      "Epoch 14/100\n",
      "4809/4809 [==============================] - 14s 3ms/step - loss: 1.9515 - accuracy: 0.4880 - val_loss: 1.8828 - val_accuracy: 0.5047\n",
      "\n",
      "Epoch 00014: val_loss improved from 1.99259 to 1.88275, saving model to .model.hdf5\n",
      "Epoch 15/100\n",
      "4809/4809 [==============================] - 14s 3ms/step - loss: 1.8717 - accuracy: 0.5051 - val_loss: 1.8436 - val_accuracy: 0.5252\n",
      "\n",
      "Epoch 00015: val_loss improved from 1.88275 to 1.84360, saving model to .model.hdf5\n",
      "Epoch 16/100\n",
      "4809/4809 [==============================] - 15s 3ms/step - loss: 1.8136 - accuracy: 0.5066 - val_loss: 1.8062 - val_accuracy: 0.5178\n",
      "\n",
      "Epoch 00016: val_loss improved from 1.84360 to 1.80624, saving model to .model.hdf5\n",
      "Epoch 17/100\n",
      "4809/4809 [==============================] - 14s 3ms/step - loss: 1.7639 - accuracy: 0.5248 - val_loss: 1.7487 - val_accuracy: 0.5458\n",
      "\n",
      "Epoch 00017: val_loss improved from 1.80624 to 1.74874, saving model to .model.hdf5\n",
      "Epoch 18/100\n",
      "4809/4809 [==============================] - 14s 3ms/step - loss: 1.7303 - accuracy: 0.5382 - val_loss: 1.6794 - val_accuracy: 0.5589\n",
      "\n",
      "Epoch 00018: val_loss improved from 1.74874 to 1.67939, saving model to .model.hdf5\n",
      "Epoch 19/100\n",
      "4809/4809 [==============================] - 14s 3ms/step - loss: 1.6611 - accuracy: 0.5552 - val_loss: 1.6370 - val_accuracy: 0.5551\n",
      "\n",
      "Epoch 00019: val_loss improved from 1.67939 to 1.63695, saving model to .model.hdf5\n",
      "Epoch 20/100\n",
      "4809/4809 [==============================] - 14s 3ms/step - loss: 1.6346 - accuracy: 0.5590 - val_loss: 1.6047 - val_accuracy: 0.5738\n",
      "\n",
      "Epoch 00020: val_loss improved from 1.63695 to 1.60471, saving model to .model.hdf5\n",
      "Epoch 21/100\n",
      "4809/4809 [==============================] - 14s 3ms/step - loss: 1.5744 - accuracy: 0.5770 - val_loss: 1.5534 - val_accuracy: 0.5925\n",
      "\n",
      "Epoch 00021: val_loss improved from 1.60471 to 1.55339, saving model to .model.hdf5\n",
      "Epoch 22/100\n",
      "4809/4809 [==============================] - 15s 3ms/step - loss: 1.5403 - accuracy: 0.5775 - val_loss: 1.5431 - val_accuracy: 0.5981\n",
      "\n",
      "Epoch 00022: val_loss improved from 1.55339 to 1.54309, saving model to .model.hdf5\n",
      "Epoch 23/100\n",
      "4809/4809 [==============================] - 18s 4ms/step - loss: 1.4821 - accuracy: 0.5835 - val_loss: 1.4617 - val_accuracy: 0.6206\n",
      "\n",
      "Epoch 00023: val_loss improved from 1.54309 to 1.46167, saving model to .model.hdf5\n",
      "Epoch 24/100\n",
      "4809/4809 [==============================] - 15s 3ms/step - loss: 1.4344 - accuracy: 0.6037 - val_loss: 1.4692 - val_accuracy: 0.6112\n",
      "\n",
      "Epoch 00024: val_loss did not improve from 1.46167\n",
      "Epoch 25/100\n",
      "4809/4809 [==============================] - 16s 3ms/step - loss: 1.4086 - accuracy: 0.6132 - val_loss: 1.3966 - val_accuracy: 0.6336\n",
      "\n",
      "Epoch 00025: val_loss improved from 1.46167 to 1.39659, saving model to .model.hdf5\n",
      "Epoch 26/100\n",
      "4809/4809 [==============================] - 17s 4ms/step - loss: 1.3652 - accuracy: 0.6238 - val_loss: 1.4168 - val_accuracy: 0.6299\n",
      "\n",
      "Epoch 00026: val_loss did not improve from 1.39659\n",
      "Epoch 27/100\n",
      "4809/4809 [==============================] - 14s 3ms/step - loss: 1.3469 - accuracy: 0.6253 - val_loss: 1.3810 - val_accuracy: 0.6467\n",
      "\n",
      "Epoch 00027: val_loss improved from 1.39659 to 1.38103, saving model to .model.hdf5\n",
      "Epoch 28/100\n",
      "4809/4809 [==============================] - 14s 3ms/step - loss: 1.3055 - accuracy: 0.6388 - val_loss: 1.3458 - val_accuracy: 0.6748\n",
      "\n",
      "Epoch 00028: val_loss improved from 1.38103 to 1.34585, saving model to .model.hdf5\n",
      "Epoch 29/100\n",
      "4809/4809 [==============================] - 14s 3ms/step - loss: 1.2627 - accuracy: 0.6469 - val_loss: 1.3594 - val_accuracy: 0.6542\n",
      "\n",
      "Epoch 00029: val_loss did not improve from 1.34585\n",
      "Epoch 30/100\n",
      "4809/4809 [==============================] - 14s 3ms/step - loss: 1.2355 - accuracy: 0.6579 - val_loss: 1.3043 - val_accuracy: 0.6748\n",
      "\n",
      "Epoch 00030: val_loss improved from 1.34585 to 1.30426, saving model to .model.hdf5\n",
      "Epoch 31/100\n",
      "4809/4809 [==============================] - 14s 3ms/step - loss: 1.2023 - accuracy: 0.6650 - val_loss: 1.3084 - val_accuracy: 0.6561\n",
      "\n",
      "Epoch 00031: val_loss did not improve from 1.30426\n",
      "Epoch 32/100\n",
      "4809/4809 [==============================] - 14s 3ms/step - loss: 1.1784 - accuracy: 0.6687 - val_loss: 1.2741 - val_accuracy: 0.6822\n",
      "\n",
      "Epoch 00032: val_loss improved from 1.30426 to 1.27406, saving model to .model.hdf5\n",
      "Epoch 33/100\n",
      "4809/4809 [==============================] - 14s 3ms/step - loss: 1.1667 - accuracy: 0.6677 - val_loss: 1.2690 - val_accuracy: 0.6785\n",
      "\n",
      "Epoch 00033: val_loss improved from 1.27406 to 1.26903, saving model to .model.hdf5\n",
      "Epoch 34/100\n",
      "4809/4809 [==============================] - 14s 3ms/step - loss: 1.1476 - accuracy: 0.6791 - val_loss: 1.2300 - val_accuracy: 0.6897\n",
      "\n",
      "Epoch 00034: val_loss improved from 1.26903 to 1.22998, saving model to .model.hdf5\n",
      "Epoch 35/100\n",
      "4809/4809 [==============================] - 14s 3ms/step - loss: 1.0973 - accuracy: 0.6885 - val_loss: 1.2077 - val_accuracy: 0.6897\n",
      "\n",
      "Epoch 00035: val_loss improved from 1.22998 to 1.20773, saving model to .model.hdf5\n",
      "Epoch 36/100\n",
      "4809/4809 [==============================] - 14s 3ms/step - loss: 1.0899 - accuracy: 0.6866 - val_loss: 1.2198 - val_accuracy: 0.6991\n",
      "\n",
      "Epoch 00036: val_loss did not improve from 1.20773\n",
      "Epoch 37/100\n",
      "4809/4809 [==============================] - 15s 3ms/step - loss: 1.0667 - accuracy: 0.7018 - val_loss: 1.2254 - val_accuracy: 0.7065\n",
      "\n",
      "Epoch 00037: val_loss did not improve from 1.20773\n",
      "Epoch 38/100\n",
      "4809/4809 [==============================] - 14s 3ms/step - loss: 1.0558 - accuracy: 0.6977 - val_loss: 1.2136 - val_accuracy: 0.6935\n",
      "\n",
      "Epoch 00038: val_loss did not improve from 1.20773\n",
      "Epoch 39/100\n",
      "4809/4809 [==============================] - 14s 3ms/step - loss: 1.0106 - accuracy: 0.7147 - val_loss: 1.1879 - val_accuracy: 0.6879\n",
      "\n",
      "Epoch 00039: val_loss improved from 1.20773 to 1.18792, saving model to .model.hdf5\n",
      "Epoch 40/100\n",
      "4809/4809 [==============================] - 14s 3ms/step - loss: 1.0286 - accuracy: 0.7085 - val_loss: 1.1918 - val_accuracy: 0.6972\n",
      "\n",
      "Epoch 00040: val_loss did not improve from 1.18792\n",
      "Epoch 41/100\n",
      "4809/4809 [==============================] - 15s 3ms/step - loss: 0.9847 - accuracy: 0.7189 - val_loss: 1.1739 - val_accuracy: 0.7103\n",
      "\n",
      "Epoch 00041: val_loss improved from 1.18792 to 1.17390, saving model to .model.hdf5\n",
      "Epoch 42/100\n",
      "4809/4809 [==============================] - 14s 3ms/step - loss: 0.9708 - accuracy: 0.7216 - val_loss: 1.1759 - val_accuracy: 0.6953\n",
      "\n",
      "Epoch 00042: val_loss did not improve from 1.17390\n",
      "Epoch 43/100\n",
      "4809/4809 [==============================] - 16s 3ms/step - loss: 0.9376 - accuracy: 0.7307 - val_loss: 1.1821 - val_accuracy: 0.7159\n",
      "\n",
      "Epoch 00043: val_loss did not improve from 1.17390\n",
      "Epoch 44/100\n",
      "4809/4809 [==============================] - 15s 3ms/step - loss: 0.9358 - accuracy: 0.7340 - val_loss: 1.1532 - val_accuracy: 0.7103\n",
      "\n",
      "Epoch 00044: val_loss improved from 1.17390 to 1.15316, saving model to .model.hdf5\n",
      "Epoch 45/100\n",
      "4809/4809 [==============================] - 14s 3ms/step - loss: 0.8983 - accuracy: 0.7380 - val_loss: 1.1683 - val_accuracy: 0.7084\n",
      "\n",
      "Epoch 00045: val_loss did not improve from 1.15316\n",
      "Epoch 46/100\n",
      "4809/4809 [==============================] - 15s 3ms/step - loss: 0.8940 - accuracy: 0.7415 - val_loss: 1.1691 - val_accuracy: 0.6991\n",
      "\n",
      "Epoch 00046: val_loss did not improve from 1.15316\n",
      "Epoch 47/100\n",
      "4809/4809 [==============================] - 14s 3ms/step - loss: 0.8836 - accuracy: 0.7411 - val_loss: 1.1886 - val_accuracy: 0.6748\n",
      "\n",
      "Epoch 00047: val_loss did not improve from 1.15316\n",
      "Epoch 48/100\n",
      "4809/4809 [==============================] - 14s 3ms/step - loss: 0.8767 - accuracy: 0.7480 - val_loss: 1.1623 - val_accuracy: 0.7047\n",
      "\n",
      "Epoch 00048: val_loss did not improve from 1.15316\n",
      "Epoch 49/100\n",
      "4809/4809 [==============================] - 14s 3ms/step - loss: 0.8343 - accuracy: 0.7640 - val_loss: 1.1283 - val_accuracy: 0.7159\n",
      "\n",
      "Epoch 00049: val_loss improved from 1.15316 to 1.12831, saving model to .model.hdf5\n",
      "Epoch 50/100\n",
      "4809/4809 [==============================] - 15s 3ms/step - loss: 0.8233 - accuracy: 0.7609 - val_loss: 1.1459 - val_accuracy: 0.7121\n",
      "\n",
      "Epoch 00050: val_loss did not improve from 1.12831\n",
      "Epoch 51/100\n",
      "4809/4809 [==============================] - 17s 4ms/step - loss: 0.8119 - accuracy: 0.7627 - val_loss: 1.1433 - val_accuracy: 0.6991\n",
      "\n",
      "Epoch 00051: val_loss did not improve from 1.12831\n",
      "Epoch 52/100\n",
      "4809/4809 [==============================] - 15s 3ms/step - loss: 0.8057 - accuracy: 0.7681 - val_loss: 1.1113 - val_accuracy: 0.7047\n",
      "\n",
      "Epoch 00052: val_loss improved from 1.12831 to 1.11129, saving model to .model.hdf5\n",
      "Epoch 53/100\n",
      "4809/4809 [==============================] - 16s 3ms/step - loss: 0.7882 - accuracy: 0.7708 - val_loss: 1.1327 - val_accuracy: 0.7215\n",
      "\n",
      "Epoch 00053: val_loss did not improve from 1.11129\n",
      "Epoch 54/100\n",
      "4809/4809 [==============================] - 16s 3ms/step - loss: 0.7649 - accuracy: 0.7781 - val_loss: 1.1109 - val_accuracy: 0.7121\n",
      "\n",
      "Epoch 00054: val_loss improved from 1.11129 to 1.11088, saving model to .model.hdf5\n",
      "Epoch 55/100\n",
      "4809/4809 [==============================] - 15s 3ms/step - loss: 0.7481 - accuracy: 0.7835 - val_loss: 1.1024 - val_accuracy: 0.7140\n",
      "\n",
      "Epoch 00055: val_loss improved from 1.11088 to 1.10240, saving model to .model.hdf5\n",
      "Epoch 56/100\n",
      "4809/4809 [==============================] - 15s 3ms/step - loss: 0.7532 - accuracy: 0.7783 - val_loss: 1.1254 - val_accuracy: 0.7121\n",
      "\n",
      "Epoch 00056: val_loss did not improve from 1.10240\n",
      "Epoch 57/100\n",
      "4809/4809 [==============================] - 16s 3ms/step - loss: 0.7510 - accuracy: 0.7827 - val_loss: 1.1190 - val_accuracy: 0.7103\n",
      "\n",
      "Epoch 00057: val_loss did not improve from 1.10240\n",
      "Epoch 58/100\n",
      "4809/4809 [==============================] - 13s 3ms/step - loss: 0.7140 - accuracy: 0.7873 - val_loss: 1.1245 - val_accuracy: 0.7103\n",
      "\n",
      "Epoch 00058: val_loss did not improve from 1.10240\n",
      "Epoch 59/100\n",
      "4809/4809 [==============================] - 14s 3ms/step - loss: 0.7001 - accuracy: 0.7908 - val_loss: 1.1423 - val_accuracy: 0.7047\n",
      "\n",
      "Epoch 00059: val_loss did not improve from 1.10240\n",
      "Epoch 60/100\n",
      "4809/4809 [==============================] - 14s 3ms/step - loss: 0.6801 - accuracy: 0.7973 - val_loss: 1.1301 - val_accuracy: 0.7196\n",
      "\n",
      "Epoch 00060: val_loss did not improve from 1.10240\n",
      "Epoch 61/100\n",
      "4809/4809 [==============================] - 13s 3ms/step - loss: 0.6786 - accuracy: 0.8045 - val_loss: 1.1505 - val_accuracy: 0.7140\n",
      "\n",
      "Epoch 00061: val_loss did not improve from 1.10240\n",
      "Epoch 62/100\n",
      "4809/4809 [==============================] - 14s 3ms/step - loss: 0.6677 - accuracy: 0.8035 - val_loss: 1.1432 - val_accuracy: 0.7215\n",
      "\n",
      "Epoch 00062: val_loss did not improve from 1.10240\n",
      "Epoch 63/100\n",
      "4809/4809 [==============================] - 14s 3ms/step - loss: 0.6561 - accuracy: 0.8060 - val_loss: 1.1617 - val_accuracy: 0.7047\n",
      "\n",
      "Epoch 00063: val_loss did not improve from 1.10240\n",
      "Epoch 64/100\n",
      "4809/4809 [==============================] - 14s 3ms/step - loss: 0.6308 - accuracy: 0.8079 - val_loss: 1.1764 - val_accuracy: 0.7196\n",
      "\n",
      "Epoch 00064: val_loss did not improve from 1.10240\n",
      "Epoch 65/100\n",
      "4809/4809 [==============================] - 14s 3ms/step - loss: 0.6372 - accuracy: 0.8064 - val_loss: 1.1601 - val_accuracy: 0.7140\n",
      "\n",
      "Epoch 00065: val_loss did not improve from 1.10240\n",
      "Epoch 66/100\n",
      "4809/4809 [==============================] - 14s 3ms/step - loss: 0.6437 - accuracy: 0.8087 - val_loss: 1.1405 - val_accuracy: 0.7215\n",
      "\n",
      "Epoch 00066: val_loss did not improve from 1.10240\n",
      "Epoch 67/100\n",
      "4809/4809 [==============================] - 15s 3ms/step - loss: 0.6228 - accuracy: 0.8141 - val_loss: 1.1501 - val_accuracy: 0.7028\n",
      "\n",
      "Epoch 00067: val_loss did not improve from 1.10240\n",
      "Epoch 68/100\n",
      "4809/4809 [==============================] - 16s 3ms/step - loss: 0.6211 - accuracy: 0.8091 - val_loss: 1.1477 - val_accuracy: 0.7215\n",
      "\n",
      "Epoch 00068: val_loss did not improve from 1.10240\n",
      "Epoch 69/100\n",
      "4809/4809 [==============================] - 15s 3ms/step - loss: 0.5929 - accuracy: 0.8178 - val_loss: 1.1613 - val_accuracy: 0.7103\n",
      "\n",
      "Epoch 00069: val_loss did not improve from 1.10240\n",
      "Epoch 70/100\n",
      "4809/4809 [==============================] - 15s 3ms/step - loss: 0.5802 - accuracy: 0.8220 - val_loss: 1.1443 - val_accuracy: 0.7084\n",
      "\n",
      "Epoch 00070: val_loss did not improve from 1.10240\n"
     ]
    },
    {
     "data": {
      "text/plain": [
       "<keras.callbacks.callbacks.History at 0x7fb52020ce80>"
      ]
     },
     "execution_count": 50,
     "metadata": {},
     "output_type": "execute_result"
    }
   ],
   "source": [
    "model.fit(X_train, y_train, batch_size=500, epochs=100, validation_split=0.1, callbacks=[tensorBoard,ckpt, early])\n",
    "#model.fit(xtr, y, batch_size=256, epochs=1, validation_split=0.1)"
   ]
  },
  {
   "cell_type": "code",
   "execution_count": 35,
   "metadata": {},
   "outputs": [],
   "source": [
    "model.save('bilstm_attention_V1.h5')"
   ]
  },
  {
   "cell_type": "markdown",
   "metadata": {},
   "source": [
    "# Model evaluation"
   ]
  },
  {
   "cell_type": "code",
   "execution_count": 36,
   "metadata": {},
   "outputs": [],
   "source": [
    "from keras.models import load_model\n",
    "\n",
    "model = load_model('bilstm_attention_V1.h5', custom_objects={'Attention' : Attention})\n",
    "#model = Model(inputs=model.input,\n",
    "              #outputs=[model.output, model.get_layer('attention_7').output])"
   ]
  },
  {
   "cell_type": "code",
   "execution_count": 51,
   "metadata": {},
   "outputs": [
    {
     "name": "stdout",
     "output_type": "stream",
     "text": [
      "Accuracy: 72.924459\n"
     ]
    }
   ],
   "source": [
    "loss, accuracy = model.evaluate(X_test, y_test, verbose=0)\n",
    "print('Accuracy: %f' % (accuracy*100))"
   ]
  },
  {
   "cell_type": "code",
   "execution_count": 130,
   "metadata": {},
   "outputs": [],
   "source": [
    "from sklearn.metrics import confusion_matrix"
   ]
  },
  {
   "cell_type": "code",
   "execution_count": 131,
   "metadata": {},
   "outputs": [],
   "source": [
    "y_pred = model.predict(X_test)\n",
    "y_pred_decoded = np.argmax(y_pred,axis=1)"
   ]
  },
  {
   "cell_type": "code",
   "execution_count": 132,
   "metadata": {},
   "outputs": [],
   "source": [
    "y_test_decoded = np.argmax(y_test,axis=1)"
   ]
  },
  {
   "cell_type": "code",
   "execution_count": 133,
   "metadata": {},
   "outputs": [
    {
     "data": {
      "text/plain": [
       "array([[26,  0,  0, ...,  0,  0,  0],\n",
       "       [ 0,  0,  0, ...,  0,  0,  0],\n",
       "       [ 0,  0, 13, ...,  0,  0,  0],\n",
       "       ...,\n",
       "       [ 0,  0,  0, ...,  8,  0,  0],\n",
       "       [ 0,  0,  0, ...,  0,  0,  0],\n",
       "       [ 0,  0,  0, ...,  0,  0,  4]])"
      ]
     },
     "execution_count": 133,
     "metadata": {},
     "output_type": "execute_result"
    }
   ],
   "source": [
    "confusion_matrix(y_test_decoded, y_pred_decoded)"
   ]
  },
  {
   "cell_type": "code",
   "execution_count": 134,
   "metadata": {},
   "outputs": [],
   "source": [
    "import seaborn as sn\n",
    "import matplotlib.pyplot as plt "
   ]
  },
  {
   "cell_type": "code",
   "execution_count": 135,
   "metadata": {},
   "outputs": [
    {
     "data": {
      "text/plain": [
       "<matplotlib.axes._subplots.AxesSubplot at 0x7f3a0af59278>"
      ]
     },
     "execution_count": 135,
     "metadata": {},
     "output_type": "execute_result"
    },
    {
     "data": {
      "image/png": "[encoded data removed]",
      "text/plain": [
       "<Figure size 936x936 with 2 Axes>"
      ]
     },
     "metadata": {
      "needs_background": "light"
     },
     "output_type": "display_data"
    }
   ],
   "source": [
    "from sklearn import metrics\n",
    "plt.figure(figsize = (13,13))\n",
    "sn.heatmap(metrics.confusion_matrix(y_test_decoded, y_pred_decoded), annot=True)\n"
   ]
  },
  {
   "cell_type": "code",
   "execution_count": 136,
   "metadata": {},
   "outputs": [],
   "source": [
    "from sklearn.preprocessing import label_binarize, LabelBinarizer\n",
    "from sklearn.metrics import *\n",
    "\n",
    "def multiclass_roc_auc_score(y_test, y_pred, average=\"macro\"):\n",
    "    lb = LabelBinarizer()\n",
    "    lb.fit(y_test)\n",
    "\n",
    "    y_test = lb.transform(y_test)\n",
    "    y_pred = lb.transform(y_pred)\n",
    "    return roc_auc_score(y_test, y_pred, average=average)\n"
   ]
  },
  {
   "cell_type": "code",
   "execution_count": 137,
   "metadata": {},
   "outputs": [
    {
     "data": {
      "text/plain": [
       "0.8239303465507467"
      ]
     },
     "execution_count": 137,
     "metadata": {},
     "output_type": "execute_result"
    }
   ],
   "source": [
    "multiclass_roc_auc_score(y_test_decoded,y_pred_decoded)"
   ]
  },
  {
   "cell_type": "code",
   "execution_count": 138,
   "metadata": {},
   "outputs": [
    {
     "data": {
      "text/plain": [
       "array([28, 60, 60, 23, 28, 28, 57, 28, 56, 23, 16, 54, 60, 60, 60])"
      ]
     },
     "execution_count": 138,
     "metadata": {},
     "output_type": "execute_result"
    }
   ],
   "source": [
    "y_pred_decoded[:15]"
   ]
  },
  {
   "cell_type": "code",
   "execution_count": 139,
   "metadata": {},
   "outputs": [
    {
     "data": {
      "text/plain": [
       "array([28, 54, 60, 23, 28, 28, 57, 28, 56, 23, 16, 54, 60, 60, 60])"
      ]
     },
     "execution_count": 139,
     "metadata": {},
     "output_type": "execute_result"
    }
   ],
   "source": [
    "y_test_decoded[:15]"
   ]
  },
  {
   "cell_type": "code",
   "execution_count": 140,
   "metadata": {},
   "outputs": [
    {
     "data": {
      "text/plain": [
       "0.7718773373223635"
      ]
     },
     "execution_count": 140,
     "metadata": {},
     "output_type": "execute_result"
    }
   ],
   "source": [
    "accuracy_score(y_test_decoded, y_pred_decoded)"
   ]
  },
  {
   "cell_type": "markdown",
   "metadata": {},
   "source": [
    "## Visualizing attention"
   ]
  },
  {
   "cell_type": "code",
   "execution_count": 300,
   "metadata": {},
   "outputs": [],
   "source": [
    "outputs = model.predict(X_test)\n",
    "model_outputs = outputs[0]\n",
    "attention_outputs = outputs[1]"
   ]
  },
  {
   "cell_type": "code",
   "execution_count": 301,
   "metadata": {},
   "outputs": [
    {
     "data": {
      "text/plain": [
       "array([57, 56, 46, ...,  0, 22, 49])"
      ]
     },
     "execution_count": 301,
     "metadata": {},
     "output_type": "execute_result"
    }
   ],
   "source": [
    "np.argmax(model_outputs,axis=1)"
   ]
  },
  {
   "cell_type": "code",
   "execution_count": 197,
   "metadata": {},
   "outputs": [],
   "source": [
    "import random\n",
    "i = random.randint(0,len(df))"
   ]
  },
  {
   "cell_type": "code",
   "execution_count": 198,
   "metadata": {},
   "outputs": [
    {
     "data": {
      "text/plain": [
       "'bagel bagel atún atún mayonesa lechuga tomate pepino cebolla aguacate'"
      ]
     },
     "execution_count": 198,
     "metadata": {},
     "output_type": "execute_result"
    }
   ],
   "source": [
    "df.prep_text[i]"
   ]
  },
  {
   "cell_type": "code",
   "execution_count": 199,
   "metadata": {},
   "outputs": [
    {
     "data": {
      "text/plain": [
       "array([662, 662, 213, 213,  38,  13,  42,  44,   4,  17,   0,   0,   0,\n",
       "         0,   0,   0,   0,   0,   0,   0,   0,   0,   0,   0,   0,   0,\n",
       "         0,   0,   0,   0,   0,   0,   0,   0,   0,   0,   0,   0,   0,\n",
       "         0], dtype=int32)"
      ]
     },
     "execution_count": 199,
     "metadata": {},
     "output_type": "execute_result"
    }
   ],
   "source": [
    "np.array(padded_docs[i])"
   ]
  },
  {
   "cell_type": "code",
   "execution_count": 191,
   "metadata": {},
   "outputs": [],
   "source": [
    "outputs = model.predict(np.array(padded_docs[i:i+1]))\n"
   ]
  },
  {
   "cell_type": "code",
   "execution_count": 192,
   "metadata": {},
   "outputs": [
    {
     "name": "stdout",
     "output_type": "stream",
     "text": [
      "[26]\n"
     ]
    }
   ],
   "source": [
    "pred_class = np.argmax(outputs,axis=1)\n",
    "print(pred_class)"
   ]
  },
  {
   "cell_type": "code",
   "execution_count": 193,
   "metadata": {},
   "outputs": [
    {
     "data": {
      "text/plain": [
       "array(['Garnachas Otros'], dtype=object)"
      ]
     },
     "execution_count": 193,
     "metadata": {},
     "output_type": "execute_result"
    }
   ],
   "source": [
    "label_encoder.inverse_transform(pred_class)"
   ]
  },
  {
   "cell_type": "code",
   "execution_count": 194,
   "metadata": {},
   "outputs": [
    {
     "data": {
      "text/plain": [
       "2667    Torta\n",
       "Name: T2_corrected, dtype: object"
      ]
     },
     "execution_count": 194,
     "metadata": {},
     "output_type": "execute_result"
    }
   ],
   "source": [
    "df.T2_corrected[i:i+1]"
   ]
  },
  {
   "cell_type": "code",
   "execution_count": 195,
   "metadata": {},
   "outputs": [
    {
     "data": {
      "text/plain": [
       "array([0., 0., 0., 0., 0., 0., 0., 0., 0., 0., 0., 0., 0., 0., 0., 0., 0.,\n",
       "       0., 0., 0., 0., 0., 0., 0., 0., 0., 0., 0., 0., 0., 0., 0., 0., 0.,\n",
       "       0., 0., 0., 0., 0., 0., 0., 0., 0., 0., 0., 0., 0., 0., 0., 0., 0.,\n",
       "       0., 0., 0., 0., 0., 0., 0., 0., 0., 1., 0., 0., 0.])"
      ]
     },
     "execution_count": 195,
     "metadata": {},
     "output_type": "execute_result"
    }
   ],
   "source": [
    "y[i]"
   ]
  },
  {
   "cell_type": "code",
   "execution_count": 196,
   "metadata": {},
   "outputs": [
    {
     "data": {
      "text/plain": [
       "[array([0., 0., 0., 0., 0., 0., 0., 0., 0., 0., 0., 0., 0., 0., 0., 0., 0.,\n",
       "        0., 0., 0., 0., 0., 0., 0., 0., 0., 0., 0., 0., 0., 0., 0., 0., 0.,\n",
       "        0., 0., 0., 0., 0., 0., 0., 0., 0., 0., 0., 0., 0., 0., 0., 0., 0.,\n",
       "        0., 0., 0., 0., 0., 0., 0., 0., 0., 0., 0., 0., 0.], dtype=float32)]"
      ]
     },
     "execution_count": 196,
     "metadata": {},
     "output_type": "execute_result"
    }
   ],
   "source": [
    "[np.round(elem) for elem in outputs]"
   ]
  },
  {
   "cell_type": "code",
   "execution_count": null,
   "metadata": {},
   "outputs": [],
   "source": []
  }
 ],
 "metadata": {
  "kernelspec": {
   "display_name": "Python 3",
   "language": "python",
   "name": "python3"
  },
  "language_info": {
   "codemirror_mode": {
    "name": "ipython",
    "version": 3
   },
   "file_extension": ".py",
   "mimetype": "text/x-python",
   "name": "python",
   "nbconvert_exporter": "python",
   "pygments_lexer": "ipython3",
   "version": "3.6.8"
  }
 },
 "nbformat": 4,
 "nbformat_minor": 4
}
