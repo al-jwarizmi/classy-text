{
 "cells": [
  {
   "cell_type": "code",
   "execution_count": 1,
   "metadata": {},
   "outputs": [],
   "source": [
    "import pandas as pd"
   ]
  },
  {
   "cell_type": "code",
   "execution_count": 2,
   "metadata": {},
   "outputs": [],
   "source": [
    "df = pd.read_pickle('taxonomy_working.pkl')"
   ]
  },
  {
   "cell_type": "code",
   "execution_count": 3,
   "metadata": {},
   "outputs": [
    {
     "data": {
      "text/html": [
       "<div>\n",
       "<style scoped>\n",
       "    .dataframe tbody tr th:only-of-type {\n",
       "        vertical-align: middle;\n",
       "    }\n",
       "\n",
       "    .dataframe tbody tr th {\n",
       "        vertical-align: top;\n",
       "    }\n",
       "\n",
       "    .dataframe thead th {\n",
       "        text-align: right;\n",
       "    }\n",
       "</style>\n",
       "<table border=\"1\" class=\"dataframe\">\n",
       "  <thead>\n",
       "    <tr style=\"text-align: right;\">\n",
       "      <th></th>\n",
       "      <th>Responsable</th>\n",
       "      <th>T1</th>\n",
       "      <th>T2</th>\n",
       "      <th>item_name_x</th>\n",
       "      <th>item_description_x</th>\n",
       "      <th>item_code</th>\n",
       "      <th>frn_id</th>\n",
       "      <th>category</th>\n",
       "      <th>item_name_y</th>\n",
       "      <th>item_description_y</th>\n",
       "      <th>item_text</th>\n",
       "      <th>tokens</th>\n",
       "    </tr>\n",
       "  </thead>\n",
       "  <tbody>\n",
       "    <tr>\n",
       "      <th>0</th>\n",
       "      <td>Ana</td>\n",
       "      <td>Pollo</td>\n",
       "      <td>Alitas</td>\n",
       "      <td>Alitas 10 piezas</td>\n",
       "      <td>Salsa a elegir.</td>\n",
       "      <td>72365267</td>\n",
       "      <td>266868</td>\n",
       "      <td>Snacks</td>\n",
       "      <td>Alitas 10 piezas</td>\n",
       "      <td>Salsa a elegir.</td>\n",
       "      <td>snacks alitas piezas salsa a elegir</td>\n",
       "      <td>[snacks, alitas, piezas, salsa, elegir]</td>\n",
       "    </tr>\n",
       "    <tr>\n",
       "      <th>1</th>\n",
       "      <td>Rodo</td>\n",
       "      <td>Saludable</td>\n",
       "      <td>Ensalada</td>\n",
       "      <td>Ensalada Philadelphia</td>\n",
       "      <td>A elegir 1 Cama de lechugas Frescas, Más 3 Sem...</td>\n",
       "      <td>69394214</td>\n",
       "      <td>252803</td>\n",
       "      <td>Ensaladas</td>\n",
       "      <td>Ensalada Philadelphia</td>\n",
       "      <td>A elegir 1 Cama de lechugas Frescas  Más 3 Sem...</td>\n",
       "      <td>ensaladas ensalada philadelphia a elegir cama ...</td>\n",
       "      <td>[ensaladas, ensalada, philadelphia, elegir, ca...</td>\n",
       "    </tr>\n",
       "    <tr>\n",
       "      <th>2</th>\n",
       "      <td>Jose</td>\n",
       "      <td>Tacos</td>\n",
       "      <td>Tacos Otros</td>\n",
       "      <td>Hamburguesa Valdéz</td>\n",
       "      <td>200 grs. De molida de sirloin, pan artesanal, ...</td>\n",
       "      <td>65</td>\n",
       "      <td>207665</td>\n",
       "      <td>Hamburguesas al Carbón</td>\n",
       "      <td>Hamburguesa Valdéz</td>\n",
       "      <td>200 grs. De molida de sirloin  pan artesanal  ...</td>\n",
       "      <td>hamburguesas al carbón hamburguesa valdéz grs ...</td>\n",
       "      <td>[hamburguesas, carbón, hamburguesa, valdéz, mo...</td>\n",
       "    </tr>\n",
       "    <tr>\n",
       "      <th>3</th>\n",
       "      <td>Alfredo</td>\n",
       "      <td>Hamburguesas</td>\n",
       "      <td>Hamburguesa</td>\n",
       "      <td>LA BBQ DE LUXE!</td>\n",
       "      <td>pan artesanal,jitomate, cebolla lechuga, pepin...</td>\n",
       "      <td>33141492</td>\n",
       "      <td>48028</td>\n",
       "      <td>HAMBURGUESAS AL CARBON</td>\n",
       "      <td>LA BBQ DE LUXE!</td>\n",
       "      <td>pan artesanal jitomate  cebolla lechuga  pepin...</td>\n",
       "      <td>hamburguesas al carbon la bbq de luxe pan arte...</td>\n",
       "      <td>[hamburguesas, carbon, bbq, luxe, pan, artesan...</td>\n",
       "    </tr>\n",
       "    <tr>\n",
       "      <th>4</th>\n",
       "      <td>Ana</td>\n",
       "      <td>Pizza</td>\n",
       "      <td>Pizza gourmet</td>\n",
       "      <td>2 Pizza Grande 4 Ingredientes.</td>\n",
       "      <td>Base de salsa pomodora, queso mozzarella y que...</td>\n",
       "      <td>539849</td>\n",
       "      <td>539157</td>\n",
       "      <td>Pizzas</td>\n",
       "      <td>2 Pizza Grande 4 Ingredientes.</td>\n",
       "      <td>Base de salsa pomodora  queso mozzarella y que...</td>\n",
       "      <td>pizzas pizza grande ingredientes base de salsa...</td>\n",
       "      <td>[pizzas, pizza, ingredientes, base, salsa, pom...</td>\n",
       "    </tr>\n",
       "  </tbody>\n",
       "</table>\n",
       "</div>"
      ],
      "text/plain": [
       "  Responsable            T1             T2                     item_name_x  \\\n",
       "0         Ana         Pollo         Alitas                Alitas 10 piezas   \n",
       "1        Rodo     Saludable       Ensalada           Ensalada Philadelphia   \n",
       "2        Jose         Tacos    Tacos Otros              Hamburguesa Valdéz   \n",
       "3     Alfredo  Hamburguesas    Hamburguesa                 LA BBQ DE LUXE!   \n",
       "4         Ana         Pizza  Pizza gourmet  2 Pizza Grande 4 Ingredientes.   \n",
       "\n",
       "                                  item_description_x  item_code  frn_id  \\\n",
       "0                                    Salsa a elegir.   72365267  266868   \n",
       "1  A elegir 1 Cama de lechugas Frescas, Más 3 Sem...   69394214  252803   \n",
       "2  200 grs. De molida de sirloin, pan artesanal, ...         65  207665   \n",
       "3  pan artesanal,jitomate, cebolla lechuga, pepin...   33141492   48028   \n",
       "4  Base de salsa pomodora, queso mozzarella y que...     539849  539157   \n",
       "\n",
       "                 category                     item_name_y  \\\n",
       "0                  Snacks                Alitas 10 piezas   \n",
       "1               Ensaladas           Ensalada Philadelphia   \n",
       "2  Hamburguesas al Carbón              Hamburguesa Valdéz   \n",
       "3  HAMBURGUESAS AL CARBON                 LA BBQ DE LUXE!   \n",
       "4                  Pizzas  2 Pizza Grande 4 Ingredientes.   \n",
       "\n",
       "                                  item_description_y  \\\n",
       "0                                    Salsa a elegir.   \n",
       "1  A elegir 1 Cama de lechugas Frescas  Más 3 Sem...   \n",
       "2  200 grs. De molida de sirloin  pan artesanal  ...   \n",
       "3  pan artesanal jitomate  cebolla lechuga  pepin...   \n",
       "4  Base de salsa pomodora  queso mozzarella y que...   \n",
       "\n",
       "                                           item_text  \\\n",
       "0               snacks alitas piezas salsa a elegir    \n",
       "1  ensaladas ensalada philadelphia a elegir cama ...   \n",
       "2  hamburguesas al carbón hamburguesa valdéz grs ...   \n",
       "3  hamburguesas al carbon la bbq de luxe pan arte...   \n",
       "4  pizzas pizza grande ingredientes base de salsa...   \n",
       "\n",
       "                                              tokens  \n",
       "0            [snacks, alitas, piezas, salsa, elegir]  \n",
       "1  [ensaladas, ensalada, philadelphia, elegir, ca...  \n",
       "2  [hamburguesas, carbón, hamburguesa, valdéz, mo...  \n",
       "3  [hamburguesas, carbon, bbq, luxe, pan, artesan...  \n",
       "4  [pizzas, pizza, ingredientes, base, salsa, pom...  "
      ]
     },
     "execution_count": 3,
     "metadata": {},
     "output_type": "execute_result"
    }
   ],
   "source": [
    "df.head()"
   ]
  },
  {
   "cell_type": "markdown",
   "metadata": {},
   "source": [
    "## tfidf"
   ]
  },
  {
   "cell_type": "code",
   "execution_count": 4,
   "metadata": {},
   "outputs": [
    {
     "data": {
      "text/plain": [
       "(334227, 10000)"
      ]
     },
     "execution_count": 4,
     "metadata": {},
     "output_type": "execute_result"
    }
   ],
   "source": [
    "from sklearn.feature_extraction.text import TfidfVectorizer\n",
    "\n",
    "# min_df is minimum number of documents that contain a term t\n",
    "# max_features is maximum number of unique tokens (across documents) that we'd consider\n",
    "# TfidfVectorizer preprocesses the descriptions using the tokenizer we defined above\n",
    "\n",
    "vectorizer = TfidfVectorizer(min_df=10, max_features=10000, ngram_range=(1, 2),\n",
    "                             decode_error = 'replace')\n",
    "vz = vectorizer.fit_transform(list(df.tokens.map(lambda x:' '.join(x))))\n",
    "vz.shape\n"
   ]
  },
  {
   "cell_type": "code",
   "execution_count": 5,
   "metadata": {},
   "outputs": [],
   "source": [
    "# pd.DataFrame(vz.todense()).head(26)\n",
    "tfidf = dict(zip(vectorizer.get_feature_names(), vectorizer.idf_))\n",
    "tfidf = pd.DataFrame(columns=['tfidf']).from_dict(dict(tfidf), orient='index')\n",
    "tfidf.columns = ['tfidf']"
   ]
  },
  {
   "cell_type": "markdown",
   "metadata": {},
   "source": [
    "## dimensionality reduction"
   ]
  },
  {
   "cell_type": "code",
   "execution_count": null,
   "metadata": {},
   "outputs": [],
   "source": [
    "from sklearn.decomposition import TruncatedSVD\n",
    "\n",
    "dim = 750\n",
    "\n",
    "svd = TruncatedSVD(n_components=dim, random_state=0)\n",
    "svd_tfidf = svd.fit_transform(vz)\n",
    "print(svd_tfidf.shape)\n",
    "print(sum(svd.explained_variance_))"
   ]
  },
  {
   "cell_type": "code",
   "execution_count": 11,
   "metadata": {},
   "outputs": [
    {
     "data": {
      "text/plain": [
       "array([ 8.68153417e-03,  9.74332221e-02, -3.43233952e-03,  2.17376764e-02,\n",
       "        7.17801082e-02,  8.50392984e-02, -8.72199772e-02,  9.78603156e-02,\n",
       "       -4.75003250e-02, -3.07777514e-02,  3.66544186e-01, -4.01883393e-02,\n",
       "       -9.63061927e-02, -8.79654039e-03,  3.78291697e-02, -1.03614963e-02,\n",
       "        7.02664134e-02, -5.90488132e-02, -6.66650755e-02, -6.68263392e-03,\n",
       "        9.24832797e-03, -3.03112605e-02, -1.03223948e-02, -1.53643375e-02,\n",
       "        3.74742744e-02, -1.28409891e-02,  4.21735932e-03, -7.54466184e-03,\n",
       "        1.38103298e-03,  4.92075772e-03,  1.55043333e-02,  1.46923522e-03,\n",
       "        8.99346060e-03, -5.80680225e-02,  8.07666019e-03, -8.63766300e-02,\n",
       "        1.00796058e-01, -8.98671644e-02, -1.66573707e-02, -2.16844373e-02,\n",
       "       -7.90538295e-03, -5.82315122e-02,  1.94417473e-01,  2.56769327e-03,\n",
       "       -1.19307084e-01, -4.03548919e-02,  1.02396566e-01,  5.30203366e-02,\n",
       "       -1.44989287e-02,  1.14444295e-02, -3.94530621e-02, -5.09890161e-02,\n",
       "       -3.91202241e-02, -6.91685367e-02, -4.39511533e-02,  3.67973637e-02,\n",
       "       -1.13966887e-02,  4.42112121e-02,  4.21644942e-02, -3.74805911e-02,\n",
       "       -2.76709668e-03,  6.27197089e-02, -3.60607911e-02, -2.77555126e-02,\n",
       "        2.71319557e-02,  3.20161728e-03,  6.36003852e-04,  3.14749577e-02,\n",
       "        3.48308318e-02, -1.97873971e-02, -2.97750262e-02,  3.35570832e-04,\n",
       "        2.15456937e-02, -9.47415325e-03,  3.98497495e-02, -2.54265503e-02,\n",
       "       -5.78807460e-02,  2.85190502e-03, -2.86006523e-02, -3.22510057e-02,\n",
       "        3.59423451e-02,  2.80403871e-02, -5.17292129e-03, -2.04310468e-03,\n",
       "        9.08684895e-03, -1.09024484e-02, -3.09701016e-02,  4.37883069e-02,\n",
       "        1.69583264e-02, -8.17679344e-03, -1.94842422e-02, -7.07724246e-03,\n",
       "       -3.96324560e-02,  1.20460957e-02,  3.29645754e-02,  8.15955495e-03,\n",
       "       -6.62897890e-03, -7.63483356e-03,  4.29286328e-03, -1.54725886e-02,\n",
       "        4.94249348e-03,  5.09584584e-03, -2.15450241e-02,  4.65546670e-03,\n",
       "       -2.93261075e-03,  1.01371274e-02, -7.97911833e-03, -4.69392451e-03,\n",
       "        6.65538538e-03,  1.09898776e-02, -1.13507310e-02, -1.43237757e-03,\n",
       "       -2.94706763e-02,  1.32861352e-02, -2.80678324e-02, -7.85550481e-03,\n",
       "        1.45100977e-02, -2.37623339e-02,  1.55629458e-03, -2.23905437e-02,\n",
       "        1.25492934e-02, -1.29109665e-02,  3.90368677e-02, -2.38305912e-02,\n",
       "        7.63326734e-03,  2.91934640e-03,  8.49466731e-03,  7.15646549e-03,\n",
       "       -1.29904068e-02,  2.43802684e-03, -3.10473012e-02, -2.11214190e-02,\n",
       "        2.06676975e-02, -1.45178673e-03,  6.83600099e-03,  9.90259831e-03,\n",
       "       -1.03472675e-02, -2.36800141e-02, -1.26310806e-02, -2.23308234e-02,\n",
       "        6.84320092e-03, -8.65689673e-03, -2.06824562e-02,  3.67037662e-02,\n",
       "        2.25240761e-02, -1.88116496e-02, -2.64751161e-02,  7.68620847e-04,\n",
       "       -7.40954336e-03,  2.79806221e-03,  1.94347948e-02, -1.98092860e-02,\n",
       "       -1.78244219e-02, -1.40431320e-02,  1.38461443e-02, -1.65177288e-03,\n",
       "       -4.10343628e-03, -2.03520992e-02, -4.71451326e-04,  8.89862475e-03,\n",
       "        2.79642913e-04,  3.01645517e-02,  1.73630015e-02,  8.70911471e-03,\n",
       "       -1.69696630e-02,  2.24987300e-02, -5.40652295e-02, -6.64507437e-03,\n",
       "        1.92227051e-03,  1.39732399e-02, -8.29910501e-03, -4.28074520e-03,\n",
       "       -4.30424823e-03, -1.89937098e-02,  2.01226585e-02,  1.30606772e-02,\n",
       "        3.34839095e-03, -1.09266397e-02, -4.14063700e-03, -8.15584480e-03,\n",
       "       -9.14776119e-03,  1.21043995e-02,  8.93632545e-03,  2.67887925e-03,\n",
       "        2.38821167e-02, -1.52185484e-02, -2.26786919e-03, -3.39578597e-02,\n",
       "       -2.82589337e-02,  1.76242994e-03, -1.31319256e-02,  1.14386565e-02,\n",
       "       -7.59696405e-03,  3.51999998e-04, -3.50133422e-02, -4.68308392e-04,\n",
       "       -6.20511612e-03, -3.51658678e-03, -1.74496115e-03,  1.61999888e-03,\n",
       "       -1.00565506e-02,  2.27838377e-02,  6.36873114e-03, -2.36550469e-02,\n",
       "        1.39119470e-02, -3.11443106e-03,  3.87081725e-03, -5.51680090e-03,\n",
       "       -5.22574406e-03, -3.82115036e-03, -2.09662761e-02, -9.66450304e-03,\n",
       "       -1.43567095e-02,  7.89555151e-03, -1.11694627e-02,  6.80032464e-03,\n",
       "        1.19905200e-02,  9.04665441e-03,  1.07033505e-02,  7.61699695e-03,\n",
       "        7.71706921e-03,  2.12726431e-02,  1.54584699e-03, -1.24528287e-02,\n",
       "       -3.54136222e-04,  1.13259596e-02, -2.61356032e-03, -7.17908626e-03,\n",
       "       -1.94684862e-03,  8.90725808e-03,  1.00114085e-02,  7.62608537e-03,\n",
       "        3.81936346e-02, -1.52040651e-02, -2.02702216e-03, -1.06811453e-02,\n",
       "        7.61109351e-03,  4.67393684e-03,  2.05424382e-02, -1.09992917e-02,\n",
       "       -7.48093682e-03, -3.27916323e-03,  1.02973379e-02, -7.04472599e-03,\n",
       "        1.36510211e-02,  3.04929822e-02,  4.72458987e-03,  4.28926018e-04,\n",
       "        1.08825133e-02, -1.16359439e-02, -4.97603898e-03, -7.00766631e-03,\n",
       "       -1.05708477e-02, -2.29798636e-02,  1.75819186e-02,  3.02832503e-03,\n",
       "        9.50444402e-03, -1.70699419e-02, -4.00760929e-03, -2.43699493e-02,\n",
       "       -2.46008105e-02,  9.60907698e-03, -1.57960349e-02, -1.60446986e-02,\n",
       "        8.76611687e-04, -5.79395260e-03,  2.05057258e-03, -7.48396528e-03,\n",
       "        9.04684137e-03,  3.84781004e-03, -1.83467773e-03,  1.79759136e-03,\n",
       "        1.26136175e-02,  5.88673075e-03,  1.89483410e-04,  1.06798547e-02,\n",
       "        8.56088928e-03, -2.06712293e-03,  1.53814812e-02, -1.47719522e-02,\n",
       "       -2.36520058e-02, -1.26010076e-02, -3.40243369e-03,  8.53298090e-03,\n",
       "       -1.04248582e-02,  1.48750754e-02,  1.22898749e-02,  2.09155831e-02,\n",
       "       -2.43851516e-03,  1.36165183e-03,  2.03307716e-02, -1.76272717e-02,\n",
       "        1.02493928e-02,  2.20791503e-02, -7.79176271e-03, -1.27035643e-03,\n",
       "       -4.81634494e-03, -1.88283779e-03, -8.26006973e-03,  3.70134231e-03,\n",
       "       -1.21505372e-03, -1.90881973e-03,  8.60307505e-03,  3.09754740e-03,\n",
       "        2.88951399e-03,  4.87581405e-03, -6.26161581e-03, -1.46710153e-02,\n",
       "        1.89063393e-02,  1.61954285e-02, -1.60153984e-02, -9.06624273e-03,\n",
       "        1.14518836e-02,  2.03598028e-02, -3.08932276e-03, -1.48864518e-02,\n",
       "        4.13020003e-03, -2.57898654e-03, -7.79104094e-03,  1.50448987e-02,\n",
       "       -1.30562019e-03,  1.22995788e-02, -3.19415616e-03, -1.14344490e-02,\n",
       "       -3.01254140e-03, -3.10687725e-02, -4.38185755e-03,  7.08332086e-03,\n",
       "        3.88142397e-03,  1.13417284e-02,  1.85733048e-02, -8.98075035e-03,\n",
       "        2.30221627e-02, -6.84409198e-03,  1.87766482e-02, -1.38240801e-02,\n",
       "        7.52262086e-03, -1.31651989e-02,  4.75517811e-04, -4.44375184e-03,\n",
       "        5.45763611e-03, -8.45690698e-03, -6.38914790e-03, -1.58623301e-02,\n",
       "       -7.54521762e-03,  1.83973255e-02, -9.60758228e-03,  2.33802226e-02,\n",
       "        9.11940844e-04,  9.73845036e-03,  9.56212723e-03, -6.24265945e-03,\n",
       "        2.53757923e-02, -2.14079827e-03,  8.36376882e-03, -7.25531764e-03,\n",
       "        4.27061245e-03, -8.70379679e-03,  9.82787327e-03, -7.19819711e-03,\n",
       "       -3.71127474e-03, -4.79463663e-04, -7.28396622e-03, -7.39526064e-03,\n",
       "       -5.92738972e-03, -1.60784403e-02, -4.54410972e-02,  6.59684957e-04,\n",
       "       -9.28551942e-03, -9.43511148e-03,  3.29590645e-02, -2.30854927e-02,\n",
       "        2.34206488e-02, -2.54743316e-03, -1.45103447e-02, -3.11059741e-02,\n",
       "       -1.32462990e-02,  3.93727225e-03,  3.78166351e-03, -8.50730641e-03,\n",
       "        2.22849325e-02,  1.75307501e-02,  5.89689021e-02,  2.91602859e-02,\n",
       "        8.78267482e-03, -1.56940607e-02,  1.10608936e-02,  1.85324297e-03,\n",
       "       -1.33713135e-02, -3.43821693e-02, -1.33470719e-02, -2.95300469e-03,\n",
       "       -5.24286456e-03,  2.24713631e-02, -3.97009895e-02, -4.16771712e-03,\n",
       "       -4.01513241e-04, -1.09262589e-02, -3.65018583e-02,  1.36740122e-02,\n",
       "        3.82093984e-03, -5.07888026e-03,  3.51401382e-02,  3.79877340e-02,\n",
       "       -4.65041970e-02,  5.67448296e-03, -1.04272325e-03, -1.75063237e-02,\n",
       "        6.74542838e-04, -2.58326192e-02, -1.31034689e-02,  2.38166214e-02,\n",
       "       -5.93129957e-03,  8.71274087e-03,  1.81849939e-02,  3.87795572e-02,\n",
       "       -3.14746288e-02,  7.84474195e-03, -2.38417438e-02,  2.26197314e-02,\n",
       "        1.05406656e-02,  2.76512690e-02,  2.48354354e-02,  4.05131069e-04,\n",
       "       -4.40392533e-03, -1.74630534e-02,  6.23702219e-03,  1.76392618e-02,\n",
       "        1.65296036e-02,  3.71480355e-03,  3.47984149e-02, -2.25217626e-02,\n",
       "       -8.28366963e-03, -1.63501115e-02, -2.11691770e-03,  2.16382339e-02,\n",
       "        1.72922761e-02, -1.47576021e-02, -7.89458085e-03, -4.05063901e-02,\n",
       "        3.59639581e-03,  1.37229992e-02, -6.30133952e-03,  8.68045161e-04,\n",
       "        1.15829781e-02,  5.68860589e-03, -2.48625432e-03, -2.08626912e-02,\n",
       "       -1.40764123e-02,  1.00602001e-03,  2.78801364e-02,  2.01114574e-03,\n",
       "       -9.39239942e-03, -9.34927480e-03,  4.26293776e-03, -4.68471636e-03,\n",
       "        1.22543697e-02, -5.41802933e-03, -3.60483925e-03,  1.02774460e-02,\n",
       "        8.52224823e-03, -1.57065517e-02,  7.90440816e-03, -9.29525542e-05,\n",
       "       -6.83232326e-03, -2.20562274e-02,  2.99974008e-03, -7.51587133e-03,\n",
       "        2.70290140e-03, -2.05059502e-03,  2.23903143e-02,  1.10786953e-02,\n",
       "        1.64346043e-02, -3.19067383e-04,  8.68223208e-03,  1.07141700e-02,\n",
       "       -3.03301308e-03, -1.93528538e-02,  2.32197889e-03,  3.60019425e-03,\n",
       "        1.74256729e-04, -3.31971411e-02, -9.46915055e-03,  7.71086188e-03,\n",
       "        1.11283033e-02, -1.72111618e-02, -9.19680921e-03, -6.81411148e-03,\n",
       "        1.44357712e-02, -1.53331459e-02,  1.24495173e-02, -1.33021561e-03,\n",
       "       -2.73489101e-02,  5.41263834e-03,  2.55300176e-02, -1.42902559e-02,\n",
       "        3.87737027e-02, -4.83168886e-02, -3.32579661e-02, -2.27919366e-02,\n",
       "        5.43858893e-02,  2.91106171e-02, -2.97755263e-02,  4.79936191e-03,\n",
       "       -2.27436330e-02, -4.64520174e-03,  5.56892175e-02, -6.54226629e-02,\n",
       "        2.65810247e-02,  1.17725121e-02,  2.72673192e-02,  6.55439575e-03,\n",
       "        3.97765316e-02, -6.75325066e-03, -2.07736948e-02,  1.08229493e-02,\n",
       "        1.80929780e-02,  4.91813634e-03, -2.54267206e-02, -2.55148638e-02,\n",
       "       -1.27483989e-02, -5.05780912e-03, -3.37499671e-02, -1.20465677e-02,\n",
       "       -6.09941473e-02, -8.67705114e-03,  4.15497524e-02,  3.46212616e-02,\n",
       "        2.62577942e-02,  8.60144828e-03, -6.22200297e-03,  7.94180980e-03,\n",
       "       -7.60368776e-03, -1.14603424e-02,  7.13677405e-03, -2.70793001e-02,\n",
       "       -4.45919910e-03, -1.84551240e-03, -4.59345000e-03, -2.50909392e-02,\n",
       "        2.20860860e-02,  6.00372998e-03,  6.41959280e-03,  2.96003631e-02,\n",
       "       -1.54640291e-02, -1.58182689e-02,  8.92247002e-03, -6.48138590e-03,\n",
       "       -2.48096287e-02,  8.11141375e-03, -3.50963839e-02, -3.48891429e-04,\n",
       "        7.62537710e-03, -2.90792851e-03, -1.62305539e-02,  2.72133858e-02,\n",
       "        1.88768973e-02, -3.07773170e-02, -2.63374921e-03, -2.40652529e-02,\n",
       "       -3.82328147e-02,  2.94939487e-02, -4.68429426e-04,  1.28583365e-02,\n",
       "       -2.55505513e-02, -9.12276286e-03,  2.59035070e-02, -1.77807442e-02,\n",
       "        4.27655442e-02, -3.14607936e-02, -6.01618568e-03, -3.77663924e-02,\n",
       "       -8.29534742e-03,  5.07355309e-02, -1.21541489e-02, -1.50166131e-02,\n",
       "        2.24125443e-02, -5.39982878e-02, -2.10286598e-02,  2.58311219e-02,\n",
       "       -3.47365795e-03,  1.50109036e-02, -1.17277486e-02, -2.42256784e-02,\n",
       "       -1.00996082e-02, -2.16372536e-02,  2.84157393e-02,  2.95572244e-02,\n",
       "        1.57427022e-02, -1.46612684e-02, -1.21150063e-02,  3.73494055e-02,\n",
       "        2.20903970e-02, -2.04053769e-02, -4.47320515e-02, -2.38459341e-02,\n",
       "       -2.55321575e-02, -1.03699274e-02,  6.09425337e-04, -5.03659536e-03,\n",
       "        1.01065901e-04, -4.85410423e-02, -5.48787825e-04,  3.78992086e-02,\n",
       "       -3.66319835e-03, -6.06548401e-03, -2.36412263e-02, -5.92558482e-02,\n",
       "       -3.99022860e-02, -1.88765898e-03, -2.78926943e-02,  4.09745737e-03,\n",
       "       -4.84816967e-02,  4.76973918e-02,  3.93187875e-04,  7.31876179e-03,\n",
       "        2.01574444e-02,  2.70630468e-02, -2.83075837e-02,  2.08056310e-02,\n",
       "        2.66350640e-02,  2.51396879e-02,  1.77372842e-02,  2.79036670e-03,\n",
       "       -5.82351253e-02, -2.80130989e-03, -3.19908308e-02,  3.85931128e-02,\n",
       "       -4.72284533e-02, -1.15484932e-02, -1.82022938e-02,  1.85491727e-02,\n",
       "       -4.89258730e-02, -3.26677702e-02,  3.49728928e-03,  3.07098011e-02,\n",
       "        9.15933642e-03,  8.60372471e-03,  3.88426732e-02,  2.24099018e-02,\n",
       "        1.81090784e-02, -5.84994484e-02,  2.30505429e-02, -2.07928415e-02,\n",
       "        1.19097224e-02, -5.13156493e-02,  9.84231770e-03, -9.60318038e-02,\n",
       "       -9.73835971e-03,  7.52568376e-05, -6.01783311e-02,  3.63754295e-03,\n",
       "       -2.15433745e-02, -1.35954462e-02, -5.28113739e-02, -1.13365088e-02,\n",
       "       -1.13903711e-01, -4.01912729e-02, -2.03478582e-03,  8.99471633e-02,\n",
       "        5.64717162e-02, -6.61177036e-02,  4.96501052e-02, -5.87237682e-02,\n",
       "       -4.12050140e-02, -3.60556621e-02,  4.61401702e-02,  3.45491645e-02,\n",
       "        1.27991502e-03, -2.06992140e-02, -9.58725099e-02,  6.29725069e-02,\n",
       "       -8.90724045e-03, -3.65407066e-02, -2.33177873e-02, -1.99018967e-02,\n",
       "       -8.88560210e-03, -1.79365970e-02,  5.31933698e-03,  1.98192700e-03,\n",
       "       -2.76715002e-02, -3.82549296e-02, -6.09196071e-04, -4.14944089e-02,\n",
       "        2.45487187e-02, -2.51701403e-02,  3.51092580e-02, -2.89037728e-03,\n",
       "       -1.97086331e-02, -2.27953665e-02,  3.89755181e-02, -2.51670169e-02,\n",
       "       -3.27028258e-02, -1.13948691e-02, -2.68278633e-02,  2.25225202e-02,\n",
       "       -2.06020051e-03,  2.65339436e-02, -2.92360243e-03, -1.00361473e-03,\n",
       "        1.39767773e-02, -6.42391478e-03, -6.78303599e-03, -3.42210666e-02,\n",
       "        4.74174254e-02, -4.34878151e-03,  1.54382408e-02, -1.02576247e-02,\n",
       "        4.32256745e-03, -2.08904995e-03, -1.05516101e-02,  1.51065733e-02,\n",
       "        1.17822146e-02,  2.68235244e-02, -9.54698356e-03,  1.36386430e-03,\n",
       "        9.99688156e-03,  3.19495245e-02, -4.61959880e-03,  8.41104948e-03,\n",
       "       -2.69617386e-03, -3.76634580e-03, -7.59177385e-04, -1.06910279e-02,\n",
       "        1.69583325e-03,  1.89137052e-02, -7.27760369e-03,  1.99532380e-02,\n",
       "        2.49295735e-02, -2.16071612e-02,  3.41660491e-03,  7.72590223e-03,\n",
       "        1.96805003e-02,  5.04856748e-03, -1.36390499e-02,  1.03535505e-02,\n",
       "       -2.03173988e-02, -1.31862345e-02, -2.07253061e-02,  7.81328493e-03,\n",
       "        2.65998048e-02, -3.49304834e-02,  1.04912743e-02,  2.05951002e-02,\n",
       "       -1.96633982e-02, -1.32579400e-02, -2.75562450e-02, -1.62972097e-02,\n",
       "        2.02046852e-05, -9.88896302e-03])"
      ]
     },
     "execution_count": 11,
     "metadata": {},
     "output_type": "execute_result"
    }
   ],
   "source": [
    "svd_tfidf[0]"
   ]
  },
  {
   "cell_type": "markdown",
   "metadata": {},
   "source": [
    "## Logistic regression"
   ]
  },
  {
   "cell_type": "code",
   "execution_count": 7,
   "metadata": {},
   "outputs": [],
   "source": [
    "# Naive class imbalance correction\n",
    "imbal = df.T2.value_counts().index[df.T2.value_counts() < 10]\n",
    "\n",
    "df['T2_isimbal'] = df.T2.map(lambda x: x in list(imbal))\n",
    "df['T2_corrected'] = df.T2\n",
    "\n",
    "df.loc[df.T2_isimbal,['T2_corrected']] = 'Otros otros' \n"
   ]
  },
  {
   "cell_type": "code",
   "execution_count": 8,
   "metadata": {},
   "outputs": [],
   "source": [
    "from sklearn import preprocessing\n",
    "le = preprocessing.LabelEncoder()\n",
    "le.fit(df.T2_corrected.map(str))\n",
    "\n",
    "le.classes_\n",
    "\n",
    "y = le.transform(df.T2_corrected.map(str))\n",
    "X = svd_tfidf\n",
    "# le.inverse_transform([0, 0, 1, 2])"
   ]
  },
  {
   "cell_type": "code",
   "execution_count": 9,
   "metadata": {},
   "outputs": [],
   "source": [
    "from sklearn.model_selection import train_test_split\n",
    "\n",
    "X_train, X_test, y_train, y_test = train_test_split(\n",
    "    X, y, test_size=0.20, random_state=42)\n"
   ]
  },
  {
   "cell_type": "code",
   "execution_count": 10,
   "metadata": {},
   "outputs": [
    {
     "name": "stderr",
     "output_type": "stream",
     "text": [
      "/home/fred/Desktop/taxonomy/env/lib/python3.6/site-packages/sklearn/linear_model/logistic.py:432: FutureWarning: Default solver will be changed to 'lbfgs' in 0.22. Specify a solver to silence this warning.\n",
      "  FutureWarning)\n",
      "/home/fred/Desktop/taxonomy/env/lib/python3.6/site-packages/sklearn/linear_model/logistic.py:469: FutureWarning: Default multi_class will be changed to 'auto' in 0.22. Specify the multi_class option to silence this warning.\n",
      "  \"this warning.\", FutureWarning)\n"
     ]
    },
    {
     "data": {
      "text/plain": [
       "0.737471952131638"
      ]
     },
     "execution_count": 10,
     "metadata": {},
     "output_type": "execute_result"
    }
   ],
   "source": [
    "from sklearn.linear_model import LogisticRegression\n",
    "\n",
    "clf = LogisticRegression(random_state=0).fit(X_train, y_train)\n",
    "\n",
    "clf.score(X_test, y_test)\n"
   ]
  },
  {
   "cell_type": "code",
   "execution_count": 11,
   "metadata": {},
   "outputs": [
    {
     "data": {
      "text/plain": [
       "<bound method BaseEstimator.get_params of LogisticRegression(C=1.0, class_weight=None, dual=False, fit_intercept=True,\n",
       "                   intercept_scaling=1, l1_ratio=None, max_iter=100,\n",
       "                   multi_class='warn', n_jobs=None, penalty='l2',\n",
       "                   random_state=0, solver='warn', tol=0.0001, verbose=0,\n",
       "                   warm_start=False)>"
      ]
     },
     "execution_count": 11,
     "metadata": {},
     "output_type": "execute_result"
    }
   ],
   "source": [
    "clf.get_params\n"
   ]
  },
  {
   "cell_type": "code",
   "execution_count": 15,
   "metadata": {},
   "outputs": [
    {
     "data": {
      "text/plain": [
       "array([1.e-03, 1.e-02, 1.e-01, 1.e+00, 1.e+01, 1.e+02, 1.e+03])"
      ]
     },
     "execution_count": 15,
     "metadata": {},
     "output_type": "execute_result"
    }
   ],
   "source": [
    "import numpy as np\n",
    "np.logspace(-3,3,7)"
   ]
  },
  {
   "cell_type": "code",
   "execution_count": 16,
   "metadata": {},
   "outputs": [
    {
     "name": "stderr",
     "output_type": "stream",
     "text": [
      "/home/fred/Desktop/taxonomy/env/lib/python3.6/site-packages/sklearn/linear_model/logistic.py:947: ConvergenceWarning: lbfgs failed to converge. Increase the number of iterations.\n",
      "  \"of iterations.\", ConvergenceWarning)\n",
      "/home/fred/Desktop/taxonomy/env/lib/python3.6/site-packages/sklearn/linear_model/logistic.py:947: ConvergenceWarning: lbfgs failed to converge. Increase the number of iterations.\n",
      "  \"of iterations.\", ConvergenceWarning)\n",
      "/home/fred/Desktop/taxonomy/env/lib/python3.6/site-packages/sklearn/linear_model/logistic.py:947: ConvergenceWarning: lbfgs failed to converge. Increase the number of iterations.\n",
      "  \"of iterations.\", ConvergenceWarning)\n",
      "/home/fred/Desktop/taxonomy/env/lib/python3.6/site-packages/sklearn/linear_model/logistic.py:947: ConvergenceWarning: lbfgs failed to converge. Increase the number of iterations.\n",
      "  \"of iterations.\", ConvergenceWarning)\n",
      "/home/fred/Desktop/taxonomy/env/lib/python3.6/site-packages/sklearn/linear_model/logistic.py:947: ConvergenceWarning: lbfgs failed to converge. Increase the number of iterations.\n",
      "  \"of iterations.\", ConvergenceWarning)\n"
     ]
    },
    {
     "name": "stdout",
     "output_type": "stream",
     "text": [
      "tuned hpyerparameters :(best parameters)  {'C': 31.622776601683793, 'penalty': 'l2'}\n",
      "accuracy : 0.7354041916167665\n"
     ]
    }
   ],
   "source": [
    "# Grid search cross validation\n",
    "import numpy as np\n",
    "from sklearn.model_selection import GridSearchCV\n",
    "\n",
    "grid={\"C\":np.logspace(-3,3,5), \"penalty\":[\"l2\"]}# l1 lasso l2 ridge\n",
    "logreg=LogisticRegression(solver = 'lbfgs',multi_class='auto',max_iter=250)\n",
    "logreg_cv=GridSearchCV(logreg,grid,cv=5)\n",
    "logreg_cv.fit(X_train,y_train)\n",
    "\n",
    "print(\"tuned hpyerparameters :(best parameters) \",logreg_cv.best_params_)\n",
    "print(\"accuracy :\",logreg_cv.best_score_)\n"
   ]
  },
  {
   "cell_type": "code",
   "execution_count": 111,
   "metadata": {},
   "outputs": [
    {
     "data": {
      "text/plain": [
       "array([[ 3,  0,  0, ...,  0,  0,  0],\n",
       "       [ 0,  3,  0, ...,  1,  0,  0],\n",
       "       [ 0,  0,  0, ...,  0,  0,  0],\n",
       "       ...,\n",
       "       [ 0,  1,  0, ..., 11,  0,  0],\n",
       "       [ 0,  0,  0, ...,  0, 21,  2],\n",
       "       [ 0,  0,  0, ...,  0,  3, 36]])"
      ]
     },
     "execution_count": 111,
     "metadata": {},
     "output_type": "execute_result"
    }
   ],
   "source": [
    "from sklearn import metrics\n",
    "\n",
    "y_pred = logreg_cv.predict(X_test)\n",
    "metrics.confusion_matrix(y_test, y_pred)"
   ]
  },
  {
   "cell_type": "code",
   "execution_count": 17,
   "metadata": {},
   "outputs": [],
   "source": [
    "from sklearn import svm, datasets\n",
    "from sklearn.metrics import roc_curve, auc\n",
    "from sklearn.model_selection import train_test_split\n",
    "from sklearn.preprocessing import label_binarize, LabelBinarizer\n",
    "from sklearn.multiclass import OneVsRestClassifier\n",
    "from scipy import interp\n",
    "from sklearn.metrics import roc_auc_score"
   ]
  },
  {
   "cell_type": "code",
   "execution_count": 18,
   "metadata": {},
   "outputs": [],
   "source": [
    "def multiclass_roc_auc_score(y_test, y_pred, average=\"macro\"):\n",
    "    lb = LabelBinarizer()\n",
    "    lb.fit(y_test)\n",
    "\n",
    "    y_test = lb.transform(y_test)\n",
    "    y_pred = lb.transform(y_pred)\n",
    "    return roc_auc_score(y_test, y_pred, average=average)\n"
   ]
  },
  {
   "cell_type": "code",
   "execution_count": 21,
   "metadata": {},
   "outputs": [
    {
     "data": {
      "text/plain": [
       "0.7930389221556886"
      ]
     },
     "execution_count": 21,
     "metadata": {},
     "output_type": "execute_result"
    }
   ],
   "source": [
    "clf.score(X_train, y_train)\n"
   ]
  },
  {
   "cell_type": "code",
   "execution_count": 20,
   "metadata": {},
   "outputs": [
    {
     "data": {
      "text/plain": [
       "0.7896026290271176"
      ]
     },
     "execution_count": 20,
     "metadata": {},
     "output_type": "execute_result"
    }
   ],
   "source": [
    "y_pred = clf.predict(X_train)\n",
    "\n",
    "multiclass_roc_auc_score(y_train,y_pred)"
   ]
  },
  {
   "cell_type": "code",
   "execution_count": 23,
   "metadata": {},
   "outputs": [],
   "source": [
    "import seaborn as sn\n",
    "import matplotlib.pyplot as plt "
   ]
  },
  {
   "cell_type": "code",
   "execution_count": 25,
   "metadata": {},
   "outputs": [
    {
     "data": {
      "text/plain": [
       "<matplotlib.axes._subplots.AxesSubplot at 0x7f3e96b11cf8>"
      ]
     },
     "execution_count": 25,
     "metadata": {},
     "output_type": "execute_result"
    },
    {
     "data": {
      "image/png": "[encoded data removed]",
      "text/plain": [
       "<Figure size 936x936 with 2 Axes>"
      ]
     },
     "metadata": {
      "needs_background": "light"
     },
     "output_type": "display_data"
    }
   ],
   "source": [
    "from sklearn import metrics\n",
    "plt.figure(figsize = (13,13))\n",
    "sn.heatmap(metrics.confusion_matrix(y_train, y_pred), annot=True)\n"
   ]
  },
  {
   "cell_type": "markdown",
   "metadata": {},
   "source": [
    "## Random Forest"
   ]
  },
  {
   "cell_type": "code",
   "execution_count": 127,
   "metadata": {},
   "outputs": [],
   "source": [
    "from sklearn.model_selection import RandomizedSearchCV\n",
    "from sklearn.ensemble import RandomForestClassifier\n",
    "# Number of trees in random forest\n",
    "n_estimators = [int(x) for x in np.linspace(start = 200, stop = 2000, num = 5)]\n",
    "# Number of features to consider at every split\n",
    "max_features = ['sqrt']\n",
    "# Maximum number of levels in tree\n",
    "max_depth = [int(x) for x in np.linspace(10, 110, num = 7)]\n",
    "max_depth.append(None)\n",
    "# Minimum number of samples required to split a node\n",
    "min_samples_split = [2, 10]\n",
    "# Minimum number of samples required at each leaf node\n",
    "min_samples_leaf = [1, 4]\n",
    "# Method of selecting samples for training each tree\n",
    "bootstrap = [True, False]\n",
    "# Create the random grid\n",
    "random_grid = {'n_estimators': n_estimators,\n",
    "               'max_features': max_features,\n",
    "               'max_depth': max_depth,\n",
    "               'min_samples_split': min_samples_split,\n",
    "               'min_samples_leaf': min_samples_leaf,\n",
    "               'bootstrap': bootstrap}"
   ]
  },
  {
   "cell_type": "code",
   "execution_count": null,
   "metadata": {},
   "outputs": [],
   "source": []
  },
  {
   "cell_type": "code",
   "execution_count": 128,
   "metadata": {},
   "outputs": [
    {
     "name": "stdout",
     "output_type": "stream",
     "text": [
      "Fitting 3 folds for each of 150 candidates, totalling 450 fits\n"
     ]
    },
    {
     "name": "stderr",
     "output_type": "stream",
     "text": [
      "[Parallel(n_jobs=-1)]: Using backend LokyBackend with 8 concurrent workers.\n",
      "[Parallel(n_jobs=-1)]: Done  25 tasks      | elapsed:  4.8min\n",
      "[Parallel(n_jobs=-1)]: Done 146 tasks      | elapsed: 33.9min\n",
      "[Parallel(n_jobs=-1)]: Done 349 tasks      | elapsed: 74.7min\n",
      "[Parallel(n_jobs=-1)]: Done 450 out of 450 | elapsed: 91.1min finished\n",
      "/home/fred/Desktop/taxonomy/env/lib/python3.6/site-packages/sklearn/model_selection/_search.py:814: DeprecationWarning: The default of the `iid` parameter will change from True to False in version 0.22 and will be removed in 0.24. This will change numeric results when test-set sizes are unequal.\n",
      "  DeprecationWarning)\n"
     ]
    },
    {
     "data": {
      "text/plain": [
       "RandomizedSearchCV(cv=3, error_score='raise-deprecating',\n",
       "                   estimator=RandomForestClassifier(bootstrap=True,\n",
       "                                                    class_weight=None,\n",
       "                                                    criterion='gini',\n",
       "                                                    max_depth=None,\n",
       "                                                    max_features='auto',\n",
       "                                                    max_leaf_nodes=None,\n",
       "                                                    min_impurity_decrease=0.0,\n",
       "                                                    min_impurity_split=None,\n",
       "                                                    min_samples_leaf=1,\n",
       "                                                    min_samples_split=2,\n",
       "                                                    min_weight_fraction_leaf=0.0,\n",
       "                                                    n_estimators='warn',\n",
       "                                                    n_jobs=None,\n",
       "                                                    oob_sc...\n",
       "                                                    warm_start=False),\n",
       "                   iid='warn', n_iter=150, n_jobs=-1,\n",
       "                   param_distributions={'bootstrap': [True, False],\n",
       "                                        'max_depth': [10, 26, 43, 60, 76, 93,\n",
       "                                                      110, None],\n",
       "                                        'max_features': ['sqrt'],\n",
       "                                        'min_samples_leaf': [1, 4],\n",
       "                                        'min_samples_split': [2, 10],\n",
       "                                        'n_estimators': [200, 650, 1100, 1550,\n",
       "                                                         2000]},\n",
       "                   pre_dispatch='2*n_jobs', random_state=42, refit=True,\n",
       "                   return_train_score=False, scoring=None, verbose=2)"
      ]
     },
     "execution_count": 128,
     "metadata": {},
     "output_type": "execute_result"
    }
   ],
   "source": [
    "#  Use the random grid to search for best hyperparameters\n",
    "# First create the base model to tune\n",
    "rf = RandomForestClassifier()\n",
    "# Random search of parameters, using 3 fold cross validation, \n",
    "# search across 100 different combinations, and use all available cores\n",
    "rf_random = RandomizedSearchCV(estimator = rf, param_distributions = random_grid, n_iter = 150, \n",
    "                               cv = 3, verbose=2, random_state=42, n_jobs = -1)\n",
    "# Fit the random search model\n",
    "rf_random.fit(X_train, y_train)\n"
   ]
  },
  {
   "cell_type": "code",
   "execution_count": 133,
   "metadata": {},
   "outputs": [
    {
     "name": "stdout",
     "output_type": "stream",
     "text": [
      "0.6197183098591549\n",
      "{'n_estimators': 1550, 'min_samples_split': 2, 'min_samples_leaf': 1, 'max_features': 'sqrt', 'max_depth': 43, 'bootstrap': False}\n"
     ]
    }
   ],
   "source": [
    "print(rf_random.best_score_)\n",
    "print(rf_random.best_params_)"
   ]
  },
  {
   "cell_type": "code",
   "execution_count": 134,
   "metadata": {},
   "outputs": [
    {
     "name": "stderr",
     "output_type": "stream",
     "text": [
      "/home/fred/Desktop/taxonomy/env/lib/python3.6/site-packages/sklearn/ensemble/forest.py:245: FutureWarning: The default value of n_estimators will change from 10 in version 0.20 to 100 in 0.22.\n",
      "  \"10 in version 0.20 to 100 in 0.22.\", FutureWarning)\n"
     ]
    },
    {
     "data": {
      "text/plain": [
       "RandomForestClassifier(bootstrap=True, class_weight=None, criterion='gini',\n",
       "                       max_depth=None, max_features='auto', max_leaf_nodes=None,\n",
       "                       min_impurity_decrease=0.0, min_impurity_split=None,\n",
       "                       min_samples_leaf=1, min_samples_split=2,\n",
       "                       min_weight_fraction_leaf=0.0, n_estimators=10,\n",
       "                       n_jobs=None, oob_score=False, random_state=None,\n",
       "                       verbose=0, warm_start=False)"
      ]
     },
     "execution_count": 134,
     "metadata": {},
     "output_type": "execute_result"
    }
   ],
   "source": [
    "rf.fit(X_train, y_train)\n"
   ]
  },
  {
   "cell_type": "code",
   "execution_count": null,
   "metadata": {},
   "outputs": [],
   "source": []
  }
 ],
 "metadata": {
  "kernelspec": {
   "display_name": "Python 3",
   "language": "python",
   "name": "python3"
  },
  "language_info": {
   "codemirror_mode": {
    "name": "ipython",
    "version": 3
   },
   "file_extension": ".py",
   "mimetype": "text/x-python",
   "name": "python",
   "nbconvert_exporter": "python",
   "pygments_lexer": "ipython3",
   "version": "3.6.8"
  }
 },
 "nbformat": 4,
 "nbformat_minor": 4
}
