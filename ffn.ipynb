{
 "cells": [
  {
   "cell_type": "code",
   "execution_count": 12,
   "metadata": {},
   "outputs": [],
   "source": [
    "import pandas as pd\n",
    "import numpy as np"
   ]
  },
  {
   "cell_type": "code",
   "execution_count": 13,
   "metadata": {},
   "outputs": [],
   "source": [
    "df = pd.read_pickle('taxonomy_working.pkl')"
   ]
  },
  {
   "cell_type": "code",
   "execution_count": 14,
   "metadata": {},
   "outputs": [
    {
     "data": {
      "text/html": [
       "<div>\n",
       "<style scoped>\n",
       "    .dataframe tbody tr th:only-of-type {\n",
       "        vertical-align: middle;\n",
       "    }\n",
       "\n",
       "    .dataframe tbody tr th {\n",
       "        vertical-align: top;\n",
       "    }\n",
       "\n",
       "    .dataframe thead th {\n",
       "        text-align: right;\n",
       "    }\n",
       "</style>\n",
       "<table border=\"1\" class=\"dataframe\">\n",
       "  <thead>\n",
       "    <tr style=\"text-align: right;\">\n",
       "      <th></th>\n",
       "      <th>Responsable</th>\n",
       "      <th>T1</th>\n",
       "      <th>T2</th>\n",
       "      <th>item_name</th>\n",
       "      <th>item_description</th>\n",
       "      <th>item_code</th>\n",
       "      <th>frn_id</th>\n",
       "      <th>category</th>\n",
       "      <th>_merge</th>\n",
       "      <th>item_text</th>\n",
       "      <th>tokens</th>\n",
       "      <th>n_tokens</th>\n",
       "      <th>prep_text</th>\n",
       "      <th>verbs</th>\n",
       "      <th>adjectives</th>\n",
       "    </tr>\n",
       "  </thead>\n",
       "  <tbody>\n",
       "    <tr>\n",
       "      <th>0</th>\n",
       "      <td>Ana</td>\n",
       "      <td>Pollo</td>\n",
       "      <td>Alitas</td>\n",
       "      <td>Alitas 10 piezas</td>\n",
       "      <td>Salsa a elegir.</td>\n",
       "      <td>72365267</td>\n",
       "      <td>266868</td>\n",
       "      <td>Snacks</td>\n",
       "      <td>both</td>\n",
       "      <td>Snacks Alitas 10 piezas Salsa a elegir</td>\n",
       "      <td>[snacks, alitas, piezas, salsa, elegir]</td>\n",
       "      <td>5</td>\n",
       "      <td>snacks alitas piezas salsa elegir</td>\n",
       "      <td>[elegir]</td>\n",
       "      <td>[alitas]</td>\n",
       "    </tr>\n",
       "    <tr>\n",
       "      <th>1</th>\n",
       "      <td>Rodo</td>\n",
       "      <td>Saludable</td>\n",
       "      <td>Ensalada</td>\n",
       "      <td>Ensalada Philadelphia</td>\n",
       "      <td>A elegir 1 Cama de lechugas Frescas, Más 3 Sem...</td>\n",
       "      <td>69394214</td>\n",
       "      <td>252803</td>\n",
       "      <td>Ensaladas</td>\n",
       "      <td>both</td>\n",
       "      <td>Ensaladas Ensalada Philadelphia A elegir 1 Cam...</td>\n",
       "      <td>[ensaladas, ensalada, philadelphia, elegir, ca...</td>\n",
       "      <td>20</td>\n",
       "      <td>ensaladas ensalada philadelphia elegir cama le...</td>\n",
       "      <td>[elegir, elegir]</td>\n",
       "      <td>[ensalada, philadelphia, frescas, fresas]</td>\n",
       "    </tr>\n",
       "    <tr>\n",
       "      <th>2</th>\n",
       "      <td>Jose</td>\n",
       "      <td>Tacos</td>\n",
       "      <td>Tacos Otros</td>\n",
       "      <td>Hamburguesa Valdéz</td>\n",
       "      <td>200 grs. De molida de sirloin, pan artesanal, ...</td>\n",
       "      <td>65</td>\n",
       "      <td>207665</td>\n",
       "      <td>Hamburguesas al Carbón</td>\n",
       "      <td>both</td>\n",
       "      <td>Hamburguesas al Carbón Hamburguesa Valdéz 200 ...</td>\n",
       "      <td>[hamburguesas, carbón, hamburguesa, valdéz, gr...</td>\n",
       "      <td>22</td>\n",
       "      <td>hamburguesas carbón hamburguesa valdéz grs mol...</td>\n",
       "      <td>[]</td>\n",
       "      <td>[artesanal, asadero, amarillo, acompañada]</td>\n",
       "    </tr>\n",
       "    <tr>\n",
       "      <th>3</th>\n",
       "      <td>Alfredo</td>\n",
       "      <td>Hamburguesas</td>\n",
       "      <td>Hamburguesa</td>\n",
       "      <td>LA BBQ DE LUXE!</td>\n",
       "      <td>pan artesanal,jitomate, cebolla lechuga, pepin...</td>\n",
       "      <td>33141492</td>\n",
       "      <td>48028</td>\n",
       "      <td>HAMBURGUESAS AL CARBON</td>\n",
       "      <td>both</td>\n",
       "      <td>HAMBURGUESAS AL CARBON LA BBQ DE LUXE  pan art...</td>\n",
       "      <td>[hamburguesas, carbon, bbq, luxe, pan, artesan...</td>\n",
       "      <td>16</td>\n",
       "      <td>hamburguesas carbon bbq luxe pan artesanal jit...</td>\n",
       "      <td>[]</td>\n",
       "      <td>[artesanal, fritos]</td>\n",
       "    </tr>\n",
       "    <tr>\n",
       "      <th>4</th>\n",
       "      <td>Ana</td>\n",
       "      <td>Pizza</td>\n",
       "      <td>Pizza gourmet</td>\n",
       "      <td>2 Pizza Grande 4 Ingredientes.</td>\n",
       "      <td>Base de salsa pomodora, queso mozzarella y que...</td>\n",
       "      <td>539849</td>\n",
       "      <td>539157</td>\n",
       "      <td>Pizzas</td>\n",
       "      <td>both</td>\n",
       "      <td>Pizzas 2 Pizza Grande 4 Ingredientes  Base de ...</td>\n",
       "      <td>[pizzas, pizza, grande, ingredientes, base, sa...</td>\n",
       "      <td>11</td>\n",
       "      <td>pizzas pizza grande ingredientes base salsa po...</td>\n",
       "      <td>[]</td>\n",
       "      <td>[grande]</td>\n",
       "    </tr>\n",
       "  </tbody>\n",
       "</table>\n",
       "</div>"
      ],
      "text/plain": [
       "  Responsable            T1             T2                       item_name  \\\n",
       "0         Ana         Pollo         Alitas                Alitas 10 piezas   \n",
       "1        Rodo     Saludable       Ensalada           Ensalada Philadelphia   \n",
       "2        Jose         Tacos    Tacos Otros              Hamburguesa Valdéz   \n",
       "3     Alfredo  Hamburguesas    Hamburguesa                 LA BBQ DE LUXE!   \n",
       "4         Ana         Pizza  Pizza gourmet  2 Pizza Grande 4 Ingredientes.   \n",
       "\n",
       "                                    item_description  item_code  frn_id  \\\n",
       "0                                    Salsa a elegir.   72365267  266868   \n",
       "1  A elegir 1 Cama de lechugas Frescas, Más 3 Sem...   69394214  252803   \n",
       "2  200 grs. De molida de sirloin, pan artesanal, ...         65  207665   \n",
       "3  pan artesanal,jitomate, cebolla lechuga, pepin...   33141492   48028   \n",
       "4  Base de salsa pomodora, queso mozzarella y que...     539849  539157   \n",
       "\n",
       "                 category _merge  \\\n",
       "0                  Snacks   both   \n",
       "1               Ensaladas   both   \n",
       "2  Hamburguesas al Carbón   both   \n",
       "3  HAMBURGUESAS AL CARBON   both   \n",
       "4                  Pizzas   both   \n",
       "\n",
       "                                           item_text  \\\n",
       "0            Snacks Alitas 10 piezas Salsa a elegir    \n",
       "1  Ensaladas Ensalada Philadelphia A elegir 1 Cam...   \n",
       "2  Hamburguesas al Carbón Hamburguesa Valdéz 200 ...   \n",
       "3  HAMBURGUESAS AL CARBON LA BBQ DE LUXE  pan art...   \n",
       "4  Pizzas 2 Pizza Grande 4 Ingredientes  Base de ...   \n",
       "\n",
       "                                              tokens  n_tokens  \\\n",
       "0            [snacks, alitas, piezas, salsa, elegir]         5   \n",
       "1  [ensaladas, ensalada, philadelphia, elegir, ca...        20   \n",
       "2  [hamburguesas, carbón, hamburguesa, valdéz, gr...        22   \n",
       "3  [hamburguesas, carbon, bbq, luxe, pan, artesan...        16   \n",
       "4  [pizzas, pizza, grande, ingredientes, base, sa...        11   \n",
       "\n",
       "                                           prep_text             verbs  \\\n",
       "0                  snacks alitas piezas salsa elegir          [elegir]   \n",
       "1  ensaladas ensalada philadelphia elegir cama le...  [elegir, elegir]   \n",
       "2  hamburguesas carbón hamburguesa valdéz grs mol...                []   \n",
       "3  hamburguesas carbon bbq luxe pan artesanal jit...                []   \n",
       "4  pizzas pizza grande ingredientes base salsa po...                []   \n",
       "\n",
       "                                   adjectives  \n",
       "0                                    [alitas]  \n",
       "1   [ensalada, philadelphia, frescas, fresas]  \n",
       "2  [artesanal, asadero, amarillo, acompañada]  \n",
       "3                         [artesanal, fritos]  \n",
       "4                                    [grande]  "
      ]
     },
     "execution_count": 14,
     "metadata": {},
     "output_type": "execute_result"
    }
   ],
   "source": [
    "df.head()"
   ]
  },
  {
   "cell_type": "markdown",
   "metadata": {},
   "source": [
    "# embedding"
   ]
  },
  {
   "cell_type": "code",
   "execution_count": 15,
   "metadata": {},
   "outputs": [],
   "source": [
    "import string\n",
    "import gensim\n",
    "\n",
    "sentences = df.tokens\n"
   ]
  },
  {
   "cell_type": "code",
   "execution_count": 16,
   "metadata": {},
   "outputs": [],
   "source": [
    "from gensim.test.utils import get_tmpfile\n",
    "from gensim.models import KeyedVectors\n",
    "\n",
    "fname = \"w2v_final.kv\"\n"
   ]
  },
  {
   "cell_type": "code",
   "execution_count": 17,
   "metadata": {},
   "outputs": [],
   "source": [
    "word_model = gensim.models.Word2Vec.load(fname, mmap='r')\n",
    "pretrained_weights = word_model.wv.vectors\n",
    "\n",
    "\n",
    "def word2idx(word):\n",
    "    return word_model.wv.vocab[word].index\n",
    "def idx2word(idx):\n",
    "    return word_model.wv.index2word[idx]\n"
   ]
  },
  {
   "cell_type": "code",
   "execution_count": 18,
   "metadata": {},
   "outputs": [],
   "source": [
    "# save for tensorboard embedding projector viz\n",
    "# word_model.wv.save_word2vec_format('dish_w2v')\n",
    "# shell run: python -m gensim.scripts.word2vec2tensor --input dish_w2v --output dish_w2v"
   ]
  },
  {
   "cell_type": "markdown",
   "metadata": {},
   "source": [
    "## BiLSTM"
   ]
  },
  {
   "cell_type": "code",
   "execution_count": 19,
   "metadata": {},
   "outputs": [],
   "source": [
    "# This code is inspirated by https://www.kaggle.com/qqgeogor/keras-lstm-attention-glove840b-lb-0-043\n",
    "\n",
    "from keras import backend as K\n",
    "from keras.engine.topology import Layer\n",
    "#from keras import initializations\n",
    "from keras import initializers, regularizers, constraints\n",
    "\n",
    "\n",
    "def dot_product(x, kernel):\n",
    "    \"\"\"\n",
    "    Wrapper for dot product operation, in order to be compatible with both\n",
    "    Theano and Tensorflow\n",
    "    Args:\n",
    "        x (): input\n",
    "        kernel (): weights\n",
    "    Returns:\n",
    "    \"\"\"\n",
    "    if K.backend() == 'tensorflow':\n",
    "        return K.squeeze(K.dot(x, K.expand_dims(kernel)), axis=-1)\n",
    "    else:\n",
    "        return K.dot(x, kernel)\n",
    "    \n",
    "\n",
    "class AttentionWithContext(Layer):\n",
    "    \"\"\"\n",
    "    Attention operation, with a context/query vector, for temporal data.\n",
    "    Supports Masking.\n",
    "    Follows the work of Yang et al. [https://www.cs.cmu.edu/~diyiy/docs/naacl16.pdf]\n",
    "    \"Hierarchical Attention Networks for Document Classification\"\n",
    "    by using a context vector to assist the attention\n",
    "    # Input shape\n",
    "        3D tensor with shape: `(samples, steps, features)`.\n",
    "    # Output shape\n",
    "        2D tensor with shape: `(samples, features)`.\n",
    "    How to use:\n",
    "    Just put it on top of an RNN Layer (GRU/LSTM/SimpleRNN) with return_sequences=True.\n",
    "    The dimensions are inferred based on the output shape of the RNN.\n",
    "    Note: The layer has been tested with Keras 2.0.6\n",
    "    Example:\n",
    "        model.add(LSTM(64, return_sequences=True))\n",
    "        model.add(AttentionWithContext())\n",
    "        # next add a Dense layer (for classification/regression) or whatever...\n",
    "    \"\"\"\n",
    "\n",
    "    def __init__(self,\n",
    "                 W_regularizer=None, u_regularizer=None, b_regularizer=None,\n",
    "                 W_constraint=None, u_constraint=None, b_constraint=None,\n",
    "                 bias=True, **kwargs):\n",
    "\n",
    "        self.supports_masking = True\n",
    "        self.init = initializers.get('glorot_uniform')\n",
    "\n",
    "        self.W_regularizer = regularizers.get(W_regularizer)\n",
    "        self.u_regularizer = regularizers.get(u_regularizer)\n",
    "        self.b_regularizer = regularizers.get(b_regularizer)\n",
    "\n",
    "        self.W_constraint = constraints.get(W_constraint)\n",
    "        self.u_constraint = constraints.get(u_constraint)\n",
    "        self.b_constraint = constraints.get(b_constraint)\n",
    "\n",
    "        self.bias = bias\n",
    "        super(AttentionWithContext, self).__init__(**kwargs)\n",
    "\n",
    "    def build(self, input_shape):\n",
    "        assert len(input_shape) == 3\n",
    "\n",
    "        self.W = self.add_weight(shape=(input_shape[-1], input_shape[-1],),\n",
    "                                 initializer=self.init,\n",
    "                                 name='{}_W'.format(self.name),\n",
    "                                 regularizer=self.W_regularizer,\n",
    "                                 constraint=self.W_constraint)\n",
    "        if self.bias:\n",
    "            self.b = self.add_weight(shape=(input_shape[-1],),\n",
    "                                     initializer='zero',\n",
    "                                     name='{}_b'.format(self.name),\n",
    "                                     regularizer=self.b_regularizer,\n",
    "                                     constraint=self.b_constraint)\n",
    "\n",
    "        self.u = self.add_weight(shape=(input_shape[-1],),\n",
    "                                 initializer=self.init,\n",
    "                                 name='{}_u'.format(self.name),\n",
    "                                 regularizer=self.u_regularizer,\n",
    "                                 constraint=self.u_constraint)\n",
    "\n",
    "        super(AttentionWithContext, self).build(input_shape)\n",
    "\n",
    "    def compute_mask(self, input, input_mask=None):\n",
    "        # do not pass the mask to the next layers\n",
    "        return None\n",
    "\n",
    "    def call(self, x, mask=None):\n",
    "        uit = dot_product(x, self.W)\n",
    "\n",
    "        if self.bias:\n",
    "            uit += self.b\n",
    "\n",
    "        uit = K.tanh(uit)\n",
    "        ait = dot_product(uit, self.u)\n",
    "\n",
    "        a = K.exp(ait)\n",
    "\n",
    "        # apply mask after the exp. will be re-normalized next\n",
    "        if mask is not None:\n",
    "            # Cast the mask to floatX to avoid float64 upcasting in theano\n",
    "            a *= K.cast(mask, K.floatx())\n",
    "\n",
    "        # in some cases especially in the early stages of training the sum may be almost zero\n",
    "        # and this results in NaN's. A workaround is to add a very small positive number ε to the sum.\n",
    "        # a /= K.cast(K.sum(a, axis=1, keepdims=True), K.floatx())\n",
    "        a /= K.cast(K.sum(a, axis=1, keepdims=True) + K.epsilon(), K.floatx())\n",
    "\n",
    "        a = K.expand_dims(a)\n",
    "        weighted_input = x * a\n",
    "        return K.sum(weighted_input, axis=1)\n",
    "\n",
    "    def compute_output_shape(self, input_shape):\n",
    "        return input_shape[0], input_shape[-1]"
   ]
  },
  {
   "cell_type": "code",
   "execution_count": 20,
   "metadata": {},
   "outputs": [],
   "source": [
    "from keras.models import Model\n",
    "from keras.layers import Dense, Embedding, Input\n",
    "from keras.layers import LSTM, Bidirectional, Dropout, GRU,Flatten\n",
    "\n",
    "\n",
    "def ffn(maxlen, max_features, embed_size, embedding_matrix, n_classes):\n",
    "    inp = Input(shape=(maxlen, ))\n",
    "    x = Embedding(max_features, embed_size, weights=[embedding_matrix],\n",
    "                  trainable=False)(inp)\n",
    "    x = Dense(256, activation=\"relu\")(x)\n",
    "    x = Dropout(0.2)(x)\n",
    "    x = Flatten()(x)\n",
    "    x = Dense(n_classes, activation=\"softmax\")(x)\n",
    "    model = Model(inputs=inp, outputs=x)\n",
    "\n",
    "    return model\n",
    "\n",
    "\n",
    "def BidLstmAtt(maxlen, max_features, embed_size, embedding_matrix, n_classes):\n",
    "    inp = Input(shape=(maxlen, ))\n",
    "    emb = Embedding(max_features, embed_size, weights=[embedding_matrix],\n",
    "                  trainable=False)(inp)\n",
    "    \n",
    "    x = Bidirectional(LSTM(300, return_sequences=True, dropout=0.1,\n",
    "                           recurrent_dropout=0.1))(emb)\n",
    "\n",
    "    x = AttentionWithContext()(x)\n",
    "    x = Dense(256, activation=\"relu\")(x)\n",
    "    x = Dropout(0.2)(x)\n",
    "    x = Dense(n_classes, activation=\"softmax\")(x)\n",
    "    model = Model(inputs=inp, outputs=x)\n",
    "\n",
    "    return model\n",
    "\n",
    "def BidLstm2(maxlen, max_features, embed_size, embedding_matrix, n_classes):\n",
    "    inp = Input(shape=(maxlen, ))\n",
    "    emb = Embedding(max_features, embed_size, weights=[embedding_matrix],\n",
    "                  trainable=False)(inp)\n",
    "    \n",
    "    convs = [Bidirectional(LSTM(250, return_sequences=True, dropout=0.1,\n",
    "                           recurrent_dropout=0.1))(emb),\n",
    "            Bidirectional(GRU(250, return_sequences=True, dropout=0.1,\n",
    "                           recurrent_dropout=0.1))(emb)]\n",
    "\n",
    "    x = Concatenate(axis = 1)(convs)\n",
    "    x = AttentionWithContext()(x)\n",
    "    x = Dense(256, activation=\"relu\")(x)\n",
    "    x = Dropout(0.2)(x)\n",
    "    x = Dense(n_classes, activation=\"softmax\")(x)\n",
    "    model = Model(inputs=inp, outputs=x)\n",
    "\n",
    "    return model"
   ]
  },
  {
   "cell_type": "markdown",
   "metadata": {},
   "source": [
    "## train test split"
   ]
  },
  {
   "cell_type": "code",
   "execution_count": 21,
   "metadata": {},
   "outputs": [
    {
     "name": "stdout",
     "output_type": "stream",
     "text": [
      "[ 0 23 57 ... 42 43 28]\n"
     ]
    }
   ],
   "source": [
    "from numpy import array\n",
    "from numpy import argmax\n",
    "from sklearn.preprocessing import LabelEncoder\n",
    "from sklearn.preprocessing import OneHotEncoder\n",
    "\n",
    "# Naive class imbalance correction\n",
    "imbal = df.T2.value_counts().index[df.T2.value_counts() < 10]\n",
    "\n",
    "df['T2_isimbal'] = df.T2.map(lambda x: x in list(imbal))\n",
    "df['T2_corrected'] = df.T2\n",
    "\n",
    "df.loc[df.T2_isimbal,['T2_corrected']] = 'Otros otros' \n",
    "\n",
    "# integer encode\n",
    "label_encoder = LabelEncoder()\n",
    "integer_encoded = label_encoder.fit_transform(df.T2_corrected.map(str))\n",
    "print(integer_encoded)\n"
   ]
  },
  {
   "cell_type": "code",
   "execution_count": 22,
   "metadata": {},
   "outputs": [
    {
     "name": "stderr",
     "output_type": "stream",
     "text": [
      "/home/fred/Desktop/taxonomy/env/lib/python3.6/site-packages/sklearn/preprocessing/_encoders.py:415: FutureWarning: The handling of integer data will change in version 0.22. Currently, the categories are determined based on the range [0, max(values)], while in the future they will be determined based on the unique values.\n",
      "If you want the future behaviour and silence this warning, you can specify \"categories='auto'\".\n",
      "In case you used a LabelEncoder before this OneHotEncoder to convert the categories to integers, then you can now use the OneHotEncoder directly.\n",
      "  warnings.warn(msg, FutureWarning)\n"
     ]
    }
   ],
   "source": [
    "# binary encode\n",
    "onehot_encoder = OneHotEncoder(sparse=False)\n",
    "y = onehot_encoder.fit_transform(integer_encoded.reshape(-1, 1))"
   ]
  },
  {
   "cell_type": "code",
   "execution_count": 25,
   "metadata": {},
   "outputs": [
    {
     "name": "stdout",
     "output_type": "stream",
     "text": [
      "(6681, 35)\n"
     ]
    }
   ],
   "source": [
    "from keras.preprocessing.text import Tokenizer\n",
    "from keras.preprocessing.sequence import pad_sequences\n",
    "\n",
    "docs = df.prep_text\n",
    "\n",
    "# prepare tokenizer\n",
    "t = Tokenizer()\n",
    "t.fit_on_texts(df.prep_text)\n",
    "vocab_size = len(t.word_index) + 1\n",
    "\n",
    "# integer encode the documents\n",
    "encoded_docs = t.texts_to_sequences(docs)\n",
    "# print(encoded_docs)\n",
    "\n",
    "# pad documents to a max length of 4 words\n",
    "max_length = 35\n",
    "padded_docs = pad_sequences(encoded_docs, maxlen=max_length, padding='post')\n",
    "print(padded_docs.shape)\n"
   ]
  },
  {
   "cell_type": "code",
   "execution_count": 26,
   "metadata": {},
   "outputs": [],
   "source": [
    "n_classes = y.shape[1]"
   ]
  },
  {
   "cell_type": "code",
   "execution_count": 28,
   "metadata": {},
   "outputs": [
    {
     "name": "stdout",
     "output_type": "stream",
     "text": [
      "\n",
      "Preparing the data for LSTM...\n",
      "X shape: (6681, 35)\n"
     ]
    }
   ],
   "source": [
    "print('\\nPreparing the data for LSTM...')\n",
    "X = np.zeros([len(sentences), max_length], dtype=np.int32)\n",
    "for i, sentence in enumerate(sentences):\n",
    "    for t, word in enumerate(sentence[:max_length]):\n",
    "        X[i, t] = word2idx(word)\n",
    "print('X shape:', X.shape)\n"
   ]
  },
  {
   "cell_type": "code",
   "execution_count": 29,
   "metadata": {},
   "outputs": [],
   "source": [
    "from sklearn.model_selection import train_test_split\n",
    "\n",
    "# X = padded_docs\n",
    "# le.inverse_transform([0, 0, 1, 2])\n",
    "\n",
    "X_train, X_test, y_train, y_test = train_test_split(\n",
    "    X, y, test_size=0.20, random_state=42)"
   ]
  },
  {
   "cell_type": "code",
   "execution_count": 30,
   "metadata": {},
   "outputs": [
    {
     "data": {
      "text/plain": [
       "64"
      ]
     },
     "execution_count": 30,
     "metadata": {},
     "output_type": "execute_result"
    }
   ],
   "source": [
    "n_classes"
   ]
  },
  {
   "cell_type": "code",
   "execution_count": 37,
   "metadata": {},
   "outputs": [],
   "source": [
    "vocab_size, embedding_size = pretrained_weights.shape\n",
    "\n",
    "model = BidLstmAtt(maxlen=max_length,\n",
    "                max_features= vocab_size,\n",
    "                embed_size= embedding_size,\n",
    "                embedding_matrix=pretrained_weights,\n",
    "                n_classes=64)"
   ]
  },
  {
   "cell_type": "code",
   "execution_count": 38,
   "metadata": {},
   "outputs": [
    {
     "name": "stdout",
     "output_type": "stream",
     "text": [
      "The tensorboard extension is already loaded. To reload it, use:\n",
      "  %reload_ext tensorboard\n"
     ]
    },
    {
     "data": {
      "text/plain": [
       "Reusing TensorBoard on port 6006 (pid 31668), started 4:55:12 ago. (Use '!kill 31668' to kill it.)"
      ]
     },
     "metadata": {},
     "output_type": "display_data"
    },
    {
     "data": {
      "text/html": [
       "\n",
       "      <iframe id=\"tensorboard-frame-3aa7a98aac42d418\" width=\"100%\" height=\"800\" frameborder=\"0\">\n",
       "      </iframe>\n",
       "      <script>\n",
       "        (function() {\n",
       "          const frame = document.getElementById(\"tensorboard-frame-3aa7a98aac42d418\");\n",
       "          const url = new URL(\"/\", window.location);\n",
       "          url.port = 6006;\n",
       "          frame.src = url;\n",
       "        })();\n",
       "      </script>\n",
       "  "
      ],
      "text/plain": [
       "<IPython.core.display.HTML object>"
      ]
     },
     "metadata": {},
     "output_type": "display_data"
    }
   ],
   "source": [
    "# Load TENSORBOARD\n",
    "%load_ext tensorboard\n",
    "# Start TENSORBOARD\n",
    "%tensorboard --logdir ./logs"
   ]
  },
  {
   "cell_type": "code",
   "execution_count": 39,
   "metadata": {},
   "outputs": [
    {
     "name": "stdout",
     "output_type": "stream",
     "text": [
      "Model: \"model_3\"\n",
      "_________________________________________________________________\n",
      "Layer (type)                 Output Shape              Param #   \n",
      "=================================================================\n",
      "input_3 (InputLayer)         (None, 35)                0         \n",
      "_________________________________________________________________\n",
      "embedding_3 (Embedding)      (None, 35, 100)           557800    \n",
      "_________________________________________________________________\n",
      "bidirectional_3 (Bidirection (None, 35, 600)           962400    \n",
      "_________________________________________________________________\n",
      "attention_with_context_3 (At (None, 600)               361200    \n",
      "_________________________________________________________________\n",
      "dense_5 (Dense)              (None, 256)               153856    \n",
      "_________________________________________________________________\n",
      "dropout_3 (Dropout)          (None, 256)               0         \n",
      "_________________________________________________________________\n",
      "dense_6 (Dense)              (None, 64)                16448     \n",
      "=================================================================\n",
      "Total params: 2,051,704\n",
      "Trainable params: 1,493,904\n",
      "Non-trainable params: 557,800\n",
      "_________________________________________________________________\n"
     ]
    }
   ],
   "source": [
    "from keras.utils import plot_model\n",
    "# plot_model(model, to_file='bilstmatt.png')\n",
    "\n",
    "model.summary()"
   ]
  },
  {
   "cell_type": "code",
   "execution_count": 40,
   "metadata": {},
   "outputs": [],
   "source": [
    "from keras.callbacks import EarlyStopping, ModelCheckpoint, TensorBoard\n",
    "np.random.seed(7)\n",
    "\n",
    "model.compile(loss='categorical_crossentropy', optimizer='adam',\n",
    "                  metrics=['accuracy'])\n",
    "file_path = \".model.hdf5\"\n",
    "ckpt = ModelCheckpoint(file_path, monitor='val_loss', verbose=1,\n",
    "                           save_best_only=True, mode='min')\n",
    "early = EarlyStopping(monitor=\"val_loss\", mode=\"min\", patience=5)\n",
    "tensorBoard = TensorBoard(log_dir = \"./logs\", histogram_freq = 1)\n"
   ]
  },
  {
   "cell_type": "code",
   "execution_count": 41,
   "metadata": {},
   "outputs": [
    {
     "name": "stdout",
     "output_type": "stream",
     "text": [
      "Train on 4809 samples, validate on 535 samples\n",
      "Epoch 1/100\n",
      "4809/4809 [==============================] - 21s 4ms/step - loss: 3.5490 - accuracy: 0.2163 - val_loss: 2.6437 - val_accuracy: 0.4561\n",
      "\n",
      "Epoch 00001: val_loss improved from inf to 2.64367, saving model to .model.hdf5\n",
      "Epoch 2/100\n",
      "4809/4809 [==============================] - 20s 4ms/step - loss: 2.1062 - accuracy: 0.5357 - val_loss: 1.7187 - val_accuracy: 0.6093\n",
      "\n",
      "Epoch 00002: val_loss improved from 2.64367 to 1.71871, saving model to .model.hdf5\n",
      "Epoch 3/100\n",
      "4809/4809 [==============================] - 16s 3ms/step - loss: 1.4886 - accuracy: 0.6629 - val_loss: 1.3917 - val_accuracy: 0.6953\n",
      "\n",
      "Epoch 00003: val_loss improved from 1.71871 to 1.39168, saving model to .model.hdf5\n",
      "Epoch 4/100\n",
      "4809/4809 [==============================] - 17s 4ms/step - loss: 1.1735 - accuracy: 0.7207 - val_loss: 1.2085 - val_accuracy: 0.7290\n",
      "\n",
      "Epoch 00004: val_loss improved from 1.39168 to 1.20846, saving model to .model.hdf5\n",
      "Epoch 5/100\n",
      "4809/4809 [==============================] - 17s 4ms/step - loss: 0.9383 - accuracy: 0.7713 - val_loss: 1.0574 - val_accuracy: 0.7533\n",
      "\n",
      "Epoch 00005: val_loss improved from 1.20846 to 1.05740, saving model to .model.hdf5\n",
      "Epoch 6/100\n",
      "4809/4809 [==============================] - 17s 3ms/step - loss: 0.7818 - accuracy: 0.8016 - val_loss: 0.9987 - val_accuracy: 0.7664\n",
      "\n",
      "Epoch 00006: val_loss improved from 1.05740 to 0.99869, saving model to .model.hdf5\n",
      "Epoch 7/100\n",
      "4809/4809 [==============================] - 17s 4ms/step - loss: 0.6695 - accuracy: 0.8284 - val_loss: 0.9771 - val_accuracy: 0.7682\n",
      "\n",
      "Epoch 00007: val_loss improved from 0.99869 to 0.97711, saving model to .model.hdf5\n",
      "Epoch 8/100\n",
      "4809/4809 [==============================] - 16s 3ms/step - loss: 0.5912 - accuracy: 0.8447 - val_loss: 0.9743 - val_accuracy: 0.7701\n",
      "\n",
      "Epoch 00008: val_loss improved from 0.97711 to 0.97426, saving model to .model.hdf5\n",
      "Epoch 9/100\n",
      "4809/4809 [==============================] - 16s 3ms/step - loss: 0.5254 - accuracy: 0.8571 - val_loss: 0.9280 - val_accuracy: 0.7757\n",
      "\n",
      "Epoch 00009: val_loss improved from 0.97426 to 0.92802, saving model to .model.hdf5\n",
      "Epoch 10/100\n",
      "4809/4809 [==============================] - 17s 3ms/step - loss: 0.4595 - accuracy: 0.8732 - val_loss: 0.9195 - val_accuracy: 0.7925\n",
      "\n",
      "Epoch 00010: val_loss improved from 0.92802 to 0.91954, saving model to .model.hdf5\n",
      "Epoch 11/100\n",
      "4809/4809 [==============================] - 17s 4ms/step - loss: 0.3885 - accuracy: 0.8927 - val_loss: 0.9885 - val_accuracy: 0.7701\n",
      "\n",
      "Epoch 00011: val_loss did not improve from 0.91954\n",
      "Epoch 12/100\n",
      "4809/4809 [==============================] - 16s 3ms/step - loss: 0.3451 - accuracy: 0.9014 - val_loss: 0.9993 - val_accuracy: 0.7682\n",
      "\n",
      "Epoch 00012: val_loss did not improve from 0.91954\n",
      "Epoch 13/100\n",
      "4809/4809 [==============================] - 16s 3ms/step - loss: 0.2950 - accuracy: 0.9191 - val_loss: 0.9855 - val_accuracy: 0.7832\n",
      "\n",
      "Epoch 00013: val_loss did not improve from 0.91954\n",
      "Epoch 14/100\n",
      "4809/4809 [==============================] - 16s 3ms/step - loss: 0.2633 - accuracy: 0.9260 - val_loss: 0.9894 - val_accuracy: 0.7813\n",
      "\n",
      "Epoch 00014: val_loss did not improve from 0.91954\n",
      "Epoch 15/100\n",
      "4809/4809 [==============================] - 17s 4ms/step - loss: 0.2309 - accuracy: 0.9395 - val_loss: 1.0093 - val_accuracy: 0.7888\n",
      "\n",
      "Epoch 00015: val_loss did not improve from 0.91954\n"
     ]
    },
    {
     "data": {
      "text/plain": [
       "<keras.callbacks.callbacks.History at 0x7f2f50223ef0>"
      ]
     },
     "execution_count": 41,
     "metadata": {},
     "output_type": "execute_result"
    }
   ],
   "source": [
    "model.fit(X_train, y_train, batch_size=500, epochs=100, validation_split=0.1, callbacks=[tensorBoard,ckpt, early])\n",
    "#model.fit(xtr, y, batch_size=256, epochs=1, validation_split=0.1)"
   ]
  },
  {
   "cell_type": "code",
   "execution_count": 35,
   "metadata": {},
   "outputs": [],
   "source": [
    "model.save('bilstm_attention_V1.h5')"
   ]
  },
  {
   "cell_type": "markdown",
   "metadata": {},
   "source": [
    "# Model evaluation"
   ]
  },
  {
   "cell_type": "code",
   "execution_count": 36,
   "metadata": {},
   "outputs": [],
   "source": [
    "from keras.models import load_model\n",
    "\n",
    "model = load_model('bilstm_attention_V1.h5', custom_objects={'Attention' : Attention})\n",
    "#model = Model(inputs=model.input,\n",
    "              #outputs=[model.output, model.get_layer('attention_7').output])"
   ]
  },
  {
   "cell_type": "code",
   "execution_count": 42,
   "metadata": {},
   "outputs": [
    {
     "name": "stdout",
     "output_type": "stream",
     "text": [
      "Accuracy: 76.140612\n"
     ]
    }
   ],
   "source": [
    "loss, accuracy = model.evaluate(X_test, y_test, verbose=0)\n",
    "print('Accuracy: %f' % (accuracy*100))"
   ]
  },
  {
   "cell_type": "code",
   "execution_count": 43,
   "metadata": {},
   "outputs": [],
   "source": [
    "from sklearn.metrics import confusion_matrix"
   ]
  },
  {
   "cell_type": "code",
   "execution_count": 44,
   "metadata": {},
   "outputs": [],
   "source": [
    "y_pred = model.predict(X_test)\n",
    "y_pred_decoded = np.argmax(y_pred,axis=1)"
   ]
  },
  {
   "cell_type": "code",
   "execution_count": 45,
   "metadata": {},
   "outputs": [],
   "source": [
    "y_test_decoded = np.argmax(y_test,axis=1)"
   ]
  },
  {
   "cell_type": "code",
   "execution_count": 46,
   "metadata": {},
   "outputs": [
    {
     "data": {
      "text/plain": [
       "array([[26,  0,  0, ...,  0,  0,  0],\n",
       "       [ 0,  0,  0, ...,  0,  0,  0],\n",
       "       [ 0,  0, 13, ...,  0,  0,  0],\n",
       "       ...,\n",
       "       [ 0,  0,  0, ...,  8,  0,  0],\n",
       "       [ 0,  0,  0, ...,  0,  0,  0],\n",
       "       [ 0,  0,  0, ...,  0,  0,  1]])"
      ]
     },
     "execution_count": 46,
     "metadata": {},
     "output_type": "execute_result"
    }
   ],
   "source": [
    "confusion_matrix(y_test_decoded, y_pred_decoded)"
   ]
  },
  {
   "cell_type": "code",
   "execution_count": 30,
   "metadata": {},
   "outputs": [],
   "source": [
    "import seaborn as sn\n",
    "import matplotlib.pyplot as plt "
   ]
  },
  {
   "cell_type": "code",
   "execution_count": 31,
   "metadata": {},
   "outputs": [
    {
     "data": {
      "text/plain": [
       "<matplotlib.axes._subplots.AxesSubplot at 0x7fd8a31c44a8>"
      ]
     },
     "execution_count": 31,
     "metadata": {},
     "output_type": "execute_result"
    },
    {
     "data": {
      "image/png": "[encoded data removed]",
      "text/plain": [
       "<Figure size 936x936 with 2 Axes>"
      ]
     },
     "metadata": {
      "needs_background": "light"
     },
     "output_type": "display_data"
    }
   ],
   "source": [
    "from sklearn import metrics\n",
    "plt.figure(figsize = (13,13))\n",
    "sn.heatmap(metrics.confusion_matrix(y_test_decoded, y_pred_decoded), annot=True)\n"
   ]
  },
  {
   "cell_type": "code",
   "execution_count": 47,
   "metadata": {},
   "outputs": [],
   "source": [
    "from sklearn.preprocessing import label_binarize, LabelBinarizer\n",
    "from sklearn.metrics import *\n",
    "\n",
    "def multiclass_roc_auc_score(y_test, y_pred, average=\"macro\"):\n",
    "    lb = LabelBinarizer()\n",
    "    lb.fit(y_test)\n",
    "\n",
    "    y_test = lb.transform(y_test)\n",
    "    y_pred = lb.transform(y_pred)\n",
    "    return roc_auc_score(y_test, y_pred, average=average)\n"
   ]
  },
  {
   "cell_type": "code",
   "execution_count": 48,
   "metadata": {},
   "outputs": [
    {
     "data": {
      "text/plain": [
       "0.8134433000195598"
      ]
     },
     "execution_count": 48,
     "metadata": {},
     "output_type": "execute_result"
    }
   ],
   "source": [
    "multiclass_roc_auc_score(y_test_decoded,y_pred_decoded)"
   ]
  },
  {
   "cell_type": "code",
   "execution_count": 49,
   "metadata": {},
   "outputs": [
    {
     "data": {
      "text/plain": [
       "array([28, 54, 60, 23, 28, 28, 57, 60, 56, 23, 16, 54, 60, 60, 60])"
      ]
     },
     "execution_count": 49,
     "metadata": {},
     "output_type": "execute_result"
    }
   ],
   "source": [
    "y_pred_decoded[:15]"
   ]
  },
  {
   "cell_type": "code",
   "execution_count": 50,
   "metadata": {},
   "outputs": [
    {
     "data": {
      "text/plain": [
       "array([28, 54, 60, 23, 28, 28, 57, 28, 56, 23, 16, 54, 60, 60, 60])"
      ]
     },
     "execution_count": 50,
     "metadata": {},
     "output_type": "execute_result"
    }
   ],
   "source": [
    "y_test_decoded[:15]"
   ]
  },
  {
   "cell_type": "code",
   "execution_count": 51,
   "metadata": {},
   "outputs": [
    {
     "data": {
      "text/plain": [
       "0.7614061331338818"
      ]
     },
     "execution_count": 51,
     "metadata": {},
     "output_type": "execute_result"
    }
   ],
   "source": [
    "accuracy_score(y_test_decoded, y_pred_decoded)"
   ]
  },
  {
   "cell_type": "markdown",
   "metadata": {},
   "source": [
    "## Visualizing attention"
   ]
  },
  {
   "cell_type": "code",
   "execution_count": 300,
   "metadata": {},
   "outputs": [],
   "source": [
    "outputs = model.predict(X_test)\n",
    "model_outputs = outputs[0]\n",
    "attention_outputs = outputs[1]"
   ]
  },
  {
   "cell_type": "code",
   "execution_count": 301,
   "metadata": {},
   "outputs": [
    {
     "data": {
      "text/plain": [
       "array([57, 56, 46, ...,  0, 22, 49])"
      ]
     },
     "execution_count": 301,
     "metadata": {},
     "output_type": "execute_result"
    }
   ],
   "source": [
    "np.argmax(model_outputs,axis=1)"
   ]
  },
  {
   "cell_type": "code",
   "execution_count": 406,
   "metadata": {},
   "outputs": [],
   "source": [
    "import random\n",
    "i = random.randint(0,len(df))"
   ]
  },
  {
   "cell_type": "code",
   "execution_count": 407,
   "metadata": {},
   "outputs": [
    {
     "data": {
      "text/plain": [
       "'huevo divorciar incluir porción fríjol pieza pan bolillo café vaso fruto'"
      ]
     },
     "execution_count": 407,
     "metadata": {},
     "output_type": "execute_result"
    }
   ],
   "source": [
    "df.prep_text[i]"
   ]
  },
  {
   "cell_type": "code",
   "execution_count": 419,
   "metadata": {},
   "outputs": [],
   "source": [
    "outputs = model.predict(padded_docs[i:i+1])\n"
   ]
  },
  {
   "cell_type": "code",
   "execution_count": 420,
   "metadata": {},
   "outputs": [
    {
     "name": "stdout",
     "output_type": "stream",
     "text": [
      "[3]\n"
     ]
    }
   ],
   "source": [
    "pred_class = np.argmax(outputs,axis=1)\n",
    "print(pred_class)"
   ]
  },
  {
   "cell_type": "code",
   "execution_count": 424,
   "metadata": {},
   "outputs": [
    {
     "data": {
      "text/plain": [
       "array(['Asiática otros'], dtype=object)"
      ]
     },
     "execution_count": 424,
     "metadata": {},
     "output_type": "execute_result"
    }
   ],
   "source": [
    "label_encoder.inverse_transform([3])"
   ]
  },
  {
   "cell_type": "code",
   "execution_count": 411,
   "metadata": {},
   "outputs": [
    {
     "data": {
      "text/plain": [
       "'Huevos y omelet'"
      ]
     },
     "execution_count": 411,
     "metadata": {},
     "output_type": "execute_result"
    }
   ],
   "source": [
    "df.T2_corrected[i]"
   ]
  },
  {
   "cell_type": "code",
   "execution_count": null,
   "metadata": {},
   "outputs": [],
   "source": []
  },
  {
   "cell_type": "code",
   "execution_count": null,
   "metadata": {},
   "outputs": [],
   "source": []
  }
 ],
 "metadata": {
  "kernelspec": {
   "display_name": "Python 3",
   "language": "python",
   "name": "python3"
  },
  "language_info": {
   "codemirror_mode": {
    "name": "ipython",
    "version": 3
   },
   "file_extension": ".py",
   "mimetype": "text/x-python",
   "name": "python",
   "nbconvert_exporter": "python",
   "pygments_lexer": "ipython3",
   "version": "3.6.8"
  }
 },
 "nbformat": 4,
 "nbformat_minor": 4
}
