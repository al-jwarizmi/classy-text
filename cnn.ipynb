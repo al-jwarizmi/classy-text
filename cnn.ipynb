{
 "cells": [
  {
   "cell_type": "code",
   "execution_count": 1,
   "metadata": {},
   "outputs": [],
   "source": [
    "import pandas as pd\n",
    "import numpy as np"
   ]
  },
  {
   "cell_type": "code",
   "execution_count": 2,
   "metadata": {},
   "outputs": [],
   "source": [
    "df = pd.read_pickle('TA_final.pkl')"
   ]
  },
  {
   "cell_type": "code",
   "execution_count": 3,
   "metadata": {},
   "outputs": [
    {
     "data": {
      "text/html": [
       "<div>\n",
       "<style scoped>\n",
       "    .dataframe tbody tr th:only-of-type {\n",
       "        vertical-align: middle;\n",
       "    }\n",
       "\n",
       "    .dataframe tbody tr th {\n",
       "        vertical-align: top;\n",
       "    }\n",
       "\n",
       "    .dataframe thead th {\n",
       "        text-align: right;\n",
       "    }\n",
       "</style>\n",
       "<table border=\"1\" class=\"dataframe\">\n",
       "  <thead>\n",
       "    <tr style=\"text-align: right;\">\n",
       "      <th></th>\n",
       "      <th>T2</th>\n",
       "      <th>tokens</th>\n",
       "    </tr>\n",
       "  </thead>\n",
       "  <tbody>\n",
       "    <tr>\n",
       "      <th>0</th>\n",
       "      <td>Alitas</td>\n",
       "      <td>[snacks, alitas, piezas, salsa, elegir]</td>\n",
       "    </tr>\n",
       "    <tr>\n",
       "      <th>1</th>\n",
       "      <td>Ensalada</td>\n",
       "      <td>[ensaladas, ensalada, philadelphia, elegir, ca...</td>\n",
       "    </tr>\n",
       "    <tr>\n",
       "      <th>2</th>\n",
       "      <td>Tacos Otros</td>\n",
       "      <td>[hamburguesas, carbón, hamburguesa, valdéz, mo...</td>\n",
       "    </tr>\n",
       "    <tr>\n",
       "      <th>3</th>\n",
       "      <td>Hamburguesa</td>\n",
       "      <td>[hamburguesas, carbon, bbq, luxe, pan, artesan...</td>\n",
       "    </tr>\n",
       "    <tr>\n",
       "      <th>4</th>\n",
       "      <td>Pizza gourmet</td>\n",
       "      <td>[pizzas, pizza, ingredientes, base, salsa, pom...</td>\n",
       "    </tr>\n",
       "  </tbody>\n",
       "</table>\n",
       "</div>"
      ],
      "text/plain": [
       "              T2                                             tokens\n",
       "0         Alitas            [snacks, alitas, piezas, salsa, elegir]\n",
       "1       Ensalada  [ensaladas, ensalada, philadelphia, elegir, ca...\n",
       "2    Tacos Otros  [hamburguesas, carbón, hamburguesa, valdéz, mo...\n",
       "3    Hamburguesa  [hamburguesas, carbon, bbq, luxe, pan, artesan...\n",
       "4  Pizza gourmet  [pizzas, pizza, ingredientes, base, salsa, pom..."
      ]
     },
     "execution_count": 3,
     "metadata": {},
     "output_type": "execute_result"
    }
   ],
   "source": [
    "df.head()"
   ]
  },
  {
   "cell_type": "markdown",
   "metadata": {},
   "source": [
    "# embedding"
   ]
  },
  {
   "cell_type": "code",
   "execution_count": 4,
   "metadata": {},
   "outputs": [],
   "source": [
    "import string\n",
    "import gensim\n",
    "\n",
    "\n",
    "sentences = df.tokens\n",
    "fname = \"w2v_final.kv\"\n",
    "\n",
    "word_model = gensim.models.Word2Vec.load(fname, mmap='r')\n",
    "pretrained_weights = word_model.wv.vectors\n",
    "\n",
    "def word2idx(word):\n",
    "    return word_model.wv.vocab[word].index\n",
    "def idx2word(idx):\n",
    "    return word_model.wv.index2word[idx]\n"
   ]
  },
  {
   "cell_type": "code",
   "execution_count": 5,
   "metadata": {},
   "outputs": [],
   "source": [
    "# save for tensorboard embedding projector viz\n",
    "# word_model.wv.save_word2vec_format('dish_w2v')\n",
    "# shell run: python -m gensim.scripts.word2vec2tensor --input dish_w2v --output dish_w2v"
   ]
  },
  {
   "cell_type": "markdown",
   "metadata": {},
   "source": [
    "## BiLSTM"
   ]
  },
  {
   "cell_type": "code",
   "execution_count": 6,
   "metadata": {},
   "outputs": [
    {
     "name": "stderr",
     "output_type": "stream",
     "text": [
      "Using TensorFlow backend.\n"
     ]
    }
   ],
   "source": [
    "# This code is inspirated by https://www.kaggle.com/qqgeogor/keras-lstm-attention-glove840b-lb-0-043\n",
    "\n",
    "from keras import backend as K\n",
    "from keras.engine.topology import Layer\n",
    "#from keras import initializations\n",
    "from keras import initializers, regularizers, constraints\n",
    "\n",
    "\n",
    "def dot_product(x, kernel):\n",
    "    \"\"\"\n",
    "    Wrapper for dot product operation, in order to be compatible with both\n",
    "    Theano and Tensorflow\n",
    "    Args:\n",
    "        x (): input\n",
    "        kernel (): weights\n",
    "    Returns:\n",
    "    \"\"\"\n",
    "    if K.backend() == 'tensorflow':\n",
    "        return K.squeeze(K.dot(x, K.expand_dims(kernel)), axis=-1)\n",
    "    else:\n",
    "        return K.dot(x, kernel)\n",
    "    \n",
    "\n",
    "class AttentionWithContext(Layer):\n",
    "    \"\"\"\n",
    "    Attention operation, with a context/query vector, for temporal data.\n",
    "    Supports Masking.\n",
    "    Follows the work of Yang et al. [https://www.cs.cmu.edu/~diyiy/docs/naacl16.pdf]\n",
    "    \"Hierarchical Attention Networks for Document Classification\"\n",
    "    by using a context vector to assist the attention\n",
    "    # Input shape\n",
    "        3D tensor with shape: `(samples, steps, features)`.\n",
    "    # Output shape\n",
    "        2D tensor with shape: `(samples, features)`.\n",
    "    How to use:\n",
    "    Just put it on top of an RNN Layer (GRU/LSTM/SimpleRNN) with return_sequences=True.\n",
    "    The dimensions are inferred based on the output shape of the RNN.\n",
    "    Note: The layer has been tested with Keras 2.0.6\n",
    "    Example:\n",
    "        model.add(LSTM(64, return_sequences=True))\n",
    "        model.add(AttentionWithContext())\n",
    "        # next add a Dense layer (for classification/regression) or whatever...\n",
    "    \"\"\"\n",
    "\n",
    "    def __init__(self,\n",
    "                 W_regularizer=None, u_regularizer=None, b_regularizer=None,\n",
    "                 W_constraint=None, u_constraint=None, b_constraint=None,\n",
    "                 bias=True, **kwargs):\n",
    "\n",
    "        self.supports_masking = True\n",
    "        self.init = initializers.get('glorot_uniform')\n",
    "\n",
    "        self.W_regularizer = regularizers.get(W_regularizer)\n",
    "        self.u_regularizer = regularizers.get(u_regularizer)\n",
    "        self.b_regularizer = regularizers.get(b_regularizer)\n",
    "\n",
    "        self.W_constraint = constraints.get(W_constraint)\n",
    "        self.u_constraint = constraints.get(u_constraint)\n",
    "        self.b_constraint = constraints.get(b_constraint)\n",
    "\n",
    "        self.bias = bias\n",
    "        super(AttentionWithContext, self).__init__(**kwargs)\n",
    "\n",
    "    def build(self, input_shape):\n",
    "        assert len(input_shape) == 3\n",
    "\n",
    "        self.W = self.add_weight(shape=(input_shape[-1], input_shape[-1],),\n",
    "                                 initializer=self.init,\n",
    "                                 name='{}_W'.format(self.name),\n",
    "                                 regularizer=self.W_regularizer,\n",
    "                                 constraint=self.W_constraint)\n",
    "        if self.bias:\n",
    "            self.b = self.add_weight(shape=(input_shape[-1],),\n",
    "                                     initializer='zero',\n",
    "                                     name='{}_b'.format(self.name),\n",
    "                                     regularizer=self.b_regularizer,\n",
    "                                     constraint=self.b_constraint)\n",
    "\n",
    "        self.u = self.add_weight(shape=(input_shape[-1],),\n",
    "                                 initializer=self.init,\n",
    "                                 name='{}_u'.format(self.name),\n",
    "                                 regularizer=self.u_regularizer,\n",
    "                                 constraint=self.u_constraint)\n",
    "\n",
    "        super(AttentionWithContext, self).build(input_shape)\n",
    "\n",
    "    def compute_mask(self, input, input_mask=None):\n",
    "        # do not pass the mask to the next layers\n",
    "        return None\n",
    "\n",
    "    def call(self, x, mask=None):\n",
    "        uit = dot_product(x, self.W)\n",
    "\n",
    "        if self.bias:\n",
    "            uit += self.b\n",
    "\n",
    "        uit = K.tanh(uit)\n",
    "        ait = dot_product(uit, self.u)\n",
    "\n",
    "        a = K.exp(ait)\n",
    "\n",
    "        # apply mask after the exp. will be re-normalized next\n",
    "        if mask is not None:\n",
    "            # Cast the mask to floatX to avoid float64 upcasting in theano\n",
    "            a *= K.cast(mask, K.floatx())\n",
    "\n",
    "        # in some cases especially in the early stages of training the sum may be almost zero\n",
    "        # and this results in NaN's. A workaround is to add a very small positive number ε to the sum.\n",
    "        # a /= K.cast(K.sum(a, axis=1, keepdims=True), K.floatx())\n",
    "        a /= K.cast(K.sum(a, axis=1, keepdims=True) + K.epsilon(), K.floatx())\n",
    "\n",
    "        a = K.expand_dims(a)\n",
    "        weighted_input = x * a\n",
    "        return K.sum(weighted_input, axis=1)\n",
    "\n",
    "    def compute_output_shape(self, input_shape):\n",
    "        return input_shape[0], input_shape[-1]"
   ]
  },
  {
   "cell_type": "markdown",
   "metadata": {},
   "source": [
    "## train test split"
   ]
  },
  {
   "cell_type": "code",
   "execution_count": 7,
   "metadata": {},
   "outputs": [
    {
     "name": "stdout",
     "output_type": "stream",
     "text": [
      "[ 0 27 66 ... 49 71 27]\n"
     ]
    }
   ],
   "source": [
    "from numpy import array\n",
    "from numpy import argmax\n",
    "from sklearn.preprocessing import LabelEncoder\n",
    "from sklearn.preprocessing import OneHotEncoder\n",
    "\n",
    "# Naive class imbalance correction\n",
    "imbal = df.T2.value_counts().index[df.T2.value_counts() < 10]\n",
    "\n",
    "df['T2_isimbal'] = df.T2.map(lambda x: x in list(imbal))\n",
    "df['T2_corrected'] = df.T2\n",
    "\n",
    "df.loc[df.T2_isimbal,['T2_corrected']] = 'Otros otros' \n",
    "\n",
    "# integer encode\n",
    "label_encoder = LabelEncoder()\n",
    "integer_encoded = label_encoder.fit_transform(df.T2_corrected.map(str))\n",
    "print(integer_encoded)\n"
   ]
  },
  {
   "cell_type": "code",
   "execution_count": 8,
   "metadata": {},
   "outputs": [
    {
     "name": "stderr",
     "output_type": "stream",
     "text": [
      "/home/fred/Desktop/taxonomy/env/lib/python3.6/site-packages/sklearn/preprocessing/_encoders.py:415: FutureWarning: The handling of integer data will change in version 0.22. Currently, the categories are determined based on the range [0, max(values)], while in the future they will be determined based on the unique values.\n",
      "If you want the future behaviour and silence this warning, you can specify \"categories='auto'\".\n",
      "In case you used a LabelEncoder before this OneHotEncoder to convert the categories to integers, then you can now use the OneHotEncoder directly.\n",
      "  warnings.warn(msg, FutureWarning)\n"
     ]
    }
   ],
   "source": [
    "# binary encode\n",
    "onehot_encoder = OneHotEncoder(sparse=False)\n",
    "y = onehot_encoder.fit_transform(integer_encoded.reshape(-1, 1))"
   ]
  },
  {
   "cell_type": "code",
   "execution_count": 9,
   "metadata": {},
   "outputs": [
    {
     "name": "stdout",
     "output_type": "stream",
     "text": [
      "(6681, 35)\n"
     ]
    }
   ],
   "source": [
    "from keras.preprocessing.text import Tokenizer\n",
    "from keras.preprocessing.sequence import pad_sequences\n",
    "\n",
    "docs = df.prep_text\n",
    "\n",
    "# prepare tokenizer\n",
    "t = Tokenizer()\n",
    "t.fit_on_texts(df.prep_text)\n",
    "vocab_size = len(t.word_index) + 1\n",
    "\n",
    "# integer encode the documents\n",
    "encoded_docs = t.texts_to_sequences(docs)\n",
    "# print(encoded_docs)\n",
    "\n",
    "# pad documents to a max length of 4 words\n",
    "max_length = 35\n",
    "padded_docs = pad_sequences(encoded_docs, maxlen=max_length, padding='post')\n",
    "print(padded_docs.shape)\n"
   ]
  },
  {
   "cell_type": "code",
   "execution_count": 10,
   "metadata": {},
   "outputs": [],
   "source": [
    "n_classes = y.shape[1]"
   ]
  },
  {
   "cell_type": "code",
   "execution_count": 11,
   "metadata": {},
   "outputs": [
    {
     "name": "stdout",
     "output_type": "stream",
     "text": [
      "\n",
      "Preparing the data for LSTM...\n",
      "X shape: (6681, 35)\n"
     ]
    }
   ],
   "source": [
    "print('\\nPreparing the data for LSTM...')\n",
    "X = np.zeros([len(sentences), max_length], dtype=np.int32)\n",
    "for i, sentence in enumerate(sentences):\n",
    "    for t, word in enumerate(sentence[:max_length]):\n",
    "        X[i, t] = word2idx(word)\n",
    "print('X shape:', X.shape)\n"
   ]
  },
  {
   "cell_type": "code",
   "execution_count": 12,
   "metadata": {},
   "outputs": [],
   "source": [
    "from sklearn.model_selection import train_test_split\n",
    "\n",
    "# X = padded_docs\n",
    "# le.inverse_transform([0, 0, 1, 2])\n",
    "\n",
    "X_train, X_test, y_train, y_test = train_test_split(\n",
    "    X, y, test_size=0.20, random_state=42)"
   ]
  },
  {
   "cell_type": "code",
   "execution_count": 13,
   "metadata": {},
   "outputs": [],
   "source": [
    "from keras.models import Model\n",
    "from keras.layers import Dense, Embedding, Input, GlobalMaxPooling1D, Conv1D,GlobalAveragePooling1D\n",
    "from keras.layers import LSTM, Bidirectional, Dropout, GRU, TimeDistributed,Reshape\n",
    "\n",
    "\n",
    "def cnn1d(maxlen, max_features, embed_size, embedding_matrix, n_classes):\n",
    "    inputs = Input(shape=(maxlen,), dtype='int32')\n",
    "    embedding = Embedding(max_features, embed_size, weights=[embedding_matrix],\n",
    "                  trainable=False)(inputs)\n",
    "#     reshape = Reshape((maxlen,100,1))(embedding)\n",
    "\n",
    "    conv1 = Conv1D(filters = 30, kernel_size = 10, activation = 'relu')(embedding)\n",
    "    conv2 = Conv1D(filters = 40, kernel_size = 5, activation = 'relu')(embedding)\n",
    "#     conv3 = Conv1D(filters = 30, kernel_size = 10, activation = 'relu')(emb)\n",
    "#     conv4 = Conv1D(filters = 40, kernel_size = 5, activation = 'relu')(emb)\n",
    "\n",
    "    ensembl = [GlobalAveragePooling1D()(conv1),\n",
    "              GlobalAveragePooling1D()(conv2)]\n",
    "\n",
    "    x = Concatenate(axis = 1)(ensembl)\n",
    "    x = Dense(256, activation=\"relu\")(x)\n",
    "    x = Dropout(0.2)(x)\n",
    "    x = Dense(n_classes, activation=\"softmax\")(x)\n",
    "    model = Model(inputs=inputs, outputs=x)\n",
    "    return model"
   ]
  },
  {
   "cell_type": "code",
   "execution_count": 14,
   "metadata": {},
   "outputs": [],
   "source": [
    "from keras.layers import Conv2D, MaxPool2D, Flatten, Concatenate\n",
    "def cnn2d(maxlen, max_features, embed_size, embedding_matrix, n_classes):\n",
    "    inputs = Input(shape=(maxlen,), dtype='int32')\n",
    "    embedding = Embedding(max_features, embed_size, weights=[embedding_matrix],\n",
    "                  trainable=False)(inputs)\n",
    "    reshape = Reshape((maxlen,100,1))(embedding)\n",
    "    \n",
    "    filter_sizes = [3,4,5]\n",
    "    conv_0 = Conv2D(128, kernel_size=(filter_sizes[0], 100),\n",
    "                    padding='valid', kernel_initializer='normal', activation='relu')(reshape)\n",
    "    conv_1 = Conv2D(128, kernel_size=(filter_sizes[1], 100),\n",
    "                    padding='valid', kernel_initializer='normal', activation='relu')(reshape)\n",
    "    conv_2 = Conv2D(128, kernel_size=(filter_sizes[2], 100),\n",
    "                    padding='valid', kernel_initializer='normal', activation='relu')(reshape)\n",
    "\n",
    "    maxpool_0 = MaxPool2D(pool_size=(maxlen - filter_sizes[0] + 1, 1), strides=(1,1), padding='valid')(conv_0)\n",
    "    maxpool_1 = MaxPool2D(pool_size=(maxlen - filter_sizes[1] + 1, 1), strides=(1,1), padding='valid')(conv_1)\n",
    "    maxpool_2 = MaxPool2D(pool_size=(maxlen - filter_sizes[2] + 1, 1), strides=(1,1), padding='valid')(conv_2)\n",
    "\n",
    "    concatenated_tensor = Concatenate(axis=1)([maxpool_0, maxpool_1, maxpool_2])\n",
    "    flatten = Flatten()(concatenated_tensor)\n",
    "    dropout = Dropout(0.2)(flatten)\n",
    "    output = Dense(n_classes, activation='softmax')(dropout)\n",
    "\n",
    "    # this creates a model that includes\n",
    "    model = Model(inputs=inputs, outputs=output)\n",
    "    \n",
    "    return model"
   ]
  },
  {
   "cell_type": "code",
   "execution_count": 15,
   "metadata": {},
   "outputs": [
    {
     "data": {
      "text/plain": [
       "64"
      ]
     },
     "execution_count": 15,
     "metadata": {},
     "output_type": "execute_result"
    }
   ],
   "source": [
    "y.shape[1]"
   ]
  },
  {
   "cell_type": "code",
   "execution_count": 16,
   "metadata": {},
   "outputs": [],
   "source": [
    "vocab_size, embedding_size = pretrained_weights.shape\n",
    "\n",
    "model = cnn1d(maxlen=max_length,\n",
    "                max_features= vocab_size,\n",
    "                embed_size= embedding_size,\n",
    "                embedding_matrix=pretrained_weights,\n",
    "                n_classes=y.shape[1])"
   ]
  },
  {
   "cell_type": "code",
   "execution_count": 17,
   "metadata": {},
   "outputs": [
    {
     "data": {
      "text/html": [
       "\n",
       "      <iframe id=\"tensorboard-frame-24cb9733b2534034\" width=\"100%\" height=\"800\" frameborder=\"0\">\n",
       "      </iframe>\n",
       "      <script>\n",
       "        (function() {\n",
       "          const frame = document.getElementById(\"tensorboard-frame-24cb9733b2534034\");\n",
       "          const url = new URL(\"/\", window.location);\n",
       "          url.port = 6006;\n",
       "          frame.src = url;\n",
       "        })();\n",
       "      </script>\n",
       "  "
      ],
      "text/plain": [
       "<IPython.core.display.HTML object>"
      ]
     },
     "metadata": {},
     "output_type": "display_data"
    }
   ],
   "source": [
    "# Load TENSORBOARD\n",
    "%load_ext tensorboard\n",
    "# Start TENSORBOARD\n",
    "%tensorboard --logdir ./logs"
   ]
  },
  {
   "cell_type": "code",
   "execution_count": 18,
   "metadata": {},
   "outputs": [
    {
     "name": "stdout",
     "output_type": "stream",
     "text": [
      "Model: \"model_1\"\n",
      "__________________________________________________________________________________________________\n",
      "Layer (type)                    Output Shape         Param #     Connected to                     \n",
      "==================================================================================================\n",
      "input_1 (InputLayer)            (None, 35)           0                                            \n",
      "__________________________________________________________________________________________________\n",
      "embedding_1 (Embedding)         (None, 35, 100)      557800      input_1[0][0]                    \n",
      "__________________________________________________________________________________________________\n",
      "conv1d_1 (Conv1D)               (None, 26, 30)       30030       embedding_1[0][0]                \n",
      "__________________________________________________________________________________________________\n",
      "conv1d_2 (Conv1D)               (None, 31, 40)       20040       embedding_1[0][0]                \n",
      "__________________________________________________________________________________________________\n",
      "global_average_pooling1d_1 (Glo (None, 30)           0           conv1d_1[0][0]                   \n",
      "__________________________________________________________________________________________________\n",
      "global_average_pooling1d_2 (Glo (None, 40)           0           conv1d_2[0][0]                   \n",
      "__________________________________________________________________________________________________\n",
      "concatenate_1 (Concatenate)     (None, 70)           0           global_average_pooling1d_1[0][0] \n",
      "                                                                 global_average_pooling1d_2[0][0] \n",
      "__________________________________________________________________________________________________\n",
      "dense_1 (Dense)                 (None, 256)          18176       concatenate_1[0][0]              \n",
      "__________________________________________________________________________________________________\n",
      "dropout_1 (Dropout)             (None, 256)          0           dense_1[0][0]                    \n",
      "__________________________________________________________________________________________________\n",
      "dense_2 (Dense)                 (None, 64)           16448       dropout_1[0][0]                  \n",
      "==================================================================================================\n",
      "Total params: 642,494\n",
      "Trainable params: 84,694\n",
      "Non-trainable params: 557,800\n",
      "__________________________________________________________________________________________________\n"
     ]
    }
   ],
   "source": [
    "from keras.utils import plot_model\n",
    "\n",
    "plot_model(model, to_file='cnn.png')\n",
    "model.summary()\n"
   ]
  },
  {
   "cell_type": "code",
   "execution_count": 19,
   "metadata": {},
   "outputs": [],
   "source": [
    "from keras.callbacks import EarlyStopping, ModelCheckpoint, TensorBoard\n",
    "np.random.seed(7)\n",
    "\n",
    "model.compile(loss='categorical_crossentropy', optimizer='adam',\n",
    "                  metrics=['accuracy'])\n",
    "file_path = \".model.hdf5\"\n",
    "ckpt = ModelCheckpoint(file_path, monitor='val_loss', verbose=1,\n",
    "                           save_best_only=True, mode='min')\n",
    "early = EarlyStopping(monitor=\"val_loss\", mode=\"min\", patience=5)\n",
    "tensorBoard = TensorBoard(log_dir = \"./logs\", histogram_freq = 1)\n"
   ]
  },
  {
   "cell_type": "code",
   "execution_count": 20,
   "metadata": {},
   "outputs": [
    {
     "name": "stdout",
     "output_type": "stream",
     "text": [
      "Train on 4809 samples, validate on 535 samples\n",
      "Epoch 1/100\n",
      "4809/4809 [==============================] - 1s 237us/step - loss: 4.0012 - accuracy: 0.1183 - val_loss: 3.4770 - val_accuracy: 0.1794\n",
      "\n",
      "Epoch 00001: val_loss improved from inf to 3.47704, saving model to .model.hdf5\n",
      "Epoch 2/100\n",
      "4809/4809 [==============================] - 1s 181us/step - loss: 3.3066 - accuracy: 0.2408 - val_loss: 3.2011 - val_accuracy: 0.2355\n",
      "\n",
      "Epoch 00002: val_loss improved from 3.47704 to 3.20108, saving model to .model.hdf5\n",
      "Epoch 3/100\n",
      "4809/4809 [==============================] - 1s 195us/step - loss: 3.0253 - accuracy: 0.2926 - val_loss: 2.9682 - val_accuracy: 0.3196\n",
      "\n",
      "Epoch 00003: val_loss improved from 3.20108 to 2.96821, saving model to .model.hdf5\n",
      "Epoch 4/100\n",
      "4809/4809 [==============================] - 1s 160us/step - loss: 2.7545 - accuracy: 0.3520 - val_loss: 2.6950 - val_accuracy: 0.3645\n",
      "\n",
      "Epoch 00004: val_loss improved from 2.96821 to 2.69504, saving model to .model.hdf5\n",
      "Epoch 5/100\n",
      "4809/4809 [==============================] - 1s 207us/step - loss: 2.5035 - accuracy: 0.4020 - val_loss: 2.4443 - val_accuracy: 0.4336\n",
      "\n",
      "Epoch 00005: val_loss improved from 2.69504 to 2.44427, saving model to .model.hdf5\n",
      "Epoch 6/100\n",
      "4809/4809 [==============================] - 1s 155us/step - loss: 2.2744 - accuracy: 0.4452 - val_loss: 2.2343 - val_accuracy: 0.4673\n",
      "\n",
      "Epoch 00006: val_loss improved from 2.44427 to 2.23433, saving model to .model.hdf5\n",
      "Epoch 7/100\n",
      "4809/4809 [==============================] - 1s 150us/step - loss: 2.0818 - accuracy: 0.4878 - val_loss: 2.0757 - val_accuracy: 0.5028\n",
      "\n",
      "Epoch 00007: val_loss improved from 2.23433 to 2.07572, saving model to .model.hdf5\n",
      "Epoch 8/100\n",
      "4809/4809 [==============================] - 1s 151us/step - loss: 1.9240 - accuracy: 0.5151 - val_loss: 1.9508 - val_accuracy: 0.5234\n",
      "\n",
      "Epoch 00008: val_loss improved from 2.07572 to 1.95078, saving model to .model.hdf5\n",
      "Epoch 9/100\n",
      "4809/4809 [==============================] - 1s 152us/step - loss: 1.7874 - accuracy: 0.5423 - val_loss: 1.8036 - val_accuracy: 0.5551\n",
      "\n",
      "Epoch 00009: val_loss improved from 1.95078 to 1.80355, saving model to .model.hdf5\n",
      "Epoch 10/100\n",
      "4809/4809 [==============================] - 1s 151us/step - loss: 1.6720 - accuracy: 0.5664 - val_loss: 1.7332 - val_accuracy: 0.5701\n",
      "\n",
      "Epoch 00010: val_loss improved from 1.80355 to 1.73322, saving model to .model.hdf5\n",
      "Epoch 11/100\n",
      "4809/4809 [==============================] - 1s 153us/step - loss: 1.5764 - accuracy: 0.5847 - val_loss: 1.6407 - val_accuracy: 0.5832\n",
      "\n",
      "Epoch 00011: val_loss improved from 1.73322 to 1.64073, saving model to .model.hdf5\n",
      "Epoch 12/100\n",
      "4809/4809 [==============================] - 1s 161us/step - loss: 1.4992 - accuracy: 0.6091 - val_loss: 1.6012 - val_accuracy: 0.6000\n",
      "\n",
      "Epoch 00012: val_loss improved from 1.64073 to 1.60124, saving model to .model.hdf5\n",
      "Epoch 13/100\n",
      "4809/4809 [==============================] - 1s 170us/step - loss: 1.4219 - accuracy: 0.6257 - val_loss: 1.5140 - val_accuracy: 0.6019\n",
      "\n",
      "Epoch 00013: val_loss improved from 1.60124 to 1.51399, saving model to .model.hdf5\n",
      "Epoch 14/100\n",
      "4809/4809 [==============================] - 1s 162us/step - loss: 1.3420 - accuracy: 0.6446 - val_loss: 1.4511 - val_accuracy: 0.6075\n",
      "\n",
      "Epoch 00014: val_loss improved from 1.51399 to 1.45106, saving model to .model.hdf5\n",
      "Epoch 15/100\n",
      "4809/4809 [==============================] - 1s 182us/step - loss: 1.2861 - accuracy: 0.6579 - val_loss: 1.4306 - val_accuracy: 0.6243\n",
      "\n",
      "Epoch 00015: val_loss improved from 1.45106 to 1.43063, saving model to .model.hdf5\n",
      "Epoch 16/100\n",
      "4809/4809 [==============================] - 1s 175us/step - loss: 1.2287 - accuracy: 0.6710 - val_loss: 1.3902 - val_accuracy: 0.6243\n",
      "\n",
      "Epoch 00016: val_loss improved from 1.43063 to 1.39015, saving model to .model.hdf5\n",
      "Epoch 17/100\n",
      "4809/4809 [==============================] - 1s 157us/step - loss: 1.1789 - accuracy: 0.6889 - val_loss: 1.3513 - val_accuracy: 0.6374\n",
      "\n",
      "Epoch 00017: val_loss improved from 1.39015 to 1.35127, saving model to .model.hdf5\n",
      "Epoch 18/100\n",
      "4809/4809 [==============================] - 1s 168us/step - loss: 1.1135 - accuracy: 0.7047 - val_loss: 1.3151 - val_accuracy: 0.6430\n",
      "\n",
      "Epoch 00018: val_loss improved from 1.35127 to 1.31511, saving model to .model.hdf5\n",
      "Epoch 19/100\n",
      "4809/4809 [==============================] - 1s 146us/step - loss: 1.0673 - accuracy: 0.7149 - val_loss: 1.2870 - val_accuracy: 0.6374\n",
      "\n",
      "Epoch 00019: val_loss improved from 1.31511 to 1.28703, saving model to .model.hdf5\n",
      "Epoch 20/100\n",
      "4809/4809 [==============================] - 1s 150us/step - loss: 1.0436 - accuracy: 0.7209 - val_loss: 1.2710 - val_accuracy: 0.6523\n",
      "\n",
      "Epoch 00020: val_loss improved from 1.28703 to 1.27095, saving model to .model.hdf5\n",
      "Epoch 21/100\n",
      "4809/4809 [==============================] - 1s 155us/step - loss: 0.9810 - accuracy: 0.7397 - val_loss: 1.2187 - val_accuracy: 0.6822\n",
      "\n",
      "Epoch 00021: val_loss improved from 1.27095 to 1.21865, saving model to .model.hdf5\n",
      "Epoch 22/100\n",
      "4809/4809 [==============================] - 1s 152us/step - loss: 0.9473 - accuracy: 0.7503 - val_loss: 1.2081 - val_accuracy: 0.6673\n",
      "\n",
      "Epoch 00022: val_loss improved from 1.21865 to 1.20812, saving model to .model.hdf5\n",
      "Epoch 23/100\n",
      "4809/4809 [==============================] - 1s 158us/step - loss: 0.9005 - accuracy: 0.7532 - val_loss: 1.1863 - val_accuracy: 0.6879\n",
      "\n",
      "Epoch 00023: val_loss improved from 1.20812 to 1.18625, saving model to .model.hdf5\n",
      "Epoch 24/100\n",
      "4809/4809 [==============================] - 1s 148us/step - loss: 0.8804 - accuracy: 0.7584 - val_loss: 1.2056 - val_accuracy: 0.6710\n",
      "\n",
      "Epoch 00024: val_loss did not improve from 1.18625\n",
      "Epoch 25/100\n",
      "4809/4809 [==============================] - 1s 141us/step - loss: 0.8506 - accuracy: 0.7684 - val_loss: 1.1929 - val_accuracy: 0.6879\n",
      "\n",
      "Epoch 00025: val_loss did not improve from 1.18625\n",
      "Epoch 26/100\n",
      "4809/4809 [==============================] - 1s 144us/step - loss: 0.8139 - accuracy: 0.7812 - val_loss: 1.1622 - val_accuracy: 0.7009\n",
      "\n",
      "Epoch 00026: val_loss improved from 1.18625 to 1.16220, saving model to .model.hdf5\n",
      "Epoch 27/100\n",
      "4809/4809 [==============================] - 1s 149us/step - loss: 0.7747 - accuracy: 0.7887 - val_loss: 1.1653 - val_accuracy: 0.6991\n",
      "\n",
      "Epoch 00027: val_loss did not improve from 1.16220\n",
      "Epoch 28/100\n",
      "4809/4809 [==============================] - 1s 155us/step - loss: 0.7392 - accuracy: 0.8025 - val_loss: 1.1470 - val_accuracy: 0.7028\n",
      "\n",
      "Epoch 00028: val_loss improved from 1.16220 to 1.14696, saving model to .model.hdf5\n",
      "Epoch 29/100\n",
      "4809/4809 [==============================] - 1s 143us/step - loss: 0.7169 - accuracy: 0.8058 - val_loss: 1.1267 - val_accuracy: 0.7084\n",
      "\n",
      "Epoch 00029: val_loss improved from 1.14696 to 1.12665, saving model to .model.hdf5\n",
      "Epoch 30/100\n",
      "4809/4809 [==============================] - 1s 143us/step - loss: 0.6935 - accuracy: 0.8074 - val_loss: 1.1359 - val_accuracy: 0.7159\n",
      "\n",
      "Epoch 00030: val_loss did not improve from 1.12665\n",
      "Epoch 31/100\n",
      "4809/4809 [==============================] - 1s 154us/step - loss: 0.6651 - accuracy: 0.8120 - val_loss: 1.1147 - val_accuracy: 0.7103\n",
      "\n",
      "Epoch 00031: val_loss improved from 1.12665 to 1.11471, saving model to .model.hdf5\n",
      "Epoch 32/100\n",
      "4809/4809 [==============================] - 1s 166us/step - loss: 0.6441 - accuracy: 0.8212 - val_loss: 1.1183 - val_accuracy: 0.7084\n",
      "\n",
      "Epoch 00032: val_loss did not improve from 1.11471\n",
      "Epoch 33/100\n",
      "4809/4809 [==============================] - 1s 169us/step - loss: 0.6191 - accuracy: 0.8291 - val_loss: 1.0906 - val_accuracy: 0.7327\n",
      "\n",
      "Epoch 00033: val_loss improved from 1.11471 to 1.09064, saving model to .model.hdf5\n",
      "Epoch 34/100\n",
      "4809/4809 [==============================] - 1s 171us/step - loss: 0.6080 - accuracy: 0.8318 - val_loss: 1.1146 - val_accuracy: 0.7234\n",
      "\n",
      "Epoch 00034: val_loss did not improve from 1.09064\n",
      "Epoch 35/100\n",
      "4809/4809 [==============================] - 1s 189us/step - loss: 0.5807 - accuracy: 0.8393 - val_loss: 1.0900 - val_accuracy: 0.7140\n",
      "\n",
      "Epoch 00035: val_loss improved from 1.09064 to 1.08998, saving model to .model.hdf5\n",
      "Epoch 36/100\n",
      "4809/4809 [==============================] - 1s 153us/step - loss: 0.5507 - accuracy: 0.8474 - val_loss: 1.0822 - val_accuracy: 0.7327\n",
      "\n",
      "Epoch 00036: val_loss improved from 1.08998 to 1.08218, saving model to .model.hdf5\n",
      "Epoch 37/100\n",
      "4809/4809 [==============================] - 1s 149us/step - loss: 0.5363 - accuracy: 0.8530 - val_loss: 1.1043 - val_accuracy: 0.7290\n",
      "\n",
      "Epoch 00037: val_loss did not improve from 1.08218\n",
      "Epoch 38/100\n",
      "4809/4809 [==============================] - 1s 144us/step - loss: 0.5265 - accuracy: 0.8530 - val_loss: 1.1020 - val_accuracy: 0.7196\n",
      "\n",
      "Epoch 00038: val_loss did not improve from 1.08218\n",
      "Epoch 39/100\n",
      "4809/4809 [==============================] - 1s 157us/step - loss: 0.4993 - accuracy: 0.8677 - val_loss: 1.1120 - val_accuracy: 0.7065\n",
      "\n",
      "Epoch 00039: val_loss did not improve from 1.08218\n",
      "Epoch 40/100\n",
      "4809/4809 [==============================] - 1s 152us/step - loss: 0.4789 - accuracy: 0.8700 - val_loss: 1.0827 - val_accuracy: 0.7178\n",
      "\n",
      "Epoch 00040: val_loss did not improve from 1.08218\n",
      "Epoch 41/100\n",
      "4809/4809 [==============================] - 1s 169us/step - loss: 0.4591 - accuracy: 0.8707 - val_loss: 1.1011 - val_accuracy: 0.7196\n",
      "\n",
      "Epoch 00041: val_loss did not improve from 1.08218\n"
     ]
    },
    {
     "data": {
      "text/plain": [
       "<keras.callbacks.callbacks.History at 0x7fbcd966a5f8>"
      ]
     },
     "execution_count": 20,
     "metadata": {},
     "output_type": "execute_result"
    }
   ],
   "source": [
    "model.fit(X_train, y_train, batch_size=500, epochs=100, validation_split=0.1, callbacks=[tensorBoard,ckpt, early])\n",
    "#model.fit(xtr, y, batch_size=256, epochs=1, validation_split=0.1)"
   ]
  },
  {
   "cell_type": "code",
   "execution_count": 21,
   "metadata": {},
   "outputs": [],
   "source": [
    "model.save('bilstm_attention_V1.h5')"
   ]
  },
  {
   "cell_type": "markdown",
   "metadata": {},
   "source": [
    "# Model evaluation"
   ]
  },
  {
   "cell_type": "code",
   "execution_count": 36,
   "metadata": {},
   "outputs": [],
   "source": [
    "from keras.models import load_model\n",
    "\n",
    "model = load_model('bilstm_attention_V1.h5', custom_objects={'Attention' : Attention})\n",
    "#model = Model(inputs=model.input,\n",
    "              #outputs=[model.output, model.get_layer('attention_7').output])"
   ]
  },
  {
   "cell_type": "code",
   "execution_count": 22,
   "metadata": {},
   "outputs": [
    {
     "name": "stdout",
     "output_type": "stream",
     "text": [
      "Accuracy: 72.101718\n"
     ]
    }
   ],
   "source": [
    "loss, accuracy = model.evaluate(X_test, y_test, verbose=0)\n",
    "print('Accuracy: %f' % (accuracy*100))"
   ]
  },
  {
   "cell_type": "code",
   "execution_count": 32,
   "metadata": {},
   "outputs": [],
   "source": [
    "from sklearn.metrics import confusion_matrix"
   ]
  },
  {
   "cell_type": "code",
   "execution_count": 33,
   "metadata": {},
   "outputs": [],
   "source": [
    "y_pred = model.predict(X_test)\n",
    "y_pred_decoded = np.argmax(y_pred,axis=1)"
   ]
  },
  {
   "cell_type": "code",
   "execution_count": 34,
   "metadata": {},
   "outputs": [],
   "source": [
    "y_test_decoded = np.argmax(y_test,axis=1)"
   ]
  },
  {
   "cell_type": "code",
   "execution_count": 35,
   "metadata": {},
   "outputs": [
    {
     "data": {
      "text/plain": [
       "array([[24,  0,  0, ...,  0,  0,  1],\n",
       "       [ 0,  0,  0, ...,  0,  0,  0],\n",
       "       [ 0,  0, 13, ...,  0,  0,  0],\n",
       "       ...,\n",
       "       [ 0,  0,  0, ...,  7,  0,  0],\n",
       "       [ 0,  0,  0, ...,  0,  0,  0],\n",
       "       [ 0,  0,  0, ...,  0,  0,  1]])"
      ]
     },
     "execution_count": 35,
     "metadata": {},
     "output_type": "execute_result"
    }
   ],
   "source": [
    "confusion_matrix(y_test_decoded, y_pred_decoded)"
   ]
  },
  {
   "cell_type": "code",
   "execution_count": 122,
   "metadata": {},
   "outputs": [],
   "source": [
    "import seaborn as sn\n",
    "import matplotlib.pyplot as plt "
   ]
  },
  {
   "cell_type": "code",
   "execution_count": 123,
   "metadata": {},
   "outputs": [
    {
     "data": {
      "text/plain": [
       "<matplotlib.axes._subplots.AxesSubplot at 0x7f99a6bc63c8>"
      ]
     },
     "execution_count": 123,
     "metadata": {},
     "output_type": "execute_result"
    },
    {
     "data": {
      "image/png": "[encoded data removed]",
      "text/plain": [
       "<Figure size 936x936 with 2 Axes>"
      ]
     },
     "metadata": {
      "needs_background": "light"
     },
     "output_type": "display_data"
    }
   ],
   "source": [
    "from sklearn import metrics\n",
    "plt.figure(figsize = (13,13))\n",
    "sn.heatmap(metrics.confusion_matrix(y_test_decoded, y_pred_decoded), annot=True)\n"
   ]
  },
  {
   "cell_type": "code",
   "execution_count": 124,
   "metadata": {},
   "outputs": [],
   "source": [
    "from sklearn.preprocessing import label_binarize, LabelBinarizer\n",
    "from sklearn.metrics import *\n",
    "\n",
    "def multiclass_roc_auc_score(y_test, y_pred, average=\"macro\"):\n",
    "    lb = LabelBinarizer()\n",
    "    lb.fit(y_test)\n",
    "\n",
    "    y_test = lb.transform(y_test)\n",
    "    y_pred = lb.transform(y_pred)\n",
    "    return roc_auc_score(y_test, y_pred, average=average)\n"
   ]
  },
  {
   "cell_type": "code",
   "execution_count": 125,
   "metadata": {},
   "outputs": [
    {
     "data": {
      "text/plain": [
       "0.8190439329416535"
      ]
     },
     "execution_count": 125,
     "metadata": {},
     "output_type": "execute_result"
    }
   ],
   "source": [
    "multiclass_roc_auc_score(y_test_decoded,y_pred_decoded)"
   ]
  },
  {
   "cell_type": "code",
   "execution_count": 126,
   "metadata": {},
   "outputs": [
    {
     "data": {
      "text/plain": [
       "array([28,  9, 60, 23, 28, 28, 57, 60, 56, 23, 16, 54, 60, 60, 60])"
      ]
     },
     "execution_count": 126,
     "metadata": {},
     "output_type": "execute_result"
    }
   ],
   "source": [
    "y_pred_decoded[:15]"
   ]
  },
  {
   "cell_type": "code",
   "execution_count": 127,
   "metadata": {},
   "outputs": [
    {
     "data": {
      "text/plain": [
       "array([28, 54, 60, 23, 28, 28, 57, 28, 56, 23, 16, 54, 60, 60, 60])"
      ]
     },
     "execution_count": 127,
     "metadata": {},
     "output_type": "execute_result"
    }
   ],
   "source": [
    "y_test_decoded[:15]"
   ]
  },
  {
   "cell_type": "code",
   "execution_count": 128,
   "metadata": {},
   "outputs": [
    {
     "data": {
      "text/plain": [
       "0.7756170531039641"
      ]
     },
     "execution_count": 128,
     "metadata": {},
     "output_type": "execute_result"
    }
   ],
   "source": [
    "accuracy_score(y_test_decoded, y_pred_decoded)"
   ]
  },
  {
   "cell_type": "markdown",
   "metadata": {},
   "source": [
    "## Visualizing attention"
   ]
  },
  {
   "cell_type": "code",
   "execution_count": 300,
   "metadata": {},
   "outputs": [],
   "source": [
    "outputs = model.predict(X_test)\n",
    "model_outputs = outputs[0]\n",
    "attention_outputs = outputs[1]"
   ]
  },
  {
   "cell_type": "code",
   "execution_count": 301,
   "metadata": {},
   "outputs": [
    {
     "data": {
      "text/plain": [
       "array([57, 56, 46, ...,  0, 22, 49])"
      ]
     },
     "execution_count": 301,
     "metadata": {},
     "output_type": "execute_result"
    }
   ],
   "source": [
    "np.argmax(model_outputs,axis=1)"
   ]
  },
  {
   "cell_type": "code",
   "execution_count": 197,
   "metadata": {},
   "outputs": [],
   "source": [
    "import random\n",
    "i = random.randint(0,len(df))"
   ]
  },
  {
   "cell_type": "code",
   "execution_count": 198,
   "metadata": {},
   "outputs": [
    {
     "data": {
      "text/plain": [
       "'bagel bagel atún atún mayonesa lechuga tomate pepino cebolla aguacate'"
      ]
     },
     "execution_count": 198,
     "metadata": {},
     "output_type": "execute_result"
    }
   ],
   "source": [
    "df.prep_text[i]"
   ]
  },
  {
   "cell_type": "code",
   "execution_count": 199,
   "metadata": {},
   "outputs": [
    {
     "data": {
      "text/plain": [
       "array([662, 662, 213, 213,  38,  13,  42,  44,   4,  17,   0,   0,   0,\n",
       "         0,   0,   0,   0,   0,   0,   0,   0,   0,   0,   0,   0,   0,\n",
       "         0,   0,   0,   0,   0,   0,   0,   0,   0,   0,   0,   0,   0,\n",
       "         0], dtype=int32)"
      ]
     },
     "execution_count": 199,
     "metadata": {},
     "output_type": "execute_result"
    }
   ],
   "source": [
    "np.array(padded_docs[i])"
   ]
  },
  {
   "cell_type": "code",
   "execution_count": 191,
   "metadata": {},
   "outputs": [],
   "source": [
    "outputs = model.predict(np.array(padded_docs[i:i+1]))\n"
   ]
  },
  {
   "cell_type": "code",
   "execution_count": 192,
   "metadata": {},
   "outputs": [
    {
     "name": "stdout",
     "output_type": "stream",
     "text": [
      "[26]\n"
     ]
    }
   ],
   "source": [
    "pred_class = np.argmax(outputs,axis=1)\n",
    "print(pred_class)"
   ]
  },
  {
   "cell_type": "code",
   "execution_count": 193,
   "metadata": {},
   "outputs": [
    {
     "data": {
      "text/plain": [
       "array(['Garnachas Otros'], dtype=object)"
      ]
     },
     "execution_count": 193,
     "metadata": {},
     "output_type": "execute_result"
    }
   ],
   "source": [
    "label_encoder.inverse_transform(pred_class)"
   ]
  },
  {
   "cell_type": "code",
   "execution_count": 194,
   "metadata": {},
   "outputs": [
    {
     "data": {
      "text/plain": [
       "2667    Torta\n",
       "Name: T2_corrected, dtype: object"
      ]
     },
     "execution_count": 194,
     "metadata": {},
     "output_type": "execute_result"
    }
   ],
   "source": [
    "df.T2_corrected[i:i+1]"
   ]
  },
  {
   "cell_type": "code",
   "execution_count": 195,
   "metadata": {},
   "outputs": [
    {
     "data": {
      "text/plain": [
       "array([0., 0., 0., 0., 0., 0., 0., 0., 0., 0., 0., 0., 0., 0., 0., 0., 0.,\n",
       "       0., 0., 0., 0., 0., 0., 0., 0., 0., 0., 0., 0., 0., 0., 0., 0., 0.,\n",
       "       0., 0., 0., 0., 0., 0., 0., 0., 0., 0., 0., 0., 0., 0., 0., 0., 0.,\n",
       "       0., 0., 0., 0., 0., 0., 0., 0., 0., 1., 0., 0., 0.])"
      ]
     },
     "execution_count": 195,
     "metadata": {},
     "output_type": "execute_result"
    }
   ],
   "source": [
    "y[i]"
   ]
  },
  {
   "cell_type": "code",
   "execution_count": 196,
   "metadata": {},
   "outputs": [
    {
     "data": {
      "text/plain": [
       "[array([0., 0., 0., 0., 0., 0., 0., 0., 0., 0., 0., 0., 0., 0., 0., 0., 0.,\n",
       "        0., 0., 0., 0., 0., 0., 0., 0., 0., 0., 0., 0., 0., 0., 0., 0., 0.,\n",
       "        0., 0., 0., 0., 0., 0., 0., 0., 0., 0., 0., 0., 0., 0., 0., 0., 0.,\n",
       "        0., 0., 0., 0., 0., 0., 0., 0., 0., 0., 0., 0., 0.], dtype=float32)]"
      ]
     },
     "execution_count": 196,
     "metadata": {},
     "output_type": "execute_result"
    }
   ],
   "source": [
    "[np.round(elem) for elem in outputs]"
   ]
  },
  {
   "cell_type": "code",
   "execution_count": null,
   "metadata": {},
   "outputs": [],
   "source": []
  }
 ],
 "metadata": {
  "kernelspec": {
   "display_name": "Python 3",
   "language": "python",
   "name": "python3"
  },
  "language_info": {
   "codemirror_mode": {
    "name": "ipython",
    "version": 3
   },
   "file_extension": ".py",
   "mimetype": "text/x-python",
   "name": "python",
   "nbconvert_exporter": "python",
   "pygments_lexer": "ipython3",
   "version": "3.6.8"
  }
 },
 "nbformat": 4,
 "nbformat_minor": 4
}
