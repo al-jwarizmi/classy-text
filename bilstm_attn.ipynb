{
 "cells": [
  {
   "cell_type": "code",
   "execution_count": 1,
   "metadata": {},
   "outputs": [],
   "source": [
    "import pandas as pd\n",
    "import numpy as np"
   ]
  },
  {
   "cell_type": "code",
   "execution_count": 3,
   "metadata": {},
   "outputs": [],
   "source": [
    "df = pd.read_pickle('whole_dish_base_2020.pkl')"
   ]
  },
  {
   "cell_type": "code",
   "execution_count": 4,
   "metadata": {},
   "outputs": [
    {
     "data": {
      "text/html": [
       "<div>\n",
       "<style scoped>\n",
       "    .dataframe tbody tr th:only-of-type {\n",
       "        vertical-align: middle;\n",
       "    }\n",
       "\n",
       "    .dataframe tbody tr th {\n",
       "        vertical-align: top;\n",
       "    }\n",
       "\n",
       "    .dataframe thead th {\n",
       "        text-align: right;\n",
       "    }\n",
       "</style>\n",
       "<table border=\"1\" class=\"dataframe\">\n",
       "  <thead>\n",
       "    <tr style=\"text-align: right;\">\n",
       "      <th></th>\n",
       "      <th>item_code</th>\n",
       "      <th>frn_id</th>\n",
       "      <th>category</th>\n",
       "      <th>item_name</th>\n",
       "      <th>item_description</th>\n",
       "      <th>item_text</th>\n",
       "      <th>tokens</th>\n",
       "      <th>prep_text</th>\n",
       "    </tr>\n",
       "  </thead>\n",
       "  <tbody>\n",
       "    <tr>\n",
       "      <th>0</th>\n",
       "      <td>40373390.0</td>\n",
       "      <td>45460</td>\n",
       "      <td>Raclettes gourmet</td>\n",
       "      <td>Lyon</td>\n",
       "      <td>Arrachera Texas  queso holandés  cebolla salte...</td>\n",
       "      <td>raclettes gourmet lyon arrachera texas queso h...</td>\n",
       "      <td>[raclettes, gourmet, lyon, arrachera, texas, q...</td>\n",
       "      <td>raclettes gourmet lyon arrachera texas queso h...</td>\n",
       "    </tr>\n",
       "    <tr>\n",
       "      <th>1</th>\n",
       "      <td>33121114.0</td>\n",
       "      <td>45460</td>\n",
       "      <td>Batidos nutritivos</td>\n",
       "      <td>Appenzell</td>\n",
       "      <td>Mango  granola y avena</td>\n",
       "      <td>batidos nutritivos appenzell mango granola y a...</td>\n",
       "      <td>[batidos, nutritivos, appenzell, mango, granol...</td>\n",
       "      <td>batidos nutritivos appenzell mango granola avena</td>\n",
       "    </tr>\n",
       "    <tr>\n",
       "      <th>2</th>\n",
       "      <td>33120324.0</td>\n",
       "      <td>45460</td>\n",
       "      <td>Pastelería</td>\n",
       "      <td>Fantasía bananal</td>\n",
       "      <td>Deliciosos plátanos machos</td>\n",
       "      <td>pastelería fantasía bananal deliciosos plátano...</td>\n",
       "      <td>[pastelería, fantasía, bananal, plátanos, machos]</td>\n",
       "      <td>pastelería fantasía bananal plátanos machos</td>\n",
       "    </tr>\n",
       "    <tr>\n",
       "      <th>3</th>\n",
       "      <td>35429673.0</td>\n",
       "      <td>45460</td>\n",
       "      <td>Pastelería</td>\n",
       "      <td>Flan de cajeta</td>\n",
       "      <td>NaN</td>\n",
       "      <td>pastelería flan de cajeta nan</td>\n",
       "      <td>[pastelería, flan, cajeta]</td>\n",
       "      <td>pastelería flan cajeta</td>\n",
       "    </tr>\n",
       "    <tr>\n",
       "      <th>4</th>\n",
       "      <td>46534290.0</td>\n",
       "      <td>45460</td>\n",
       "      <td>Raclettes</td>\n",
       "      <td>Pastora</td>\n",
       "      <td>Fajitas de pollo al pastor  piña caramelizada ...</td>\n",
       "      <td>raclettes pastora fajitas de pollo al pastor p...</td>\n",
       "      <td>[raclettes, pastora, fajitas, pollo, pastor, p...</td>\n",
       "      <td>raclettes pastora fajitas pollo pastor piña ca...</td>\n",
       "    </tr>\n",
       "  </tbody>\n",
       "</table>\n",
       "</div>"
      ],
      "text/plain": [
       "    item_code  frn_id            category         item_name  \\\n",
       "0  40373390.0   45460   Raclettes gourmet              Lyon   \n",
       "1  33121114.0   45460  Batidos nutritivos         Appenzell   \n",
       "2  33120324.0   45460          Pastelería  Fantasía bananal   \n",
       "3  35429673.0   45460          Pastelería    Flan de cajeta   \n",
       "4  46534290.0   45460           Raclettes           Pastora   \n",
       "\n",
       "                                    item_description  \\\n",
       "0  Arrachera Texas  queso holandés  cebolla salte...   \n",
       "1                             Mango  granola y avena   \n",
       "2                         Deliciosos plátanos machos   \n",
       "3                                                NaN   \n",
       "4  Fajitas de pollo al pastor  piña caramelizada ...   \n",
       "\n",
       "                                           item_text  \\\n",
       "0  raclettes gourmet lyon arrachera texas queso h...   \n",
       "1  batidos nutritivos appenzell mango granola y a...   \n",
       "2  pastelería fantasía bananal deliciosos plátano...   \n",
       "3                      pastelería flan de cajeta nan   \n",
       "4  raclettes pastora fajitas de pollo al pastor p...   \n",
       "\n",
       "                                              tokens  \\\n",
       "0  [raclettes, gourmet, lyon, arrachera, texas, q...   \n",
       "1  [batidos, nutritivos, appenzell, mango, granol...   \n",
       "2  [pastelería, fantasía, bananal, plátanos, machos]   \n",
       "3                         [pastelería, flan, cajeta]   \n",
       "4  [raclettes, pastora, fajitas, pollo, pastor, p...   \n",
       "\n",
       "                                           prep_text  \n",
       "0  raclettes gourmet lyon arrachera texas queso h...  \n",
       "1   batidos nutritivos appenzell mango granola avena  \n",
       "2        pastelería fantasía bananal plátanos machos  \n",
       "3                             pastelería flan cajeta  \n",
       "4  raclettes pastora fajitas pollo pastor piña ca...  "
      ]
     },
     "execution_count": 4,
     "metadata": {},
     "output_type": "execute_result"
    }
   ],
   "source": [
    "df.head()"
   ]
  },
  {
   "cell_type": "code",
   "execution_count": 17,
   "metadata": {},
   "outputs": [],
   "source": [
    "from numpy import array\n",
    "from numpy import argmax\n",
    "from sklearn.preprocessing import LabelEncoder\n",
    "from sklearn.preprocessing import OneHotEncoder\n",
    "\n",
    "# Naive class imbalance correction\n",
    "imbal = df.T2.value_counts().index[df.T2.value_counts() < 10]\n",
    "\n",
    "df['T2_isimbal'] = df.T2.map(lambda x: x in list(imbal))\n",
    "df['T2_corrected'] = df.T2\n",
    "\n",
    "df.loc[df.T2_isimbal,['T2_corrected']] = 'Otros otros' \n"
   ]
  },
  {
   "cell_type": "code",
   "execution_count": 18,
   "metadata": {},
   "outputs": [],
   "source": [
    "df.loc[[lab in set(['Thai']) for lab in df.T2_corrected],['T2_corrected']] = 'Asiática otros' \n",
    "df.loc[[lab in set(['Nachos']) for lab in df.T2_corrected],['T2_corrected']] = 'Botanas otros' \n",
    "df.loc[[lab in set(['Bistek']) for lab in df.T2_corrected],['T2_corrected']] = 'Tacos otros' \n",
    "df.loc[[lab in set(['Pizza gourmet','Pizza americana']) for lab in df.T2_corrected],['T2_corrected']] = 'Pizza' \n",
    "df.loc[[lab in set(['Bagguetes']) for lab in df.T2_corrected],['T2_corrected']] = 'Torta'\n",
    "df.loc[[lab in set(['Garnachas Otros']) for lab in df.T2_corrected],['T2_corrected']] = 'Garnachas otros'\n",
    "df.loc[[lab in set(['Tacos Otros']) for lab in df.T2_corrected],['T2_corrected']] = 'Tacos otros'\n",
    "df.loc[[lab in set(['Internacional Otros']) for lab in df.T2_corrected],['T2_corrected']] = 'Internacional otros'\n",
    "df.loc[[lab in set(['Bebidas']) for lab in df.T1],['T2_corrected']] = 'Bebidas'"
   ]
  },
  {
   "cell_type": "code",
   "execution_count": 19,
   "metadata": {},
   "outputs": [
    {
     "data": {
      "text/plain": [
       "array(['Alitas', 'Pollo', 'Nuggets', 'Papas', 'Boneless', 'Otros otros'],\n",
       "      dtype=object)"
      ]
     },
     "execution_count": 19,
     "metadata": {},
     "output_type": "execute_result"
    }
   ],
   "source": [
    "df = df[df['T2_corrected'].notnull()]\n",
    "df.groupby(['T1'])['T2_corrected'].unique()[8]"
   ]
  },
  {
   "cell_type": "code",
   "execution_count": 20,
   "metadata": {},
   "outputs": [],
   "source": [
    "df[['tokens','T2_corrected']].to_pickle('tax_train_final.pkl')"
   ]
  },
  {
   "cell_type": "code",
   "execution_count": 21,
   "metadata": {},
   "outputs": [],
   "source": [
    "# exclude worst 10 classes for test acc\n",
    "# exclude = set(performance.sort_values(by=['test_accuracy']).head(10).index)\n",
    "\n",
    "# df = df[[c not in exclude for c in df.T2_corrected]]"
   ]
  },
  {
   "cell_type": "markdown",
   "metadata": {},
   "source": [
    "# embedding"
   ]
  },
  {
   "cell_type": "code",
   "execution_count": 7,
   "metadata": {},
   "outputs": [
    {
     "name": "stdout",
     "output_type": "stream",
     "text": [
      "Result embedding shape: (78381, 100)\n",
      "CPU times: user 13min 16s, sys: 2.33 s, total: 13min 18s\n",
      "Wall time: 4min 52s\n"
     ]
    }
   ],
   "source": [
    "%%time\n",
    "\n",
    "import string\n",
    "import gensim\n",
    "\n",
    "sentences = df.tokens\n",
    "\n",
    "# word_model = gensim.models.Word2Vec(sentences, size=100, min_count=1, window=5, iter=15, null_word=0, seed = 2019)\n",
    "# pretrained_weights = word_model.wv.vectors\n",
    "# vocab_size, embedding_size = pretrained_weights.shape\n",
    "# print('Result embedding shape:', pretrained_weights.shape)\n"
   ]
  },
  {
   "cell_type": "code",
   "execution_count": 8,
   "metadata": {},
   "outputs": [],
   "source": [
    "from gensim.test.utils import get_tmpfile\n",
    "from gensim.models import KeyedVectors\n",
    "\n",
    "fname = \"w2v_dish_2M.kv\"\n",
    "# word_model.save(fname)\n"
   ]
  },
  {
   "cell_type": "code",
   "execution_count": 24,
   "metadata": {},
   "outputs": [],
   "source": [
    "word_model = gensim.models.Word2Vec.load(fname, mmap='r')\n",
    "pretrained_weights = word_model.wv.vectors\n",
    "\n",
    "\n",
    "def word2idx(word):\n",
    "    try:    \n",
    "        return word_model.wv.vocab[word].index\n",
    "    except:\n",
    "        return 0\n",
    "    \n",
    "def idx2word(idx):\n",
    "    return word_model.wv.index2word[idx]\n"
   ]
  },
  {
   "cell_type": "code",
   "execution_count": 25,
   "metadata": {},
   "outputs": [],
   "source": [
    "import pickle\n",
    "# Save\n",
    "word_model.save(\"w2v_dish_1M.pkl\")  # Stores *.pkl file\n",
    "# Load\n",
    "# mymodel = pickle.load(\"mymodel.pkl\")"
   ]
  },
  {
   "cell_type": "code",
   "execution_count": 12,
   "metadata": {},
   "outputs": [
    {
     "data": {
      "text/plain": [
       "(64935, 100)"
      ]
     },
     "execution_count": 12,
     "metadata": {},
     "output_type": "execute_result"
    }
   ],
   "source": [
    "pretrained_weights.shape"
   ]
  },
  {
   "cell_type": "code",
   "execution_count": 30,
   "metadata": {},
   "outputs": [],
   "source": [
    "# save for tensorboard embedding projector viz\n",
    "# word_model.wv.save_word2vec_format('dish_w2v')\n",
    "# shell run: python -m gensim.scripts.word2vec2tensor --input dish_w2v --output dish_w2v"
   ]
  },
  {
   "cell_type": "markdown",
   "metadata": {},
   "source": [
    "## BiLSTM"
   ]
  },
  {
   "cell_type": "code",
   "execution_count": 31,
   "metadata": {},
   "outputs": [],
   "source": [
    "# https://gist.github.com/cbaziotis/7ef97ccf71cbc14366835198c09809d2\n",
    "\n",
    "from keras import backend as K\n",
    "from keras.engine.topology import Layer\n",
    "#from keras import initializations\n",
    "from keras import initializers, regularizers, constraints\n",
    "\n",
    "\n",
    "def dot_product(x, kernel):\n",
    "    \"\"\"\n",
    "    Wrapper for dot product operation, in order to be compatible with both\n",
    "    Theano and Tensorflow\n",
    "    Args:\n",
    "        x (): input\n",
    "        kernel (): weights\n",
    "    Returns:\n",
    "    \"\"\"\n",
    "    if K.backend() == 'tensorflow':\n",
    "        return K.squeeze(K.dot(x, K.expand_dims(kernel)), axis=-1)\n",
    "    else:\n",
    "        return K.dot(x, kernel)\n",
    "    \n",
    "\n",
    "class AttentionWithContext(Layer):\n",
    "    \"\"\"\n",
    "    Attention operation, with a context/query vector, for temporal data.\n",
    "    Supports Masking.\n",
    "    Follows the work of Yang et al. [https://www.cs.cmu.edu/~diyiy/docs/naacl16.pdf]\n",
    "    \"Hierarchical Attention Networks for Document Classification\"\n",
    "    by using a context vector to assist the attention\n",
    "    # Input shape\n",
    "        3D tensor with shape: `(samples, steps, features)`.\n",
    "    # Output shape\n",
    "        2D tensor with shape: `(samples, features)`.\n",
    "    How to use:\n",
    "    Just put it on top of an RNN Layer (GRU/LSTM/SimpleRNN) with return_sequences=True.\n",
    "    The dimensions are inferred based on the output shape of the RNN.\n",
    "    Note: The layer has been tested with Keras 2.0.6\n",
    "    Example:\n",
    "        model.add(LSTM(64, return_sequences=True))\n",
    "        model.add(AttentionWithContext())\n",
    "        # next add a Dense layer (for classification/regression) or whatever...\n",
    "    \"\"\"\n",
    "\n",
    "    def __init__(self,\n",
    "                 W_regularizer=None, u_regularizer=None, b_regularizer=None,\n",
    "                 W_constraint=None, u_constraint=None, b_constraint=None,\n",
    "                 bias=True, **kwargs):\n",
    "\n",
    "        self.supports_masking = True\n",
    "        self.init = initializers.get('glorot_uniform')\n",
    "\n",
    "        self.W_regularizer = regularizers.get(W_regularizer)\n",
    "        self.u_regularizer = regularizers.get(u_regularizer)\n",
    "        self.b_regularizer = regularizers.get(b_regularizer)\n",
    "\n",
    "        self.W_constraint = constraints.get(W_constraint)\n",
    "        self.u_constraint = constraints.get(u_constraint)\n",
    "        self.b_constraint = constraints.get(b_constraint)\n",
    "\n",
    "        self.bias = bias\n",
    "        super(AttentionWithContext, self).__init__(**kwargs)\n",
    "\n",
    "    def build(self, input_shape):\n",
    "        assert len(input_shape) == 3\n",
    "\n",
    "        self.W = self.add_weight(shape=(input_shape[-1], input_shape[-1],),\n",
    "                                 initializer=self.init,\n",
    "                                 name='{}_W'.format(self.name),\n",
    "                                 regularizer=self.W_regularizer,\n",
    "                                 constraint=self.W_constraint)\n",
    "        if self.bias:\n",
    "            self.b = self.add_weight(shape=(input_shape[-1],),\n",
    "                                     initializer='zero',\n",
    "                                     name='{}_b'.format(self.name),\n",
    "                                     regularizer=self.b_regularizer,\n",
    "                                     constraint=self.b_constraint)\n",
    "\n",
    "        self.u = self.add_weight(shape=(input_shape[-1],),\n",
    "                                 initializer=self.init,\n",
    "                                 name='{}_u'.format(self.name),\n",
    "                                 regularizer=self.u_regularizer,\n",
    "                                 constraint=self.u_constraint)\n",
    "\n",
    "        super(AttentionWithContext, self).build(input_shape)\n",
    "\n",
    "    def compute_mask(self, input, input_mask=None):\n",
    "        # do not pass the mask to the next layers\n",
    "        return None\n",
    "\n",
    "    def call(self, x, mask=None):\n",
    "        uit = dot_product(x, self.W)\n",
    "\n",
    "        if self.bias:\n",
    "            uit += self.b\n",
    "\n",
    "        uit = K.tanh(uit)\n",
    "        ait = dot_product(uit, self.u)\n",
    "\n",
    "        a = K.exp(ait)\n",
    "\n",
    "        # apply mask after the exp. will be re-normalized next\n",
    "        if mask is not None:\n",
    "            # Cast the mask to floatX to avoid float64 upcasting in theano\n",
    "            a *= K.cast(mask, K.floatx())\n",
    "\n",
    "        # in some cases especially in the early stages of training the sum may be almost zero\n",
    "        # and this results in NaN's. A workaround is to add a very small positive number ε to the sum.\n",
    "        # a /= K.cast(K.sum(a, axis=1, keepdims=True), K.floatx())\n",
    "        a /= K.cast(K.sum(a, axis=1, keepdims=True) + K.epsilon(), K.floatx())\n",
    "\n",
    "        a = K.expand_dims(a)\n",
    "        weighted_input = x * a\n",
    "        return K.sum(weighted_input, axis=1)\n",
    "\n",
    "    def compute_output_shape(self, input_shape):\n",
    "        return input_shape[0], input_shape[-1]"
   ]
  },
  {
   "cell_type": "markdown",
   "metadata": {},
   "source": [
    "## train test split"
   ]
  },
  {
   "cell_type": "code",
   "execution_count": 32,
   "metadata": {},
   "outputs": [
    {
     "name": "stdout",
     "output_type": "stream",
     "text": [
      "[ 0 21 52 ... 39 40 26]\n"
     ]
    }
   ],
   "source": [
    "# # integer encode\n",
    "label_encoder = LabelEncoder()\n",
    "label_encoder = label_encoder.fit(df.T2_corrected.map(str))\n",
    "integer_encoded = label_encoder.transform(df.T2_corrected.map(str))\n",
    "print(integer_encoded)"
   ]
  },
  {
   "cell_type": "code",
   "execution_count": 33,
   "metadata": {},
   "outputs": [
    {
     "data": {
      "text/plain": [
       "array(['Alitas', 'Arabe', 'Arroces', 'Asiática otros', 'Barbacoa',\n",
       "       'Bebidas', 'Boneless', 'Botanas otros', 'Bowls', 'Burritos',\n",
       "       'Caldos', 'Cemitas', 'Chilaquiles', 'Comida china',\n",
       "       'Comida corrida', 'Cortes', 'Costillas', 'Crepas',\n",
       "       'Desayunos otros', 'Empanadas', 'Enchiladas', 'Ensalada',\n",
       "       'Flautas', 'Fruta', 'Garnachas otros', 'Gorditas', 'Hamburguesa',\n",
       "       'Helados', 'Hot cakes y waffles', 'Hot dog', 'Huevos y omelet',\n",
       "       'Internacional otros', 'Italiana', 'Mexicana otros', 'Milanesa',\n",
       "       'Nuggets', 'Otros otros', 'Panes', 'Panini', 'Papas', 'Pasta',\n",
       "       'Pasteles', 'Pastor', 'Pescado y mariscos', 'Pizza', 'Pollo',\n",
       "       'Postres otros', 'Pozole', 'Quesadillas', 'Sandwich', 'Sopas',\n",
       "       'Sushi', 'Tacos otros', 'Tamales', 'Torta', 'Tostadas', 'Vegano'],\n",
       "      dtype=object)"
      ]
     },
     "execution_count": 33,
     "metadata": {},
     "output_type": "execute_result"
    }
   ],
   "source": [
    "label_encoder.classes_"
   ]
  },
  {
   "cell_type": "code",
   "execution_count": 34,
   "metadata": {},
   "outputs": [],
   "source": [
    "from keras.preprocessing.text import Tokenizer\n",
    "from keras.preprocessing.sequence import pad_sequences\n",
    "\n",
    "# docs = df.prep_text\n",
    "\n",
    "# # prepare tokenizer\n",
    "# t = Tokenizer()\n",
    "# t.fit_on_texts(df.prep_text)\n",
    "# vocab_size = len(t.word_index) + 1\n",
    "\n",
    "# # integer encode the documents\n",
    "# encoded_docs = t.texts_to_sequences(docs)\n",
    "# # print(encoded_docs)\n",
    "\n",
    "# # pad documents to a max length of 4 words\n",
    "# max_length = 30\n",
    "# padded_docs = pad_sequences(encoded_docs, maxlen=max_length, padding='post')\n",
    "# print(padded_docs.shape)\n"
   ]
  },
  {
   "cell_type": "code",
   "execution_count": 35,
   "metadata": {},
   "outputs": [
    {
     "name": "stderr",
     "output_type": "stream",
     "text": [
      "/home/fred/Desktop/taxonomy/env/lib/python3.6/site-packages/sklearn/preprocessing/_encoders.py:415: FutureWarning: The handling of integer data will change in version 0.22. Currently, the categories are determined based on the range [0, max(values)], while in the future they will be determined based on the unique values.\n",
      "If you want the future behaviour and silence this warning, you can specify \"categories='auto'\".\n",
      "In case you used a LabelEncoder before this OneHotEncoder to convert the categories to integers, then you can now use the OneHotEncoder directly.\n",
      "  warnings.warn(msg, FutureWarning)\n"
     ]
    }
   ],
   "source": [
    "# binary encode\n",
    "onehot_encoder = OneHotEncoder(sparse=False)\n",
    "y = onehot_encoder.fit_transform(integer_encoded.reshape(-1, 1))"
   ]
  },
  {
   "cell_type": "code",
   "execution_count": 36,
   "metadata": {},
   "outputs": [],
   "source": [
    "n_classes = y.shape[1]"
   ]
  },
  {
   "cell_type": "code",
   "execution_count": 37,
   "metadata": {},
   "outputs": [],
   "source": [
    "max_length = 30"
   ]
  },
  {
   "cell_type": "code",
   "execution_count": 38,
   "metadata": {},
   "outputs": [],
   "source": [
    "df_newsample = pd.read_pickle('clustering_preproc.pkl')"
   ]
  },
  {
   "cell_type": "code",
   "execution_count": 40,
   "metadata": {},
   "outputs": [
    {
     "name": "stdout",
     "output_type": "stream",
     "text": [
      "\n",
      "Preparing the data for LSTM...\n",
      "X shape: (5833, 30)\n"
     ]
    }
   ],
   "source": [
    "print('\\nPreparing the data for LSTM...')\n",
    "\n",
    "sentences = df.tokens\n",
    "\n",
    "X = np.zeros([len(sentences), max_length], dtype=np.int32) \n",
    "for i, sentence in enumerate(sentences):\n",
    "    for t, word in enumerate(sentence[:max_length]):\n",
    "        X[i, t] = word2idx(word)\n",
    "            \n",
    "print('X shape:', X.shape)\n"
   ]
  },
  {
   "cell_type": "code",
   "execution_count": 41,
   "metadata": {},
   "outputs": [],
   "source": [
    "from sklearn.model_selection import train_test_split\n",
    "\n",
    "# X = padded_docs\n",
    "# le.inverse_transform([0, 0, 1, 2])\n",
    "\n",
    "X_train, X_test, y_train, y_test = train_test_split(\n",
    "    X, y, test_size=0.20, random_state=42)"
   ]
  },
  {
   "cell_type": "code",
   "execution_count": 43,
   "metadata": {},
   "outputs": [
    {
     "data": {
      "text/plain": [
       "(64935, 100)"
      ]
     },
     "execution_count": 43,
     "metadata": {},
     "output_type": "execute_result"
    }
   ],
   "source": [
    "pretrained_weights.shape"
   ]
  },
  {
   "cell_type": "code",
   "execution_count": 44,
   "metadata": {},
   "outputs": [
    {
     "name": "stderr",
     "output_type": "stream",
     "text": [
      "/home/fred/Desktop/taxonomy/env/lib/python3.6/site-packages/sklearn/preprocessing/_encoders.py:415: FutureWarning: The handling of integer data will change in version 0.22. Currently, the categories are determined based on the range [0, max(values)], while in the future they will be determined based on the unique values.\n",
      "If you want the future behaviour and silence this warning, you can specify \"categories='auto'\".\n",
      "In case you used a LabelEncoder before this OneHotEncoder to convert the categories to integers, then you can now use the OneHotEncoder directly.\n",
      "  warnings.warn(msg, FutureWarning)\n"
     ]
    }
   ],
   "source": [
    "# binary encode\n",
    "onehot_encoder = OneHotEncoder(sparse=False)\n",
    "y = onehot_encoder.fit_transform(integer_encoded.reshape(-1, 1))"
   ]
  },
  {
   "cell_type": "code",
   "execution_count": 45,
   "metadata": {},
   "outputs": [],
   "source": [
    "from keras.models import Model\n",
    "from keras.layers import Dense, Embedding, Input\n",
    "from keras.layers import LSTM, Bidirectional, Dropout, GRU, Concatenate\n",
    "\n",
    "\n",
    "def BidLstm(maxlen, max_features, embed_size, embedding_matrix, n_classes):\n",
    "    inp = Input(shape=(maxlen, ))\n",
    "    emb = Embedding(max_features, embed_size, weights=[embedding_matrix],\n",
    "                  trainable=False)(inp)\n",
    "    \n",
    "    convs = [Bidirectional(LSTM(250, return_sequences=True, dropout=0.1,\n",
    "                           recurrent_dropout=0.1))(emb),\n",
    "            Bidirectional(GRU(250, return_sequences=True, dropout=0.1,\n",
    "                           recurrent_dropout=0.1))(emb)]\n",
    "    \n",
    "    x = Concatenate(axis = 1)(convs)\n",
    "    x = AttentionWithContext()(x)\n",
    "    x = Dense(256, activation=\"relu\")(x)\n",
    "    x = Dropout(0.2)(x)\n",
    "    x = Dense(n_classes, activation=\"softmax\")(x)\n",
    "    model = Model(inputs=inp, outputs=x)\n",
    "\n",
    "    return model\n"
   ]
  },
  {
   "cell_type": "code",
   "execution_count": 46,
   "metadata": {},
   "outputs": [],
   "source": [
    "from keras.layers import Conv1D,  GlobalMaxPooling1D, Concatenate,MaxPool1D,GlobalAveragePooling1D\n",
    "def att(maxlen, vocab_size, embed_dim, embedding_matrix, n_classes):\n",
    "    inp = Input(shape=(maxlen, ))\n",
    "    emb = Embedding(input_dim=vocab_size,\n",
    "                   output_dim=embed_dim,\n",
    "                   mask_zero=True,\n",
    "                   input_length=maxlen)(inp)\n",
    "    \n",
    "    bis = Bidirectional(LSTM(300, return_sequences=True, dropout=0.2,\n",
    "                           recurrent_dropout=0.2))(emb)\n",
    "    \n",
    "#     conv1 = Conv1D(filters = 30, kernel_size = 10, activation = 'relu')(bis)\n",
    "#     conv2 = Conv1D(filters = 40, kernel_size = 5, activation = 'relu')(bis)\n",
    "#     conv3 = Conv1D(filters = 30, kernel_size = 10, activation = 'relu')(emb)\n",
    "#     conv4 = Conv1D(filters = 40, kernel_size = 5, activation = 'relu')(emb)\n",
    "    \n",
    "    x = AttentionWithContext()(bis)\n",
    "    \n",
    "#     ensembl = [AttentionWithContext()(bis),GlobalAveragePooling1D()(conv1),\n",
    "#               GlobalAveragePooling1D()(conv2),GlobalAveragePooling1D()(conv3),\n",
    "#                GlobalAveragePooling1D()(conv4)]\n",
    "\n",
    "#     x = Concatenate(axis = 1)(ensembl)\n",
    "    x = Dense(256, activation=\"relu\")(x)\n",
    "    x = Dropout(0.2)(x)\n",
    "    \n",
    "    x = Dense(n_classes, activation=\"softmax\")(x)\n",
    "    model = Model(inputs=inp, outputs=x)\n",
    "\n",
    "    return model"
   ]
  },
  {
   "cell_type": "code",
   "execution_count": 47,
   "metadata": {},
   "outputs": [],
   "source": [
    "from keras.layers import Conv1D,  GlobalMaxPooling1D, Concatenate,MaxPool1D,GlobalAveragePooling1D\n",
    "def ensemble(maxlen, vocab_size, embed_dim, embedding_matrix, n_classes):\n",
    "    inp = Input(shape=(maxlen, ))\n",
    "    emb = Embedding(input_dim=vocab_size,\n",
    "                   output_dim=embed_dim,\n",
    "                   input_length=maxlen,\n",
    "                   weights=[embedding_matrix],\n",
    "                   trainable=False)(inp)\n",
    "    \n",
    "    bis = Bidirectional(LSTM(300, return_sequences=True, dropout=0.2,\n",
    "                           recurrent_dropout=0.2))(emb)\n",
    "    \n",
    "    conv1 = Conv1D(filters = 30, kernel_size = 10, activation = 'relu')(bis)\n",
    "    conv2 = Conv1D(filters = 40, kernel_size = 5, activation = 'relu')(bis)\n",
    "    conv3 = Conv1D(filters = 30, kernel_size = 10, activation = 'relu')(emb)\n",
    "    conv4 = Conv1D(filters = 40, kernel_size = 5, activation = 'relu')(emb)\n",
    "\n",
    "    ensembl = [AttentionWithContext()(bis),GlobalAveragePooling1D()(conv1),\n",
    "              GlobalAveragePooling1D()(conv2),GlobalAveragePooling1D()(conv3),\n",
    "               GlobalAveragePooling1D()(conv4)]\n",
    "\n",
    "    x = Concatenate(axis = 1)(ensembl)\n",
    "    x = Dense(256, activation=\"relu\")(x)\n",
    "    x = Dropout(0.2)(x)\n",
    "    \n",
    "    x = Dense(n_classes, activation=\"softmax\")(x)\n",
    "    model = Model(inputs=inp, outputs=x)\n",
    "\n",
    "    return model"
   ]
  },
  {
   "cell_type": "code",
   "execution_count": 92,
   "metadata": {},
   "outputs": [],
   "source": [
    "vocab_size, embedding_size = pretrained_weights.shape\n",
    "\n",
    "model = ensemble(maxlen=max_length,\n",
    "                vocab_size= vocab_size,\n",
    "                embed_dim= embedding_size,\n",
    "                embedding_matrix=pretrained_weights,\n",
    "                n_classes=n_classes)"
   ]
  },
  {
   "cell_type": "code",
   "execution_count": 93,
   "metadata": {},
   "outputs": [],
   "source": [
    "# # Load TENSORBOARD\n",
    "# %reload_ext tensorboard\n",
    "# # Start TENSORBOARD\n",
    "# %tensorboard --logdir ./logs"
   ]
  },
  {
   "cell_type": "code",
   "execution_count": 94,
   "metadata": {},
   "outputs": [
    {
     "name": "stdout",
     "output_type": "stream",
     "text": [
      "Model: \"model_3\"\n",
      "__________________________________________________________________________________________________\n",
      "Layer (type)                    Output Shape         Param #     Connected to                     \n",
      "==================================================================================================\n",
      "input_3 (InputLayer)            (None, 30)           0                                            \n",
      "__________________________________________________________________________________________________\n",
      "embedding_3 (Embedding)         (None, 30, 100)      6493500     input_3[0][0]                    \n",
      "__________________________________________________________________________________________________\n",
      "bidirectional_3 (Bidirectional) (None, 30, 600)      962400      embedding_3[0][0]                \n",
      "__________________________________________________________________________________________________\n",
      "conv1d_9 (Conv1D)               (None, 21, 30)       180030      bidirectional_3[0][0]            \n",
      "__________________________________________________________________________________________________\n",
      "conv1d_10 (Conv1D)              (None, 26, 40)       120040      bidirectional_3[0][0]            \n",
      "__________________________________________________________________________________________________\n",
      "conv1d_11 (Conv1D)              (None, 21, 30)       30030       embedding_3[0][0]                \n",
      "__________________________________________________________________________________________________\n",
      "conv1d_12 (Conv1D)              (None, 26, 40)       20040       embedding_3[0][0]                \n",
      "__________________________________________________________________________________________________\n",
      "attention_with_context_3 (Atten (None, 600)          361200      bidirectional_3[0][0]            \n",
      "__________________________________________________________________________________________________\n",
      "global_average_pooling1d_9 (Glo (None, 30)           0           conv1d_9[0][0]                   \n",
      "__________________________________________________________________________________________________\n",
      "global_average_pooling1d_10 (Gl (None, 40)           0           conv1d_10[0][0]                  \n",
      "__________________________________________________________________________________________________\n",
      "global_average_pooling1d_11 (Gl (None, 30)           0           conv1d_11[0][0]                  \n",
      "__________________________________________________________________________________________________\n",
      "global_average_pooling1d_12 (Gl (None, 40)           0           conv1d_12[0][0]                  \n",
      "__________________________________________________________________________________________________\n",
      "concatenate_3 (Concatenate)     (None, 740)          0           attention_with_context_3[0][0]   \n",
      "                                                                 global_average_pooling1d_9[0][0] \n",
      "                                                                 global_average_pooling1d_10[0][0]\n",
      "                                                                 global_average_pooling1d_11[0][0]\n",
      "                                                                 global_average_pooling1d_12[0][0]\n",
      "__________________________________________________________________________________________________\n",
      "dense_5 (Dense)                 (None, 256)          189696      concatenate_3[0][0]              \n",
      "__________________________________________________________________________________________________\n",
      "dropout_3 (Dropout)             (None, 256)          0           dense_5[0][0]                    \n",
      "__________________________________________________________________________________________________\n",
      "dense_6 (Dense)                 (None, 57)           14649       dropout_3[0][0]                  \n",
      "==================================================================================================\n",
      "Total params: 8,371,585\n",
      "Trainable params: 1,878,085\n",
      "Non-trainable params: 6,493,500\n",
      "__________________________________________________________________________________________________\n"
     ]
    }
   ],
   "source": [
    "from keras.utils import plot_model\n",
    "# plot_model(model, to_file='bilstm_att_cnn.png')\n",
    "\n",
    "model.summary()"
   ]
  },
  {
   "cell_type": "code",
   "execution_count": 95,
   "metadata": {},
   "outputs": [],
   "source": [
    "from keras.callbacks import EarlyStopping, ModelCheckpoint, TensorBoard\n",
    "np.random.seed(7)\n",
    "\n",
    "model.compile(loss='categorical_crossentropy', optimizer='adam',\n",
    "                  metrics=['accuracy'])\n",
    "file_path = \".model.hdf5\"\n",
    "# ckpt = ModelCheckpoint(file_path, monitor='val_loss', verbose=1,\n",
    "#                            save_best_only=True, mode='min')\n",
    "early = EarlyStopping(monitor=\"val_loss\", mode=\"min\", patience=15)\n",
    "# tensorBoard = TensorBoard(log_dir = \"./logs\", histogram_freq = 1)\n"
   ]
  },
  {
   "cell_type": "code",
   "execution_count": 96,
   "metadata": {},
   "outputs": [
    {
     "name": "stdout",
     "output_type": "stream",
     "text": [
      "Train on 4199 samples, validate on 467 samples\n",
      "Epoch 1/100\n",
      "4199/4199 [==============================] - 13s 3ms/step - loss: 3.1124 - acc: 0.2951 - val_loss: 2.1051 - val_acc: 0.5310\n",
      "Epoch 2/100\n",
      "4199/4199 [==============================] - 10s 2ms/step - loss: 1.8964 - acc: 0.5839 - val_loss: 1.4233 - val_acc: 0.6531\n",
      "Epoch 3/100\n",
      "4199/4199 [==============================] - 12s 3ms/step - loss: 1.3736 - acc: 0.6783 - val_loss: 1.0558 - val_acc: 0.7131\n",
      "Epoch 4/100\n",
      "4199/4199 [==============================] - 11s 3ms/step - loss: 1.0880 - acc: 0.7273 - val_loss: 0.8982 - val_acc: 0.7516\n",
      "Epoch 5/100\n",
      "4199/4199 [==============================] - 11s 3ms/step - loss: 0.9239 - acc: 0.7607 - val_loss: 0.8114 - val_acc: 0.7580\n",
      "Epoch 6/100\n",
      "4199/4199 [==============================] - 11s 3ms/step - loss: 0.8224 - acc: 0.7799 - val_loss: 0.7887 - val_acc: 0.7730\n",
      "Epoch 7/100\n",
      "4199/4199 [==============================] - 11s 3ms/step - loss: 0.7295 - acc: 0.7961 - val_loss: 0.7534 - val_acc: 0.7816\n",
      "Epoch 8/100\n",
      "4199/4199 [==============================] - 11s 3ms/step - loss: 0.6575 - acc: 0.8185 - val_loss: 0.7274 - val_acc: 0.7859\n",
      "Epoch 9/100\n",
      "4199/4199 [==============================] - 12s 3ms/step - loss: 0.6129 - acc: 0.8200 - val_loss: 0.7143 - val_acc: 0.7880\n",
      "Epoch 10/100\n",
      "4199/4199 [==============================] - 12s 3ms/step - loss: 0.5591 - acc: 0.8354 - val_loss: 0.7206 - val_acc: 0.7944\n",
      "Epoch 11/100\n",
      "4199/4199 [==============================] - 11s 3ms/step - loss: 0.5302 - acc: 0.8423 - val_loss: 0.6812 - val_acc: 0.7966\n",
      "Epoch 12/100\n",
      "4199/4199 [==============================] - 11s 3ms/step - loss: 0.4858 - acc: 0.8545 - val_loss: 0.7477 - val_acc: 0.7880\n",
      "Epoch 13/100\n",
      "4199/4199 [==============================] - 12s 3ms/step - loss: 0.4514 - acc: 0.8573 - val_loss: 0.7064 - val_acc: 0.7987\n",
      "Epoch 14/100\n",
      "4199/4199 [==============================] - 12s 3ms/step - loss: 0.4164 - acc: 0.8664 - val_loss: 0.7147 - val_acc: 0.8073\n",
      "Epoch 15/100\n",
      "4199/4199 [==============================] - 11s 3ms/step - loss: 0.3835 - acc: 0.8769 - val_loss: 0.7417 - val_acc: 0.7987\n",
      "Epoch 16/100\n",
      "4199/4199 [==============================] - 11s 3ms/step - loss: 0.3557 - acc: 0.8833 - val_loss: 0.7360 - val_acc: 0.7966\n",
      "Epoch 17/100\n",
      "4199/4199 [==============================] - 11s 3ms/step - loss: 0.3290 - acc: 0.8883 - val_loss: 0.7593 - val_acc: 0.7966\n",
      "Epoch 18/100\n",
      "4199/4199 [==============================] - 11s 3ms/step - loss: 0.3153 - acc: 0.8959 - val_loss: 0.7153 - val_acc: 0.7987\n",
      "Epoch 19/100\n",
      "4199/4199 [==============================] - 11s 3ms/step - loss: 0.2856 - acc: 0.9107 - val_loss: 0.7729 - val_acc: 0.8180\n",
      "Epoch 20/100\n",
      "4199/4199 [==============================] - 11s 3ms/step - loss: 0.2807 - acc: 0.9088 - val_loss: 0.7611 - val_acc: 0.7816\n",
      "Epoch 21/100\n",
      "4199/4199 [==============================] - 12s 3ms/step - loss: 0.2688 - acc: 0.9138 - val_loss: 0.7610 - val_acc: 0.7837\n",
      "Epoch 22/100\n",
      "4199/4199 [==============================] - 12s 3ms/step - loss: 0.2533 - acc: 0.9166 - val_loss: 0.8203 - val_acc: 0.7966\n",
      "Epoch 23/100\n",
      "4199/4199 [==============================] - 12s 3ms/step - loss: 0.2335 - acc: 0.9207 - val_loss: 0.7699 - val_acc: 0.7966\n",
      "Epoch 24/100\n",
      "4199/4199 [==============================] - 12s 3ms/step - loss: 0.2209 - acc: 0.9278 - val_loss: 0.8356 - val_acc: 0.8094\n",
      "Epoch 25/100\n",
      "4199/4199 [==============================] - 12s 3ms/step - loss: 0.2087 - acc: 0.9326 - val_loss: 0.7904 - val_acc: 0.8201\n",
      "Epoch 26/100\n",
      "4199/4199 [==============================] - 11s 3ms/step - loss: 0.1965 - acc: 0.9345 - val_loss: 0.8333 - val_acc: 0.7944\n"
     ]
    },
    {
     "data": {
      "text/plain": [
       "<keras.callbacks.History at 0x7f1e336ce438>"
      ]
     },
     "execution_count": 96,
     "metadata": {},
     "output_type": "execute_result"
    }
   ],
   "source": [
    "model.fit(X_train, y_train, batch_size=500, epochs=100, validation_split=0.1, callbacks=[ early])\n",
    "#model.fit(xtr, y, batch_size=256, epochs=1, validation_split=0.1)"
   ]
  },
  {
   "cell_type": "code",
   "execution_count": 97,
   "metadata": {},
   "outputs": [],
   "source": [
    "#model.save('bilstm_attention_cnn_V2.h5')"
   ]
  },
  {
   "cell_type": "markdown",
   "metadata": {},
   "source": [
    "# Model evaluation"
   ]
  },
  {
   "cell_type": "code",
   "execution_count": 103,
   "metadata": {},
   "outputs": [],
   "source": [
    "from keras.models import load_model\n",
    "# import tensorflow.compat.v1 as tf\n",
    "# tf.disable_v2_behavior()\n",
    "\n",
    "#model = load_model('bilstm_attention_cnn_V1.h5', custom_objects={'AttentionWithContext' : AttentionWithContext},\n",
    "#                   compile=False)\n",
    "#model.compile(loss='categorical_crossentropy', optimizer='adam')"
   ]
  },
  {
   "cell_type": "code",
   "execution_count": 99,
   "metadata": {},
   "outputs": [
    {
     "name": "stdout",
     "output_type": "stream",
     "text": [
      "Accuracy: 0.861923\n"
     ]
    }
   ],
   "source": [
    "accuracy,loss = model.evaluate(X_test, y_test, verbose=0)\n",
    "print('Accuracy: %f' % (accuracy))"
   ]
  },
  {
   "cell_type": "code",
   "execution_count": 64,
   "metadata": {},
   "outputs": [],
   "source": [
    "from sklearn.metrics import confusion_matrix"
   ]
  },
  {
   "cell_type": "code",
   "execution_count": 38,
   "metadata": {},
   "outputs": [
    {
     "data": {
      "text/plain": [
       "array([[ 116,   10,   80, ...,    0,    0,    0],\n",
       "       [  39,  276,   31, ...,    0,    0,    0],\n",
       "       [  39,  627,   96, ...,    0,    0,    0],\n",
       "       ...,\n",
       "       [4194,   98,    0, ...,    0,    0,    0],\n",
       "       [ 830,   13,   66, ...,    0,    0,    0],\n",
       "       [ 830,   13, 1989, ...,    0,    0,    0]], dtype=int32)"
      ]
     },
     "execution_count": 38,
     "metadata": {},
     "output_type": "execute_result"
    }
   ],
   "source": [
    "X"
   ]
  },
  {
   "cell_type": "code",
   "execution_count": 104,
   "metadata": {},
   "outputs": [],
   "source": [
    "y_pred = model.predict(X)\n",
    "y_pred_decoded = np.argmax(y_pred,axis=1)"
   ]
  },
  {
   "cell_type": "code",
   "execution_count": 105,
   "metadata": {},
   "outputs": [],
   "source": [
    "y_test_decoded = np.argmax(y,axis=1)"
   ]
  },
  {
   "cell_type": "code",
   "execution_count": 106,
   "metadata": {},
   "outputs": [
    {
     "data": {
      "text/plain": [
       "array([[ 98,   0,   0, ...,   0,   0,   0],\n",
       "       [  0,   8,   0, ...,   0,   0,   0],\n",
       "       [  0,   0,  92, ...,   0,   0,   0],\n",
       "       ...,\n",
       "       [  0,   0,   0, ..., 347,   0,   0],\n",
       "       [  0,   0,   0, ...,   0,  28,   0],\n",
       "       [  1,   0,   0, ...,   0,   0,  10]])"
      ]
     },
     "execution_count": 106,
     "metadata": {},
     "output_type": "execute_result"
    }
   ],
   "source": [
    "confusion_matrix(y_test_decoded, y_pred_decoded)"
   ]
  },
  {
   "cell_type": "code",
   "execution_count": 107,
   "metadata": {},
   "outputs": [],
   "source": [
    "import seaborn as sn\n",
    "import matplotlib.pyplot as plt "
   ]
  },
  {
   "cell_type": "code",
   "execution_count": 108,
   "metadata": {},
   "outputs": [
    {
     "data": {
      "text/plain": [
       "<matplotlib.axes._subplots.AxesSubplot at 0x7f1e32e7d278>"
      ]
     },
     "execution_count": 108,
     "metadata": {},
     "output_type": "execute_result"
    },
    {
     "data": {
      "image/png": "[encoded data removed]",
      "text/plain": [
       "<Figure size 936x936 with 2 Axes>"
      ]
     },
     "metadata": {
      "needs_background": "light"
     },
     "output_type": "display_data"
    }
   ],
   "source": [
    "from sklearn import metrics\n",
    "plt.figure(figsize = (13,13))\n",
    "sn.heatmap(metrics.confusion_matrix(y_test_decoded, y_pred_decoded), annot=True)\n"
   ]
  },
  {
   "cell_type": "code",
   "execution_count": 109,
   "metadata": {},
   "outputs": [],
   "source": [
    "from sklearn.preprocessing import label_binarize, LabelBinarizer\n",
    "from sklearn.metrics import *\n",
    "\n",
    "def multiclass_roc_auc_score(y_test, y_pred, average=\"macro\"):\n",
    "    lb = LabelBinarizer()\n",
    "    lb.fit(y_test)\n",
    "\n",
    "    y_test = lb.transform(y_test)\n",
    "    y_pred = lb.transform(y_pred)\n",
    "    return roc_auc_score(y_test, y_pred, average=average)\n"
   ]
  },
  {
   "cell_type": "code",
   "execution_count": 110,
   "metadata": {},
   "outputs": [
    {
     "data": {
      "text/plain": [
       "0.9440276513375991"
      ]
     },
     "execution_count": 110,
     "metadata": {},
     "output_type": "execute_result"
    }
   ],
   "source": [
    "multiclass_roc_auc_score(y_test_decoded,y_pred_decoded)"
   ]
  },
  {
   "cell_type": "code",
   "execution_count": 111,
   "metadata": {},
   "outputs": [
    {
     "data": {
      "text/plain": [
       "array([ 0, 21, 26, 26, 44, 52, 45, 12,  5,  3, 12, 16, 52, 15, 45])"
      ]
     },
     "execution_count": 111,
     "metadata": {},
     "output_type": "execute_result"
    }
   ],
   "source": [
    "y_pred_decoded[:15]"
   ]
  },
  {
   "cell_type": "code",
   "execution_count": 112,
   "metadata": {},
   "outputs": [],
   "source": [
    "# df_newsample['pred'] = y_pred_decoded\n",
    "# df_newsample['pred'] = df_newsample['pred'].map(lambda x: label_encoder.inverse_transform([x])[0])"
   ]
  },
  {
   "cell_type": "code",
   "execution_count": 67,
   "metadata": {},
   "outputs": [],
   "source": [
    "# aux.pred.value_counts()"
   ]
  },
  {
   "cell_type": "code",
   "execution_count": 63,
   "metadata": {},
   "outputs": [],
   "source": [
    "# aux = df_newsample[df_newsample.pred == label_encoder.inverse_transform([0])[0]].sample(60)\n",
    "# for i in range(1,n_classes):\n",
    "#     lab = label_encoder.inverse_transform([i])[0]\n",
    "#     if lab in ['Vegano','Arabe','Saludable otros','Comida china','Internacional otros']:\n",
    "#         aux = pd.concat([aux,df_newsample[df_newsample.pred == lab]])\n",
    "#     elif lab in ['Italiana','Bowls','Saludable otros','Asiatica otros','Mexicana otros','Otros otros','Garnachas otros','Postres otros']:\n",
    "#         aux = pd.concat([aux,df_newsample[df_newsample.pred == lab].sample(115)])\n",
    "#     else:\n",
    "#         aux = pd.concat([aux,df_newsample[df_newsample.pred == lab].sample(62)])"
   ]
  },
  {
   "cell_type": "code",
   "execution_count": 68,
   "metadata": {},
   "outputs": [],
   "source": [
    "# aux = aux.reset_index()\n",
    "# len(aux)"
   ]
  },
  {
   "cell_type": "code",
   "execution_count": 69,
   "metadata": {},
   "outputs": [],
   "source": [
    "# aux[['frn_id','category','item_name_y','item_description_y']].sample(frac=1).to_csv('tax_anotate_V2.csv')"
   ]
  },
  {
   "cell_type": "code",
   "execution_count": 113,
   "metadata": {},
   "outputs": [
    {
     "data": {
      "text/plain": [
       "0.9204525972912738"
      ]
     },
     "execution_count": 113,
     "metadata": {},
     "output_type": "execute_result"
    }
   ],
   "source": [
    "accuracy_score(y_test_decoded, y_pred_decoded)"
   ]
  },
  {
   "cell_type": "code",
   "execution_count": 73,
   "metadata": {},
   "outputs": [],
   "source": [
    "import random\n",
    "i = random.randint(0,len(df))"
   ]
  },
  {
   "cell_type": "code",
   "execution_count": 76,
   "metadata": {},
   "outputs": [
    {
     "data": {
      "text/plain": [
       "'promociones mediana ing espagueti pizza mediana pulgadas rebanadas con ingredientes al gusto mas litro de espagueti clasico de tomate '"
      ]
     },
     "execution_count": 76,
     "metadata": {},
     "output_type": "execute_result"
    }
   ],
   "source": [
    "df.item_text[i]"
   ]
  },
  {
   "cell_type": "code",
   "execution_count": 171,
   "metadata": {},
   "outputs": [
    {
     "data": {
      "text/plain": [
       "array([ 12,  54,  75,   2,   4, 324,  16, 394,  53,   5,   1,  24,   6,\n",
       "       395,  35,  21,  14,  13,  45,   0,   0,   0,   0,   0,   0,   0,\n",
       "         0,   0,   0,   0], dtype=int32)"
      ]
     },
     "execution_count": 171,
     "metadata": {},
     "output_type": "execute_result"
    }
   ],
   "source": [
    "X[i]"
   ]
  },
  {
   "cell_type": "code",
   "execution_count": 77,
   "metadata": {},
   "outputs": [],
   "source": [
    "outputs = model.predict(X[i:i+1])"
   ]
  },
  {
   "cell_type": "code",
   "execution_count": 78,
   "metadata": {},
   "outputs": [
    {
     "name": "stdout",
     "output_type": "stream",
     "text": [
      "[26]\n"
     ]
    }
   ],
   "source": [
    "pred_class = np.argmax(outputs,axis=1)\n",
    "print(pred_class)\n"
   ]
  },
  {
   "cell_type": "code",
   "execution_count": 79,
   "metadata": {},
   "outputs": [
    {
     "data": {
      "text/plain": [
       "array(['Hamburguesa'], dtype=object)"
      ]
     },
     "execution_count": 79,
     "metadata": {},
     "output_type": "execute_result"
    }
   ],
   "source": [
    "label_encoder.inverse_transform(pred_class)"
   ]
  },
  {
   "cell_type": "code",
   "execution_count": 80,
   "metadata": {},
   "outputs": [
    {
     "data": {
      "text/plain": [
       "array(['Hamburguesa'], dtype=object)"
      ]
     },
     "execution_count": 80,
     "metadata": {},
     "output_type": "execute_result"
    }
   ],
   "source": [
    "label_encoder.inverse_transform([np.argmax(y[i])])"
   ]
  },
  {
   "cell_type": "code",
   "execution_count": 114,
   "metadata": {},
   "outputs": [
    {
     "data": {
      "text/plain": [
       "array(['Alitas', 'Arabe', 'Arroces', 'Asiática otros', 'Barbacoa',\n",
       "       'Bebidas', 'Boneless', 'Botanas otros', 'Bowls', 'Burritos',\n",
       "       'Caldos', 'Cemitas', 'Chilaquiles', 'Comida china',\n",
       "       'Comida corrida', 'Cortes', 'Costillas', 'Crepas',\n",
       "       'Desayunos otros', 'Empanadas', 'Enchiladas', 'Ensalada',\n",
       "       'Flautas', 'Fruta', 'Garnachas otros', 'Gorditas', 'Hamburguesa',\n",
       "       'Helados', 'Hot cakes y waffles', 'Hot dog', 'Huevos y omelet',\n",
       "       'Internacional otros', 'Italiana', 'Mexicana otros', 'Milanesa',\n",
       "       'Nuggets', 'Otros otros', 'Panes', 'Panini', 'Papas', 'Pasta',\n",
       "       'Pasteles', 'Pastor', 'Pescado y mariscos', 'Pizza', 'Pollo',\n",
       "       'Postres otros', 'Pozole', 'Quesadillas', 'Sandwich', 'Sopas',\n",
       "       'Sushi', 'Tacos otros', 'Tamales', 'Torta', 'Tostadas', 'Vegano'],\n",
       "      dtype=object)"
      ]
     },
     "execution_count": 114,
     "metadata": {},
     "output_type": "execute_result"
    }
   ],
   "source": [
    "label_encoder.classes_"
   ]
  },
  {
   "cell_type": "markdown",
   "metadata": {},
   "source": [
    "# top n testing"
   ]
  },
  {
   "cell_type": "code",
   "execution_count": 81,
   "metadata": {},
   "outputs": [],
   "source": [
    "y_test_decoded = np.argmax(y_test,axis=1)"
   ]
  },
  {
   "cell_type": "code",
   "execution_count": 82,
   "metadata": {},
   "outputs": [],
   "source": [
    "test_accu = []\n",
    "test_muestras = []\n",
    "for i in range(n_classes-1):\n",
    "#     print('Evaluando ' + str(label_encoder.inverse_transform([i])) + ':\\n')\n",
    "    pred = model.predict(X_test[y_test_decoded == i])\n",
    "    try: \n",
    "        pred_decoded = np.argmax(pred,axis=1)\n",
    "    except:\n",
    "#         print('Esta clase no está representada')\n",
    "        test_accu.append(0)\n",
    "        test_muestras.append(0)\n",
    "        continue\n",
    "    acc = accuracy_score(y_test_decoded[y_test_decoded == i], pred_decoded)\n",
    "    \n",
    "    test_accu.append(acc)\n",
    "    test_muestras.append(np.sum([y_test_decoded == i]))\n",
    "#     print('accuracy: %' + str(acc) + ', con '+ str(np.sum([y_test_decoded == i]))+' muestras en test')"
   ]
  },
  {
   "cell_type": "code",
   "execution_count": 83,
   "metadata": {},
   "outputs": [],
   "source": [
    "train_accu = []\n",
    "train_muestras = []\n",
    "\n",
    "y_train_decoded = np.argmax(y_train,axis=1) \n",
    "for i in range(n_classes-1):\n",
    "#     print('Evaluando ' + str(label_encoder.inverse_transform([i])) + ':\\n')\n",
    "    pred = model.predict(X_train[y_train_decoded == i])\n",
    "    try: \n",
    "        pred_decoded = np.argmax(pred,axis=1)\n",
    "    except:\n",
    "#         print('Esta clase no está representada')\n",
    "        train_accu.append(0)\n",
    "        train_muestras.append(0)\n",
    "        continue\n",
    "    acc = accuracy_score(y_train_decoded[y_train_decoded == i], pred_decoded)\n",
    "    \n",
    "    train_accu.append(acc)\n",
    "    train_muestras.append(np.sum([y_train_decoded == i]))\n",
    "#     print('accuracy: %' + str(acc) + ', con '+ str(np.sum([y_test_decoded == i]))+' muestras en test')"
   ]
  },
  {
   "cell_type": "code",
   "execution_count": 84,
   "metadata": {},
   "outputs": [],
   "source": [
    "performance = pd.DataFrame(list(zip(test_accu, test_muestras, train_accu, train_muestras)), \n",
    "               columns =['test_accuracy', 'test_samples', 'train_accuracu', 'train_samples'], index = label_encoder.classes_[:-1]) \n"
   ]
  },
  {
   "cell_type": "code",
   "execution_count": 85,
   "metadata": {},
   "outputs": [
    {
     "data": {
      "text/html": [
       "<div>\n",
       "<style scoped>\n",
       "    .dataframe tbody tr th:only-of-type {\n",
       "        vertical-align: middle;\n",
       "    }\n",
       "\n",
       "    .dataframe tbody tr th {\n",
       "        vertical-align: top;\n",
       "    }\n",
       "\n",
       "    .dataframe thead th {\n",
       "        text-align: right;\n",
       "    }\n",
       "</style>\n",
       "<table border=\"1\" class=\"dataframe\">\n",
       "  <thead>\n",
       "    <tr style=\"text-align: right;\">\n",
       "      <th></th>\n",
       "      <th>test_accuracy</th>\n",
       "      <th>test_samples</th>\n",
       "      <th>train_accuracu</th>\n",
       "      <th>train_samples</th>\n",
       "    </tr>\n",
       "  </thead>\n",
       "  <tbody>\n",
       "    <tr>\n",
       "      <th>Internacional otros</th>\n",
       "      <td>0.000000</td>\n",
       "      <td>3</td>\n",
       "      <td>1.000000</td>\n",
       "      <td>9</td>\n",
       "    </tr>\n",
       "    <tr>\n",
       "      <th>Comida china</th>\n",
       "      <td>0.000000</td>\n",
       "      <td>4</td>\n",
       "      <td>0.900000</td>\n",
       "      <td>10</td>\n",
       "    </tr>\n",
       "    <tr>\n",
       "      <th>Mexicana otros</th>\n",
       "      <td>0.000000</td>\n",
       "      <td>1</td>\n",
       "      <td>0.727273</td>\n",
       "      <td>11</td>\n",
       "    </tr>\n",
       "    <tr>\n",
       "      <th>Nuggets</th>\n",
       "      <td>0.000000</td>\n",
       "      <td>3</td>\n",
       "      <td>0.960000</td>\n",
       "      <td>25</td>\n",
       "    </tr>\n",
       "    <tr>\n",
       "      <th>Sopas</th>\n",
       "      <td>0.157895</td>\n",
       "      <td>19</td>\n",
       "      <td>0.381818</td>\n",
       "      <td>55</td>\n",
       "    </tr>\n",
       "    <tr>\n",
       "      <th>Otros otros</th>\n",
       "      <td>0.214286</td>\n",
       "      <td>14</td>\n",
       "      <td>0.882353</td>\n",
       "      <td>102</td>\n",
       "    </tr>\n",
       "    <tr>\n",
       "      <th>Costillas</th>\n",
       "      <td>0.400000</td>\n",
       "      <td>5</td>\n",
       "      <td>1.000000</td>\n",
       "      <td>17</td>\n",
       "    </tr>\n",
       "    <tr>\n",
       "      <th>Garnachas otros</th>\n",
       "      <td>0.400000</td>\n",
       "      <td>10</td>\n",
       "      <td>0.901961</td>\n",
       "      <td>51</td>\n",
       "    </tr>\n",
       "    <tr>\n",
       "      <th>Cortes</th>\n",
       "      <td>0.451613</td>\n",
       "      <td>31</td>\n",
       "      <td>0.580838</td>\n",
       "      <td>167</td>\n",
       "    </tr>\n",
       "    <tr>\n",
       "      <th>Bowls</th>\n",
       "      <td>0.500000</td>\n",
       "      <td>2</td>\n",
       "      <td>0.944444</td>\n",
       "      <td>18</td>\n",
       "    </tr>\n",
       "    <tr>\n",
       "      <th>Postres otros</th>\n",
       "      <td>0.500000</td>\n",
       "      <td>20</td>\n",
       "      <td>0.875000</td>\n",
       "      <td>48</td>\n",
       "    </tr>\n",
       "    <tr>\n",
       "      <th>Asiática otros</th>\n",
       "      <td>0.500000</td>\n",
       "      <td>12</td>\n",
       "      <td>0.859649</td>\n",
       "      <td>57</td>\n",
       "    </tr>\n",
       "    <tr>\n",
       "      <th>Arabe</th>\n",
       "      <td>0.500000</td>\n",
       "      <td>2</td>\n",
       "      <td>0.888889</td>\n",
       "      <td>9</td>\n",
       "    </tr>\n",
       "    <tr>\n",
       "      <th>Milanesa</th>\n",
       "      <td>0.533333</td>\n",
       "      <td>15</td>\n",
       "      <td>0.895833</td>\n",
       "      <td>48</td>\n",
       "    </tr>\n",
       "    <tr>\n",
       "      <th>Pastor</th>\n",
       "      <td>0.600000</td>\n",
       "      <td>20</td>\n",
       "      <td>0.862069</td>\n",
       "      <td>58</td>\n",
       "    </tr>\n",
       "    <tr>\n",
       "      <th>Barbacoa</th>\n",
       "      <td>0.600000</td>\n",
       "      <td>5</td>\n",
       "      <td>0.954545</td>\n",
       "      <td>22</td>\n",
       "    </tr>\n",
       "    <tr>\n",
       "      <th>Helados</th>\n",
       "      <td>0.600000</td>\n",
       "      <td>10</td>\n",
       "      <td>0.891304</td>\n",
       "      <td>46</td>\n",
       "    </tr>\n",
       "    <tr>\n",
       "      <th>Desayunos otros</th>\n",
       "      <td>0.615385</td>\n",
       "      <td>13</td>\n",
       "      <td>0.924528</td>\n",
       "      <td>53</td>\n",
       "    </tr>\n",
       "    <tr>\n",
       "      <th>Botanas otros</th>\n",
       "      <td>0.625000</td>\n",
       "      <td>16</td>\n",
       "      <td>0.915254</td>\n",
       "      <td>59</td>\n",
       "    </tr>\n",
       "    <tr>\n",
       "      <th>Italiana</th>\n",
       "      <td>0.666667</td>\n",
       "      <td>6</td>\n",
       "      <td>1.000000</td>\n",
       "      <td>13</td>\n",
       "    </tr>\n",
       "    <tr>\n",
       "      <th>Tostadas</th>\n",
       "      <td>0.666667</td>\n",
       "      <td>3</td>\n",
       "      <td>1.000000</td>\n",
       "      <td>26</td>\n",
       "    </tr>\n",
       "    <tr>\n",
       "      <th>Hot cakes y waffles</th>\n",
       "      <td>0.692308</td>\n",
       "      <td>13</td>\n",
       "      <td>1.000000</td>\n",
       "      <td>42</td>\n",
       "    </tr>\n",
       "    <tr>\n",
       "      <th>Panini</th>\n",
       "      <td>0.714286</td>\n",
       "      <td>7</td>\n",
       "      <td>1.000000</td>\n",
       "      <td>14</td>\n",
       "    </tr>\n",
       "    <tr>\n",
       "      <th>Fruta</th>\n",
       "      <td>0.714286</td>\n",
       "      <td>7</td>\n",
       "      <td>0.950000</td>\n",
       "      <td>20</td>\n",
       "    </tr>\n",
       "    <tr>\n",
       "      <th>Pasteles</th>\n",
       "      <td>0.714286</td>\n",
       "      <td>7</td>\n",
       "      <td>0.962963</td>\n",
       "      <td>27</td>\n",
       "    </tr>\n",
       "    <tr>\n",
       "      <th>Tacos otros</th>\n",
       "      <td>0.719101</td>\n",
       "      <td>89</td>\n",
       "      <td>0.942598</td>\n",
       "      <td>331</td>\n",
       "    </tr>\n",
       "    <tr>\n",
       "      <th>Flautas</th>\n",
       "      <td>0.750000</td>\n",
       "      <td>8</td>\n",
       "      <td>0.909091</td>\n",
       "      <td>33</td>\n",
       "    </tr>\n",
       "    <tr>\n",
       "      <th>Tamales</th>\n",
       "      <td>0.750000</td>\n",
       "      <td>4</td>\n",
       "      <td>1.000000</td>\n",
       "      <td>13</td>\n",
       "    </tr>\n",
       "    <tr>\n",
       "      <th>Pollo</th>\n",
       "      <td>0.750000</td>\n",
       "      <td>24</td>\n",
       "      <td>0.937008</td>\n",
       "      <td>127</td>\n",
       "    </tr>\n",
       "    <tr>\n",
       "      <th>Crepas</th>\n",
       "      <td>0.769231</td>\n",
       "      <td>13</td>\n",
       "      <td>0.981818</td>\n",
       "      <td>55</td>\n",
       "    </tr>\n",
       "  </tbody>\n",
       "</table>\n",
       "</div>"
      ],
      "text/plain": [
       "                     test_accuracy  test_samples  train_accuracu  \\\n",
       "Internacional otros       0.000000             3        1.000000   \n",
       "Comida china              0.000000             4        0.900000   \n",
       "Mexicana otros            0.000000             1        0.727273   \n",
       "Nuggets                   0.000000             3        0.960000   \n",
       "Sopas                     0.157895            19        0.381818   \n",
       "Otros otros               0.214286            14        0.882353   \n",
       "Costillas                 0.400000             5        1.000000   \n",
       "Garnachas otros           0.400000            10        0.901961   \n",
       "Cortes                    0.451613            31        0.580838   \n",
       "Bowls                     0.500000             2        0.944444   \n",
       "Postres otros             0.500000            20        0.875000   \n",
       "Asiática otros            0.500000            12        0.859649   \n",
       "Arabe                     0.500000             2        0.888889   \n",
       "Milanesa                  0.533333            15        0.895833   \n",
       "Pastor                    0.600000            20        0.862069   \n",
       "Barbacoa                  0.600000             5        0.954545   \n",
       "Helados                   0.600000            10        0.891304   \n",
       "Desayunos otros           0.615385            13        0.924528   \n",
       "Botanas otros             0.625000            16        0.915254   \n",
       "Italiana                  0.666667             6        1.000000   \n",
       "Tostadas                  0.666667             3        1.000000   \n",
       "Hot cakes y waffles       0.692308            13        1.000000   \n",
       "Panini                    0.714286             7        1.000000   \n",
       "Fruta                     0.714286             7        0.950000   \n",
       "Pasteles                  0.714286             7        0.962963   \n",
       "Tacos otros               0.719101            89        0.942598   \n",
       "Flautas                   0.750000             8        0.909091   \n",
       "Tamales                   0.750000             4        1.000000   \n",
       "Pollo                     0.750000            24        0.937008   \n",
       "Crepas                    0.769231            13        0.981818   \n",
       "\n",
       "                     train_samples  \n",
       "Internacional otros              9  \n",
       "Comida china                    10  \n",
       "Mexicana otros                  11  \n",
       "Nuggets                         25  \n",
       "Sopas                           55  \n",
       "Otros otros                    102  \n",
       "Costillas                       17  \n",
       "Garnachas otros                 51  \n",
       "Cortes                         167  \n",
       "Bowls                           18  \n",
       "Postres otros                   48  \n",
       "Asiática otros                  57  \n",
       "Arabe                            9  \n",
       "Milanesa                        48  \n",
       "Pastor                          58  \n",
       "Barbacoa                        22  \n",
       "Helados                         46  \n",
       "Desayunos otros                 53  \n",
       "Botanas otros                   59  \n",
       "Italiana                        13  \n",
       "Tostadas                        26  \n",
       "Hot cakes y waffles             42  \n",
       "Panini                          14  \n",
       "Fruta                           20  \n",
       "Pasteles                        27  \n",
       "Tacos otros                    331  \n",
       "Flautas                         33  \n",
       "Tamales                         13  \n",
       "Pollo                          127  \n",
       "Crepas                          55  "
      ]
     },
     "execution_count": 85,
     "metadata": {},
     "output_type": "execute_result"
    }
   ],
   "source": [
    "performance.sort_values(by=['test_accuracy']).head(30)"
   ]
  },
  {
   "cell_type": "code",
   "execution_count": 86,
   "metadata": {},
   "outputs": [
    {
     "data": {
      "text/html": [
       "<div>\n",
       "<style scoped>\n",
       "    .dataframe tbody tr th:only-of-type {\n",
       "        vertical-align: middle;\n",
       "    }\n",
       "\n",
       "    .dataframe tbody tr th {\n",
       "        vertical-align: top;\n",
       "    }\n",
       "\n",
       "    .dataframe thead th {\n",
       "        text-align: right;\n",
       "    }\n",
       "</style>\n",
       "<table border=\"1\" class=\"dataframe\">\n",
       "  <thead>\n",
       "    <tr style=\"text-align: right;\">\n",
       "      <th></th>\n",
       "      <th>test_accuracy</th>\n",
       "      <th>test_samples</th>\n",
       "      <th>train_accuracu</th>\n",
       "      <th>train_samples</th>\n",
       "    </tr>\n",
       "  </thead>\n",
       "  <tbody>\n",
       "    <tr>\n",
       "      <th>Cemitas</th>\n",
       "      <td>1.000000</td>\n",
       "      <td>2</td>\n",
       "      <td>1.000000</td>\n",
       "      <td>8</td>\n",
       "    </tr>\n",
       "    <tr>\n",
       "      <th>Pozole</th>\n",
       "      <td>1.000000</td>\n",
       "      <td>5</td>\n",
       "      <td>1.000000</td>\n",
       "      <td>8</td>\n",
       "    </tr>\n",
       "    <tr>\n",
       "      <th>Arabe</th>\n",
       "      <td>0.500000</td>\n",
       "      <td>2</td>\n",
       "      <td>0.888889</td>\n",
       "      <td>9</td>\n",
       "    </tr>\n",
       "    <tr>\n",
       "      <th>Internacional otros</th>\n",
       "      <td>0.000000</td>\n",
       "      <td>3</td>\n",
       "      <td>1.000000</td>\n",
       "      <td>9</td>\n",
       "    </tr>\n",
       "    <tr>\n",
       "      <th>Comida china</th>\n",
       "      <td>0.000000</td>\n",
       "      <td>4</td>\n",
       "      <td>0.900000</td>\n",
       "      <td>10</td>\n",
       "    </tr>\n",
       "    <tr>\n",
       "      <th>Mexicana otros</th>\n",
       "      <td>0.000000</td>\n",
       "      <td>1</td>\n",
       "      <td>0.727273</td>\n",
       "      <td>11</td>\n",
       "    </tr>\n",
       "    <tr>\n",
       "      <th>Tamales</th>\n",
       "      <td>0.750000</td>\n",
       "      <td>4</td>\n",
       "      <td>1.000000</td>\n",
       "      <td>13</td>\n",
       "    </tr>\n",
       "    <tr>\n",
       "      <th>Italiana</th>\n",
       "      <td>0.666667</td>\n",
       "      <td>6</td>\n",
       "      <td>1.000000</td>\n",
       "      <td>13</td>\n",
       "    </tr>\n",
       "    <tr>\n",
       "      <th>Panini</th>\n",
       "      <td>0.714286</td>\n",
       "      <td>7</td>\n",
       "      <td>1.000000</td>\n",
       "      <td>14</td>\n",
       "    </tr>\n",
       "    <tr>\n",
       "      <th>Gorditas</th>\n",
       "      <td>1.000000</td>\n",
       "      <td>4</td>\n",
       "      <td>0.937500</td>\n",
       "      <td>16</td>\n",
       "    </tr>\n",
       "    <tr>\n",
       "      <th>Costillas</th>\n",
       "      <td>0.400000</td>\n",
       "      <td>5</td>\n",
       "      <td>1.000000</td>\n",
       "      <td>17</td>\n",
       "    </tr>\n",
       "    <tr>\n",
       "      <th>Bowls</th>\n",
       "      <td>0.500000</td>\n",
       "      <td>2</td>\n",
       "      <td>0.944444</td>\n",
       "      <td>18</td>\n",
       "    </tr>\n",
       "    <tr>\n",
       "      <th>Empanadas</th>\n",
       "      <td>0.833333</td>\n",
       "      <td>6</td>\n",
       "      <td>1.000000</td>\n",
       "      <td>19</td>\n",
       "    </tr>\n",
       "    <tr>\n",
       "      <th>Fruta</th>\n",
       "      <td>0.714286</td>\n",
       "      <td>7</td>\n",
       "      <td>0.950000</td>\n",
       "      <td>20</td>\n",
       "    </tr>\n",
       "    <tr>\n",
       "      <th>Barbacoa</th>\n",
       "      <td>0.600000</td>\n",
       "      <td>5</td>\n",
       "      <td>0.954545</td>\n",
       "      <td>22</td>\n",
       "    </tr>\n",
       "    <tr>\n",
       "      <th>Nuggets</th>\n",
       "      <td>0.000000</td>\n",
       "      <td>3</td>\n",
       "      <td>0.960000</td>\n",
       "      <td>25</td>\n",
       "    </tr>\n",
       "    <tr>\n",
       "      <th>Tostadas</th>\n",
       "      <td>0.666667</td>\n",
       "      <td>3</td>\n",
       "      <td>1.000000</td>\n",
       "      <td>26</td>\n",
       "    </tr>\n",
       "    <tr>\n",
       "      <th>Pasteles</th>\n",
       "      <td>0.714286</td>\n",
       "      <td>7</td>\n",
       "      <td>0.962963</td>\n",
       "      <td>27</td>\n",
       "    </tr>\n",
       "    <tr>\n",
       "      <th>Caldos</th>\n",
       "      <td>0.833333</td>\n",
       "      <td>6</td>\n",
       "      <td>0.965517</td>\n",
       "      <td>29</td>\n",
       "    </tr>\n",
       "    <tr>\n",
       "      <th>Flautas</th>\n",
       "      <td>0.750000</td>\n",
       "      <td>8</td>\n",
       "      <td>0.909091</td>\n",
       "      <td>33</td>\n",
       "    </tr>\n",
       "    <tr>\n",
       "      <th>Boneless</th>\n",
       "      <td>1.000000</td>\n",
       "      <td>11</td>\n",
       "      <td>0.969697</td>\n",
       "      <td>33</td>\n",
       "    </tr>\n",
       "    <tr>\n",
       "      <th>Pasta</th>\n",
       "      <td>0.777778</td>\n",
       "      <td>9</td>\n",
       "      <td>1.000000</td>\n",
       "      <td>42</td>\n",
       "    </tr>\n",
       "    <tr>\n",
       "      <th>Hot cakes y waffles</th>\n",
       "      <td>0.692308</td>\n",
       "      <td>13</td>\n",
       "      <td>1.000000</td>\n",
       "      <td>42</td>\n",
       "    </tr>\n",
       "    <tr>\n",
       "      <th>Panes</th>\n",
       "      <td>1.000000</td>\n",
       "      <td>10</td>\n",
       "      <td>0.906977</td>\n",
       "      <td>43</td>\n",
       "    </tr>\n",
       "    <tr>\n",
       "      <th>Helados</th>\n",
       "      <td>0.600000</td>\n",
       "      <td>10</td>\n",
       "      <td>0.891304</td>\n",
       "      <td>46</td>\n",
       "    </tr>\n",
       "    <tr>\n",
       "      <th>Milanesa</th>\n",
       "      <td>0.533333</td>\n",
       "      <td>15</td>\n",
       "      <td>0.895833</td>\n",
       "      <td>48</td>\n",
       "    </tr>\n",
       "    <tr>\n",
       "      <th>Postres otros</th>\n",
       "      <td>0.500000</td>\n",
       "      <td>20</td>\n",
       "      <td>0.875000</td>\n",
       "      <td>48</td>\n",
       "    </tr>\n",
       "    <tr>\n",
       "      <th>Garnachas otros</th>\n",
       "      <td>0.400000</td>\n",
       "      <td>10</td>\n",
       "      <td>0.901961</td>\n",
       "      <td>51</td>\n",
       "    </tr>\n",
       "    <tr>\n",
       "      <th>Desayunos otros</th>\n",
       "      <td>0.615385</td>\n",
       "      <td>13</td>\n",
       "      <td>0.924528</td>\n",
       "      <td>53</td>\n",
       "    </tr>\n",
       "    <tr>\n",
       "      <th>Sopas</th>\n",
       "      <td>0.157895</td>\n",
       "      <td>19</td>\n",
       "      <td>0.381818</td>\n",
       "      <td>55</td>\n",
       "    </tr>\n",
       "  </tbody>\n",
       "</table>\n",
       "</div>"
      ],
      "text/plain": [
       "                     test_accuracy  test_samples  train_accuracu  \\\n",
       "Cemitas                   1.000000             2        1.000000   \n",
       "Pozole                    1.000000             5        1.000000   \n",
       "Arabe                     0.500000             2        0.888889   \n",
       "Internacional otros       0.000000             3        1.000000   \n",
       "Comida china              0.000000             4        0.900000   \n",
       "Mexicana otros            0.000000             1        0.727273   \n",
       "Tamales                   0.750000             4        1.000000   \n",
       "Italiana                  0.666667             6        1.000000   \n",
       "Panini                    0.714286             7        1.000000   \n",
       "Gorditas                  1.000000             4        0.937500   \n",
       "Costillas                 0.400000             5        1.000000   \n",
       "Bowls                     0.500000             2        0.944444   \n",
       "Empanadas                 0.833333             6        1.000000   \n",
       "Fruta                     0.714286             7        0.950000   \n",
       "Barbacoa                  0.600000             5        0.954545   \n",
       "Nuggets                   0.000000             3        0.960000   \n",
       "Tostadas                  0.666667             3        1.000000   \n",
       "Pasteles                  0.714286             7        0.962963   \n",
       "Caldos                    0.833333             6        0.965517   \n",
       "Flautas                   0.750000             8        0.909091   \n",
       "Boneless                  1.000000            11        0.969697   \n",
       "Pasta                     0.777778             9        1.000000   \n",
       "Hot cakes y waffles       0.692308            13        1.000000   \n",
       "Panes                     1.000000            10        0.906977   \n",
       "Helados                   0.600000            10        0.891304   \n",
       "Milanesa                  0.533333            15        0.895833   \n",
       "Postres otros             0.500000            20        0.875000   \n",
       "Garnachas otros           0.400000            10        0.901961   \n",
       "Desayunos otros           0.615385            13        0.924528   \n",
       "Sopas                     0.157895            19        0.381818   \n",
       "\n",
       "                     train_samples  \n",
       "Cemitas                          8  \n",
       "Pozole                           8  \n",
       "Arabe                            9  \n",
       "Internacional otros              9  \n",
       "Comida china                    10  \n",
       "Mexicana otros                  11  \n",
       "Tamales                         13  \n",
       "Italiana                        13  \n",
       "Panini                          14  \n",
       "Gorditas                        16  \n",
       "Costillas                       17  \n",
       "Bowls                           18  \n",
       "Empanadas                       19  \n",
       "Fruta                           20  \n",
       "Barbacoa                        22  \n",
       "Nuggets                         25  \n",
       "Tostadas                        26  \n",
       "Pasteles                        27  \n",
       "Caldos                          29  \n",
       "Flautas                         33  \n",
       "Boneless                        33  \n",
       "Pasta                           42  \n",
       "Hot cakes y waffles             42  \n",
       "Panes                           43  \n",
       "Helados                         46  \n",
       "Milanesa                        48  \n",
       "Postres otros                   48  \n",
       "Garnachas otros                 51  \n",
       "Desayunos otros                 53  \n",
       "Sopas                           55  "
      ]
     },
     "execution_count": 86,
     "metadata": {},
     "output_type": "execute_result"
    }
   ],
   "source": [
    "performance.sort_values(by=['train_samples']).head(30)"
   ]
  },
  {
   "cell_type": "code",
   "execution_count": 87,
   "metadata": {},
   "outputs": [
    {
     "data": {
      "text/plain": [
       "5833"
      ]
     },
     "execution_count": 87,
     "metadata": {},
     "output_type": "execute_result"
    }
   ],
   "source": [
    "len(X)"
   ]
  },
  {
   "cell_type": "code",
   "execution_count": 90,
   "metadata": {},
   "outputs": [],
   "source": [
    "import matplotlib.pyplot as plt\n",
    "def label_ploting(category):\n",
    "    fig, axes = plt.subplots(1, 2)\n",
    "    \n",
    "    i = label_encoder.transform([category])[0]\n",
    "\n",
    "    y_train_decoded = np.argmax(y_train,axis=1)\n",
    "    pred = model.predict(X_train[y_train_decoded == i])\n",
    "    pred_decoded = np.argmax(pred,axis=1)\n",
    "    pd.DataFrame ({'values_': label_encoder.inverse_transform(pred_decoded) }).values_.value_counts()\\\n",
    "    .plot(kind='bar', grid=True, figsize=(16, 7),ax=axes[1],\n",
    "          title=\"Predicted for \" + category + ' in training data')\n",
    "    \n",
    "    y_train_decoded = np.argmax(y_test,axis=1)\n",
    "    pred = model.predict(X_test[y_test_decoded == i])\n",
    "    pred_decoded = np.argmax(pred,axis=1)\n",
    "    pd.DataFrame ({'values_': label_encoder.inverse_transform(pred_decoded) }).values_.value_counts()\\\n",
    "    .plot(kind='bar', grid=True,ax=axes[0],\n",
    "          title=\"Predicted for \" + category + ' in test data')\n",
    "    \n",
    "    print(df[df.T2_corrected == category].sample(7)['item_text'].head(7))\n"
   ]
  },
  {
   "cell_type": "code",
   "execution_count": 91,
   "metadata": {},
   "outputs": [
    {
     "name": "stdout",
     "output_type": "stream",
     "text": [
      "3700    comida viernes tampiqueña de arrachera gr y so...\n",
      "5739    arma tu pedido wok mezcla de la casa incluye p...\n",
      "4405    woks chop suey grs dos porciones incluye mezcl...\n",
      "3129    refresca más tu comida de descuento en pollo s...\n",
      "1654    tradicionales kung pao famoso platillo picante...\n",
      "5384               pan chino pan chino de cerdo dulce nan\n",
      "50      sopas fideo chino fendi fideo cristalino troci...\n",
      "Name: item_text, dtype: object\n"
     ]
    },
    {
     "data": {
      "image/png": "[encoded data removed]",
      "text/plain": [
       "<Figure size 1152x504 with 2 Axes>"
      ]
     },
     "metadata": {
      "needs_background": "light"
     },
     "output_type": "display_data"
    }
   ],
   "source": [
    "label_ploting('Comida china')"
   ]
  },
  {
   "cell_type": "code",
   "execution_count": 63,
   "metadata": {},
   "outputs": [
    {
     "data": {
      "text/html": [
       "<div>\n",
       "<style scoped>\n",
       "    .dataframe tbody tr th:only-of-type {\n",
       "        vertical-align: middle;\n",
       "    }\n",
       "\n",
       "    .dataframe tbody tr th {\n",
       "        vertical-align: top;\n",
       "    }\n",
       "\n",
       "    .dataframe thead th {\n",
       "        text-align: right;\n",
       "    }\n",
       "</style>\n",
       "<table border=\"1\" class=\"dataframe\">\n",
       "  <thead>\n",
       "    <tr style=\"text-align: right;\">\n",
       "      <th></th>\n",
       "      <th>test_accuracy</th>\n",
       "      <th>test_samples</th>\n",
       "      <th>train_accuracu</th>\n",
       "      <th>train_samples</th>\n",
       "    </tr>\n",
       "  </thead>\n",
       "  <tbody>\n",
       "    <tr>\n",
       "      <th>Cemitas</th>\n",
       "      <td>1.000000</td>\n",
       "      <td>4</td>\n",
       "      <td>1.000000</td>\n",
       "      <td>8</td>\n",
       "    </tr>\n",
       "    <tr>\n",
       "      <th>Arabe</th>\n",
       "      <td>0.000000</td>\n",
       "      <td>2</td>\n",
       "      <td>0.800000</td>\n",
       "      <td>10</td>\n",
       "    </tr>\n",
       "    <tr>\n",
       "      <th>Mexicana otros</th>\n",
       "      <td>0.000000</td>\n",
       "      <td>3</td>\n",
       "      <td>0.600000</td>\n",
       "      <td>10</td>\n",
       "    </tr>\n",
       "    <tr>\n",
       "      <th>Internacional Otros</th>\n",
       "      <td>0.000000</td>\n",
       "      <td>3</td>\n",
       "      <td>0.636364</td>\n",
       "      <td>11</td>\n",
       "    </tr>\n",
       "    <tr>\n",
       "      <th>Saludable otros</th>\n",
       "      <td>0.000000</td>\n",
       "      <td>0</td>\n",
       "      <td>1.000000</td>\n",
       "      <td>11</td>\n",
       "    </tr>\n",
       "    <tr>\n",
       "      <th>Comida china</th>\n",
       "      <td>0.500000</td>\n",
       "      <td>4</td>\n",
       "      <td>1.000000</td>\n",
       "      <td>13</td>\n",
       "    </tr>\n",
       "    <tr>\n",
       "      <th>Pozole</th>\n",
       "      <td>0.500000</td>\n",
       "      <td>2</td>\n",
       "      <td>1.000000</td>\n",
       "      <td>13</td>\n",
       "    </tr>\n",
       "    <tr>\n",
       "      <th>Vegano</th>\n",
       "      <td>1.000000</td>\n",
       "      <td>1</td>\n",
       "      <td>0.846154</td>\n",
       "      <td>13</td>\n",
       "    </tr>\n",
       "    <tr>\n",
       "      <th>Bowls</th>\n",
       "      <td>0.166667</td>\n",
       "      <td>6</td>\n",
       "      <td>0.857143</td>\n",
       "      <td>14</td>\n",
       "    </tr>\n",
       "    <tr>\n",
       "      <th>Tamales</th>\n",
       "      <td>1.000000</td>\n",
       "      <td>2</td>\n",
       "      <td>1.000000</td>\n",
       "      <td>16</td>\n",
       "    </tr>\n",
       "    <tr>\n",
       "      <th>Italiana</th>\n",
       "      <td>0.250000</td>\n",
       "      <td>4</td>\n",
       "      <td>0.875000</td>\n",
       "      <td>16</td>\n",
       "    </tr>\n",
       "    <tr>\n",
       "      <th>Fruta</th>\n",
       "      <td>0.545455</td>\n",
       "      <td>11</td>\n",
       "      <td>1.000000</td>\n",
       "      <td>18</td>\n",
       "    </tr>\n",
       "    <tr>\n",
       "      <th>Empanadas</th>\n",
       "      <td>1.000000</td>\n",
       "      <td>9</td>\n",
       "      <td>1.000000</td>\n",
       "      <td>18</td>\n",
       "    </tr>\n",
       "    <tr>\n",
       "      <th>Panini</th>\n",
       "      <td>0.857143</td>\n",
       "      <td>7</td>\n",
       "      <td>1.000000</td>\n",
       "      <td>19</td>\n",
       "    </tr>\n",
       "    <tr>\n",
       "      <th>Gorditas</th>\n",
       "      <td>0.800000</td>\n",
       "      <td>5</td>\n",
       "      <td>1.000000</td>\n",
       "      <td>20</td>\n",
       "    </tr>\n",
       "    <tr>\n",
       "      <th>Tacos otros</th>\n",
       "      <td>0.000000</td>\n",
       "      <td>4</td>\n",
       "      <td>0.619048</td>\n",
       "      <td>21</td>\n",
       "    </tr>\n",
       "    <tr>\n",
       "      <th>Costillas</th>\n",
       "      <td>0.571429</td>\n",
       "      <td>7</td>\n",
       "      <td>0.909091</td>\n",
       "      <td>22</td>\n",
       "    </tr>\n",
       "    <tr>\n",
       "      <th>Barbacoa</th>\n",
       "      <td>0.666667</td>\n",
       "      <td>6</td>\n",
       "      <td>1.000000</td>\n",
       "      <td>25</td>\n",
       "    </tr>\n",
       "    <tr>\n",
       "      <th>Nuggets</th>\n",
       "      <td>0.800000</td>\n",
       "      <td>5</td>\n",
       "      <td>0.923077</td>\n",
       "      <td>26</td>\n",
       "    </tr>\n",
       "    <tr>\n",
       "      <th>Tostadas</th>\n",
       "      <td>0.777778</td>\n",
       "      <td>9</td>\n",
       "      <td>0.866667</td>\n",
       "      <td>30</td>\n",
       "    </tr>\n",
       "  </tbody>\n",
       "</table>\n",
       "</div>"
      ],
      "text/plain": [
       "                     test_accuracy  test_samples  train_accuracu  \\\n",
       "Cemitas                   1.000000             4        1.000000   \n",
       "Arabe                     0.000000             2        0.800000   \n",
       "Mexicana otros            0.000000             3        0.600000   \n",
       "Internacional Otros       0.000000             3        0.636364   \n",
       "Saludable otros           0.000000             0        1.000000   \n",
       "Comida china              0.500000             4        1.000000   \n",
       "Pozole                    0.500000             2        1.000000   \n",
       "Vegano                    1.000000             1        0.846154   \n",
       "Bowls                     0.166667             6        0.857143   \n",
       "Tamales                   1.000000             2        1.000000   \n",
       "Italiana                  0.250000             4        0.875000   \n",
       "Fruta                     0.545455            11        1.000000   \n",
       "Empanadas                 1.000000             9        1.000000   \n",
       "Panini                    0.857143             7        1.000000   \n",
       "Gorditas                  0.800000             5        1.000000   \n",
       "Tacos otros               0.000000             4        0.619048   \n",
       "Costillas                 0.571429             7        0.909091   \n",
       "Barbacoa                  0.666667             6        1.000000   \n",
       "Nuggets                   0.800000             5        0.923077   \n",
       "Tostadas                  0.777778             9        0.866667   \n",
       "\n",
       "                     train_samples  \n",
       "Cemitas                          8  \n",
       "Arabe                           10  \n",
       "Mexicana otros                  10  \n",
       "Internacional Otros             11  \n",
       "Saludable otros                 11  \n",
       "Comida china                    13  \n",
       "Pozole                          13  \n",
       "Vegano                          13  \n",
       "Bowls                           14  \n",
       "Tamales                         16  \n",
       "Italiana                        16  \n",
       "Fruta                           18  \n",
       "Empanadas                       18  \n",
       "Panini                          19  \n",
       "Gorditas                        20  \n",
       "Tacos otros                     21  \n",
       "Costillas                       22  \n",
       "Barbacoa                        25  \n",
       "Nuggets                         26  \n",
       "Tostadas                        30  "
      ]
     },
     "execution_count": 63,
     "metadata": {},
     "output_type": "execute_result"
    }
   ],
   "source": [
    "performance.sort_values(by=['train_samples']).head(20)"
   ]
  },
  {
   "cell_type": "code",
   "execution_count": null,
   "metadata": {},
   "outputs": [],
   "source": []
  },
  {
   "cell_type": "code",
   "execution_count": 64,
   "metadata": {},
   "outputs": [
    {
     "data": {
      "text/plain": [
       "Index(['Alitas', 'Arabe', 'Arroces', 'Asiática otros', 'Barbacoa', 'Bebidas',\n",
       "       'Boneless', 'Botanas otros', 'Bowls', 'Burritos', 'Caldos', 'Cemitas',\n",
       "       'Chilaquiles', 'Comida china', 'Comida corrida', 'Cortes', 'Costillas',\n",
       "       'Crepas', 'Desayunos otros', 'Empanadas', 'Enchiladas', 'Ensalada',\n",
       "       'Flautas', 'Fruta', 'Garnachas Otros', 'Gorditas', 'Hamburguesa',\n",
       "       'Helados', 'Hot cakes y waffles', 'Hot dog', 'Huevos y omelet',\n",
       "       'Internacional Otros', 'Italiana', 'Mexicana otros', 'Milanesa',\n",
       "       'Nuggets', 'Otros otros', 'Panes', 'Panini', 'Papas', 'Pasta',\n",
       "       'Pasteles', 'Pastor', 'Pescado y mariscos', 'Pizza', 'Pollo',\n",
       "       'Postres otros', 'Pozole', 'Quesadillas', 'Saludable otros', 'Sandwich',\n",
       "       'Sopas', 'Sushi', 'Tacos Otros', 'Tacos otros', 'Tamales', 'Torta',\n",
       "       'Tostadas', 'Vegano'],\n",
       "      dtype='object')"
      ]
     },
     "execution_count": 64,
     "metadata": {},
     "output_type": "execute_result"
    }
   ],
   "source": [
    "performance.index"
   ]
  },
  {
   "cell_type": "code",
   "execution_count": 65,
   "metadata": {},
   "outputs": [],
   "source": [
    "# class fix"
   ]
  },
  {
   "cell_type": "code",
   "execution_count": 66,
   "metadata": {},
   "outputs": [],
   "source": [
    "# df.loc[[lab in set(['Thai']) for lab in df.T2_corrected],['T2_corrected']] = 'Asiática otros' \n",
    "# df.loc[[lab in set(['Nachos']) for lab in df.T2_corrected],['T2_corrected']] = 'Botanas otros' \n",
    "# df.loc[[lab in set(['Bistek']) for lab in df.T2_corrected],['T2_corrected']] = 'Tacos otros' \n",
    "# df.loc[[lab in set(['Pizza gourmet','Pizza americana']) for lab in df.T2_corrected],['T2_corrected']] = 'Pizza' \n",
    "# df.loc[[lab in set(['Bagguetes']) for lab in df.T2_corrected],['T2_corrected']] = 'Torta' "
   ]
  },
  {
   "cell_type": "code",
   "execution_count": null,
   "metadata": {},
   "outputs": [],
   "source": []
  }
 ],
 "metadata": {
  "kernelspec": {
   "display_name": "Python 3",
   "language": "python",
   "name": "python3"
  },
  "language_info": {
   "codemirror_mode": {
    "name": "ipython",
    "version": 3
   },
   "file_extension": ".py",
   "mimetype": "text/x-python",
   "name": "python",
   "nbconvert_exporter": "python",
   "pygments_lexer": "ipython3",
   "version": "3.6.8"
  }
 },
 "nbformat": 4,
 "nbformat_minor": 4
}
