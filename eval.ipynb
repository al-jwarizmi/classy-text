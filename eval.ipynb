{
 "cells": [
  {
   "cell_type": "code",
   "execution_count": 1,
   "metadata": {},
   "outputs": [
    {
     "name": "stderr",
     "output_type": "stream",
     "text": [
      "Using TensorFlow backend.\n"
     ]
    },
    {
     "name": "stdout",
     "output_type": "stream",
     "text": [
      "WARNING:tensorflow:From /home/fred/Desktop/taxonomy/env/lib/python3.6/site-packages/keras/backend/tensorflow_backend.py:541: The name tf.placeholder is deprecated. Please use tf.compat.v1.placeholder instead.\n",
      "\n",
      "WARNING:tensorflow:From /home/fred/Desktop/taxonomy/env/lib/python3.6/site-packages/keras/backend/tensorflow_backend.py:66: The name tf.get_default_graph is deprecated. Please use tf.compat.v1.get_default_graph instead.\n",
      "\n",
      "WARNING:tensorflow:From /home/fred/Desktop/taxonomy/env/lib/python3.6/site-packages/keras/backend/tensorflow_backend.py:4432: The name tf.random_uniform is deprecated. Please use tf.random.uniform instead.\n",
      "\n",
      "WARNING:tensorflow:From /home/fred/Desktop/taxonomy/env/lib/python3.6/site-packages/keras/backend/tensorflow_backend.py:148: The name tf.placeholder_with_default is deprecated. Please use tf.compat.v1.placeholder_with_default instead.\n",
      "\n",
      "WARNING:tensorflow:From /home/fred/Desktop/taxonomy/env/lib/python3.6/site-packages/keras/backend/tensorflow_backend.py:3733: calling dropout (from tensorflow.python.ops.nn_ops) with keep_prob is deprecated and will be removed in a future version.\n",
      "Instructions for updating:\n",
      "Please use `rate` instead of `keep_prob`. Rate should be set to `rate = 1 - keep_prob`.\n",
      "WARNING:tensorflow:From /home/fred/Desktop/taxonomy/env/lib/python3.6/site-packages/keras/backend/tensorflow_backend.py:190: The name tf.get_default_session is deprecated. Please use tf.compat.v1.get_default_session instead.\n",
      "\n",
      "WARNING:tensorflow:From /home/fred/Desktop/taxonomy/env/lib/python3.6/site-packages/keras/backend/tensorflow_backend.py:197: The name tf.ConfigProto is deprecated. Please use tf.compat.v1.ConfigProto instead.\n",
      "\n",
      "WARNING:tensorflow:From /home/fred/Desktop/taxonomy/env/lib/python3.6/site-packages/keras/backend/tensorflow_backend.py:203: The name tf.Session is deprecated. Please use tf.compat.v1.Session instead.\n",
      "\n",
      "WARNING:tensorflow:From /home/fred/Desktop/taxonomy/env/lib/python3.6/site-packages/keras/backend/tensorflow_backend.py:207: The name tf.global_variables is deprecated. Please use tf.compat.v1.global_variables instead.\n",
      "\n",
      "WARNING:tensorflow:From /home/fred/Desktop/taxonomy/env/lib/python3.6/site-packages/keras/backend/tensorflow_backend.py:216: The name tf.is_variable_initialized is deprecated. Please use tf.compat.v1.is_variable_initialized instead.\n",
      "\n",
      "WARNING:tensorflow:From /home/fred/Desktop/taxonomy/env/lib/python3.6/site-packages/keras/backend/tensorflow_backend.py:223: The name tf.variables_initializer is deprecated. Please use tf.compat.v1.variables_initializer instead.\n",
      "\n",
      "WARNING:tensorflow:From /home/fred/Desktop/taxonomy/env/lib/python3.6/site-packages/keras/optimizers.py:793: The name tf.train.Optimizer is deprecated. Please use tf.compat.v1.train.Optimizer instead.\n",
      "\n",
      "WARNING:tensorflow:From /home/fred/Desktop/taxonomy/env/lib/python3.6/site-packages/keras/backend/tensorflow_backend.py:3576: The name tf.log is deprecated. Please use tf.math.log instead.\n",
      "\n"
     ]
    }
   ],
   "source": [
    "from keras.models import load_model\n",
    "from attn_layer import *\n",
    "# import tensorflow.compat.v1 as tf\n",
    "# tf.disable_v2_behavior()\n",
    "\n",
    "model = load_model('bilstm_attention_cnn_V2.h5', custom_objects={'AttentionWithContext' : AttentionWithContext},\n",
    "                   compile=False)\n",
    "model.compile(loss='categorical_crossentropy', optimizer='adam')"
   ]
  },
  {
   "cell_type": "code",
   "execution_count": 7,
   "metadata": {},
   "outputs": [],
   "source": [
    "import pandas as pd\n",
    "import pickle\n",
    "\n",
    "df = pd.read_pickle('todos_prueba_1.pkl')"
   ]
  },
  {
   "cell_type": "code",
   "execution_count": 8,
   "metadata": {},
   "outputs": [],
   "source": [
    "from gensim.test.utils import get_tmpfile\n",
    "from gensim.models import KeyedVectors\n",
    "import string\n",
    "import gensim\n",
    "\n",
    "fname = \"w2v_dish_1M.kv\"\n",
    "\n",
    "word_model = gensim.models.Word2Vec.load(fname, mmap='r')\n",
    "pretrained_weights = word_model.wv.vectors\n",
    "\n",
    "\n",
    "def word2idx(word):\n",
    "    try:    \n",
    "        return word_model.wv.vocab[word].index\n",
    "    except:\n",
    "        return 0\n",
    "    \n",
    "def idx2word(idx):\n",
    "    return word_model.wv.index2word[idx]\n"
   ]
  },
  {
   "cell_type": "code",
   "execution_count": 12,
   "metadata": {},
   "outputs": [
    {
     "name": "stdout",
     "output_type": "stream",
     "text": [
      "\n",
      "Preparing input data...\n",
      "X shape: (915619, 30)\n"
     ]
    }
   ],
   "source": [
    "import numpy as np\n",
    "\n",
    "print('\\nPreparing input data...')\n",
    "\n",
    "sentences = df.tokens\n",
    "max_length = 30\n",
    "\n",
    "X = np.zeros([len(sentences), max_length], dtype=np.int32) \n",
    "for i, sentence in enumerate(sentences):\n",
    "    for t, word in enumerate(sentence[:max_length]):\n",
    "        X[i, t] = word2idx(word)\n",
    "            \n",
    "print('X shape:', X.shape)\n"
   ]
  },
  {
   "cell_type": "code",
   "execution_count": 13,
   "metadata": {},
   "outputs": [],
   "source": [
    "y_pred = model.predict(X)\n",
    "y_pred_decoded = np.argmax(y_pred,axis=1)"
   ]
  },
  {
   "cell_type": "code",
   "execution_count": 29,
   "metadata": {},
   "outputs": [],
   "source": [
    "labels = ['Alitas', 'Arabe', 'Arroces', 'Asiática otros', 'Barbacoa',\n",
    "       'Bebidas', 'Boneless', 'Botanas otros', 'Bowls', 'Burritos',\n",
    "       'Caldos', 'Cemitas', 'Chilaquiles', 'Comida china',\n",
    "       'Comida corrida', 'Cortes', 'Costillas', 'Crepas',\n",
    "       'Desayunos otros', 'Empanadas', 'Enchiladas', 'Ensalada',\n",
    "       'Flautas', 'Fruta', 'Garnachas otros', 'Gorditas', 'Hamburguesa',\n",
    "       'Helados', 'Hot cakes y waffles', 'Hot dog', 'Huevos y omelet',\n",
    "       'Internacional otros', 'Italiana', 'Mexicana otros', 'Milanesa',\n",
    "       'Nuggets', 'Otros otros', 'Panes', 'Panini', 'Papas', 'Pasta',\n",
    "       'Pasteles', 'Pastor', 'Pescado y mariscos', 'Pizza', 'Pollo',\n",
    "       'Postres otros', 'Pozole', 'Quesadillas', 'Sandwich', 'Sopas',\n",
    "       'Sushi', 'Tacos otros', 'Tamales', 'Torta', 'Tostadas', 'Vegano']"
   ]
  },
  {
   "cell_type": "code",
   "execution_count": 15,
   "metadata": {},
   "outputs": [
    {
     "data": {
      "text/plain": [
       "array([2.8887758e-04, 5.7059620e-04, 4.7420730e-05, 2.2994697e-03,\n",
       "       3.2162928e-04, 1.1931306e-04, 8.1523045e-05, 1.7575240e-02,\n",
       "       2.2032161e-04, 5.7285646e-04, 5.6217996e-05, 4.5952282e-05,\n",
       "       3.3941740e-04, 1.1897390e-04, 2.7955817e-03, 5.7944166e-04,\n",
       "       1.7043378e-04, 1.3779203e-05, 2.5421318e-02, 1.0828720e-04,\n",
       "       2.4727345e-04, 2.9544224e-04, 2.0742283e-04, 2.8035618e-04,\n",
       "       1.0816299e-03, 1.6597839e-04, 1.5254401e-03, 1.0691789e-04,\n",
       "       1.6761424e-04, 5.1385915e-04, 1.9916059e-03, 5.8742714e-01,\n",
       "       1.5269413e-04, 9.6484402e-04, 2.2475612e-03, 7.0825679e-04,\n",
       "       2.8049138e-03, 6.4773209e-02, 4.7648372e-03, 1.9303465e-02,\n",
       "       3.1924871e-04, 9.8153418e-05, 6.1770750e-04, 3.1226666e-03,\n",
       "       4.7253636e-03, 4.8648446e-05, 7.4412458e-04, 4.6864057e-05,\n",
       "       6.0443900e-04, 3.4525995e-03, 2.3200024e-04, 2.1981383e-05,\n",
       "       8.7480405e-03, 1.2241816e-04, 2.3476467e-01, 2.6150930e-04,\n",
       "       5.9248420e-04], dtype=float32)"
      ]
     },
     "execution_count": 15,
     "metadata": {},
     "output_type": "execute_result"
    }
   ],
   "source": [
    "y_pred[0]"
   ]
  },
  {
   "cell_type": "code",
   "execution_count": 20,
   "metadata": {},
   "outputs": [],
   "source": [
    "prob = [y_pred[i][y_pred_decoded[i]] for i in range(len(y_pred))]"
   ]
  },
  {
   "cell_type": "code",
   "execution_count": 22,
   "metadata": {},
   "outputs": [],
   "source": [
    "df['predicted'] = y_pred_decoded\n",
    "df['probability'] = prob"
   ]
  },
  {
   "cell_type": "code",
   "execution_count": 30,
   "metadata": {},
   "outputs": [],
   "source": [
    "str_label = [labels[prd] for prd in y_pred_decoded]"
   ]
  },
  {
   "cell_type": "code",
   "execution_count": 31,
   "metadata": {},
   "outputs": [],
   "source": [
    "df['predicted_label'] = str_label"
   ]
  },
  {
   "cell_type": "code",
   "execution_count": 32,
   "metadata": {},
   "outputs": [],
   "source": [
    "df[['frn_id','item_code','category','item_name','item_description','predicted','probability','predicted_label']].to_csv('tax_etiquetados_prueba0130_ALL.csv')"
   ]
  },
  {
   "cell_type": "code",
   "execution_count": null,
   "metadata": {},
   "outputs": [],
   "source": []
  }
 ],
 "metadata": {
  "kernelspec": {
   "display_name": "Python 3",
   "language": "python",
   "name": "python3"
  },
  "language_info": {
   "codemirror_mode": {
    "name": "ipython",
    "version": 3
   },
   "file_extension": ".py",
   "mimetype": "text/x-python",
   "name": "python",
   "nbconvert_exporter": "python",
   "pygments_lexer": "ipython3",
   "version": "3.6.8"
  }
 },
 "nbformat": 4,
 "nbformat_minor": 4
}
